{
 "cells": [
  {
   "cell_type": "code",
   "execution_count": 2,
   "metadata": {
    "collapsed": true
   },
   "outputs": [],
   "source": [
    "import pandas as pd\n",
    "import requests\n",
    "import json\n",
    "import time\n",
    "import tabula"
   ]
  },
  {
   "cell_type": "code",
   "execution_count": 3,
   "outputs": [
    {
     "name": "stderr",
     "output_type": "stream",
     "text": [
      "Got stderr: Oct 01, 2022 10:36:40 PM org.apache.pdfbox.pdmodel.font.FileSystemFontProvider loadDiskCache\n",
      "WARNING: New fonts found, font cache will be re-built\n",
      "Oct 01, 2022 10:36:40 PM org.apache.pdfbox.pdmodel.font.FileSystemFontProvider <init>\n",
      "WARNING: Building on-disk font cache, this may take a while\n",
      "Oct 01, 2022 10:36:43 PM org.apache.pdfbox.pdmodel.font.FileSystemFontProvider <init>\n",
      "WARNING: Finished building on-disk font cache, found 784 fonts\n",
      "\n"
     ]
    }
   ],
   "source": [
    "tabula.convert_into('data/Daily-Reference-Values-(DRVs)-under-the-New-NFL.pdf', output_format=\"csv\", pages='all', output_path='data/Daily-Reference-Values-(DRVs)-under-the-New-NFL.csv')"
   ],
   "metadata": {
    "collapsed": false,
    "pycharm": {
     "name": "#%%\n"
    }
   }
  },
  {
   "cell_type": "code",
   "execution_count": 4,
   "outputs": [
    {
     "data": {
      "text/plain": "  DRVs - Food Components       Unnamed: 1                      Unnamed: 2  \\\n0        Food\\rComponent  Unit of measure  Adults and Children ≥ 4\\ryears   \n1                    Fat        Grams (g)                             178   \n2          Saturated fat        Grams (g)                             120   \n3            Cholesterol  Milligrams (mg)                             300   \n4   Total\\rcarbohydrates        Grams (g)                            1275   \n5                 Sodium  Milligrams (mg)                           2,300   \n6          Dietary Fiber        Grams (g)                             128   \n7                Protein        Grams (g)                             150   \n8           Added sugars        Grams (g)                             150   \n\n                   Unnamed: 3                   Unnamed: 4  \\\n0  Infants through 12\\rmonths  Children 1 through 3\\ryears   \n1                          30                          239   \n2                         NaN                          210   \n3                         NaN                          300   \n4                          95                         2150   \n5                         NaN                        1,500   \n6                         NaN                          214   \n7                         NaN                          213   \n8                         NaN                          225   \n\n                            Unnamed: 5  \n0  Pregnant women and\\rlactating women  \n1                                  178  \n2                                  120  \n3                                  300  \n4                                 1275  \n5                                2,300  \n6                                  128  \n7                                  NaN  \n8                                  150  ",
      "text/html": "<div>\n<style scoped>\n    .dataframe tbody tr th:only-of-type {\n        vertical-align: middle;\n    }\n\n    .dataframe tbody tr th {\n        vertical-align: top;\n    }\n\n    .dataframe thead th {\n        text-align: right;\n    }\n</style>\n<table border=\"1\" class=\"dataframe\">\n  <thead>\n    <tr style=\"text-align: right;\">\n      <th></th>\n      <th>DRVs - Food Components</th>\n      <th>Unnamed: 1</th>\n      <th>Unnamed: 2</th>\n      <th>Unnamed: 3</th>\n      <th>Unnamed: 4</th>\n      <th>Unnamed: 5</th>\n    </tr>\n  </thead>\n  <tbody>\n    <tr>\n      <th>0</th>\n      <td>Food\\rComponent</td>\n      <td>Unit of measure</td>\n      <td>Adults and Children ≥ 4\\ryears</td>\n      <td>Infants through 12\\rmonths</td>\n      <td>Children 1 through 3\\ryears</td>\n      <td>Pregnant women and\\rlactating women</td>\n    </tr>\n    <tr>\n      <th>1</th>\n      <td>Fat</td>\n      <td>Grams (g)</td>\n      <td>178</td>\n      <td>30</td>\n      <td>239</td>\n      <td>178</td>\n    </tr>\n    <tr>\n      <th>2</th>\n      <td>Saturated fat</td>\n      <td>Grams (g)</td>\n      <td>120</td>\n      <td>NaN</td>\n      <td>210</td>\n      <td>120</td>\n    </tr>\n    <tr>\n      <th>3</th>\n      <td>Cholesterol</td>\n      <td>Milligrams (mg)</td>\n      <td>300</td>\n      <td>NaN</td>\n      <td>300</td>\n      <td>300</td>\n    </tr>\n    <tr>\n      <th>4</th>\n      <td>Total\\rcarbohydrates</td>\n      <td>Grams (g)</td>\n      <td>1275</td>\n      <td>95</td>\n      <td>2150</td>\n      <td>1275</td>\n    </tr>\n    <tr>\n      <th>5</th>\n      <td>Sodium</td>\n      <td>Milligrams (mg)</td>\n      <td>2,300</td>\n      <td>NaN</td>\n      <td>1,500</td>\n      <td>2,300</td>\n    </tr>\n    <tr>\n      <th>6</th>\n      <td>Dietary Fiber</td>\n      <td>Grams (g)</td>\n      <td>128</td>\n      <td>NaN</td>\n      <td>214</td>\n      <td>128</td>\n    </tr>\n    <tr>\n      <th>7</th>\n      <td>Protein</td>\n      <td>Grams (g)</td>\n      <td>150</td>\n      <td>NaN</td>\n      <td>213</td>\n      <td>NaN</td>\n    </tr>\n    <tr>\n      <th>8</th>\n      <td>Added sugars</td>\n      <td>Grams (g)</td>\n      <td>150</td>\n      <td>NaN</td>\n      <td>225</td>\n      <td>150</td>\n    </tr>\n  </tbody>\n</table>\n</div>"
     },
     "execution_count": 4,
     "metadata": {},
     "output_type": "execute_result"
    }
   ],
   "source": [
    "df0 = pd.read_csv('data/Daily-Reference-Values-(DRVs)-under-the-New-NFL.csv')\n",
    "df0"
   ],
   "metadata": {
    "collapsed": false,
    "pycharm": {
     "name": "#%%\n"
    }
   }
  },
  {
   "cell_type": "code",
   "execution_count": 5,
   "outputs": [
    {
     "data": {
      "text/plain": "               Nutrient  Daily dose in G\n1                   Fat             78.0\n2         Saturated fat             20.0\n3           Cholesterol              0.3\n4  Total\\rcarbohydrates            275.0\n5                Sodium              2.3\n6         Dietary Fiber             28.0\n7               Protein             50.0\n8          Added sugars             50.0",
      "text/html": "<div>\n<style scoped>\n    .dataframe tbody tr th:only-of-type {\n        vertical-align: middle;\n    }\n\n    .dataframe tbody tr th {\n        vertical-align: top;\n    }\n\n    .dataframe thead th {\n        text-align: right;\n    }\n</style>\n<table border=\"1\" class=\"dataframe\">\n  <thead>\n    <tr style=\"text-align: right;\">\n      <th></th>\n      <th>Nutrient</th>\n      <th>Daily dose in G</th>\n    </tr>\n  </thead>\n  <tbody>\n    <tr>\n      <th>1</th>\n      <td>Fat</td>\n      <td>78.0</td>\n    </tr>\n    <tr>\n      <th>2</th>\n      <td>Saturated fat</td>\n      <td>20.0</td>\n    </tr>\n    <tr>\n      <th>3</th>\n      <td>Cholesterol</td>\n      <td>0.3</td>\n    </tr>\n    <tr>\n      <th>4</th>\n      <td>Total\\rcarbohydrates</td>\n      <td>275.0</td>\n    </tr>\n    <tr>\n      <th>5</th>\n      <td>Sodium</td>\n      <td>2.3</td>\n    </tr>\n    <tr>\n      <th>6</th>\n      <td>Dietary Fiber</td>\n      <td>28.0</td>\n    </tr>\n    <tr>\n      <th>7</th>\n      <td>Protein</td>\n      <td>50.0</td>\n    </tr>\n    <tr>\n      <th>8</th>\n      <td>Added sugars</td>\n      <td>50.0</td>\n    </tr>\n  </tbody>\n</table>\n</div>"
     },
     "execution_count": 5,
     "metadata": {},
     "output_type": "execute_result"
    }
   ],
   "source": [
    "daily_reference = pd.DataFrame()\n",
    "daily_reference['Nutrient'] = df0['DRVs - Food Components'][1:]\n",
    "daily_reference['Daily dose in G'] = df0['Unnamed: 2'][1:].str[1:]\n",
    "daily_reference['Daily dose in G'][daily_reference['Nutrient'] == 'Cholesterol'] = 0.3\n",
    "daily_reference['Daily dose in G'][daily_reference['Nutrient'] == 'Sodium'] = 2.3\n",
    "daily_reference['Daily dose in G'] = daily_reference['Daily dose in G'].astype(float)\n",
    "daily_reference"
   ],
   "metadata": {
    "collapsed": false,
    "pycharm": {
     "name": "#%%\n"
    }
   }
  },
  {
   "cell_type": "code",
   "execution_count": 6,
   "outputs": [],
   "source": [
    "tabula.convert_into('data/Reference-Daily-Intakes-(RDIs)-in-the-New-Nutrition-Facts-Label.pdf', output_format=\"csv\", pages='all', output_path='data/Reference-Daily-Intakes-(RDIs)-in-the-New-Nutrition-Facts-Label.csv')"
   ],
   "metadata": {
    "collapsed": false,
    "pycharm": {
     "name": "#%%\n"
    }
   }
  },
  {
   "cell_type": "code",
   "execution_count": 7,
   "outputs": [
    {
     "data": {
      "text/plain": "    RDIs - Nutrients             Unnamed: 1 Unnamed: 2 Unnamed: 3 Unnamed: 4  \\\n1          Vitamin A  Micrograms RAE2 (mcg)        900        500        300   \n2          Vitamin C        Milligrams (mg)         90         50         15   \n3            Calcium        Milligrams (mg)      1,300        260        700   \n4               Iron        Milligrams (mg)         18         11          7   \n5          Vitamin D      Micrograms (mcg)3         20         10         15   \n6          Vitamin E       Milligrams (mg)4         15          5          6   \n7          Vitamin K       Micrograms (mcg)        120        2.5         30   \n8            Thiamin        Milligrams (mg)        1.2        0.3        0.5   \n9         Riboflavin        Milligrams (mg)        1.3        0.4        0.5   \n10            Niacin    Milligrams NE5 (mg)         16          4          6   \n11        Vitamin B6        Milligrams (mg)        1.7        0.3        0.5   \n12           Folate6  Micrograms DFE7 (mcg)        400         80        150   \n13       Vitamin B12       Micrograms (mcg)        2.4        0.5        0.9   \n14            Biotin       Micrograms (mcg)         30          6          8   \n15  Pantothenic acid        Milligrams (mg)          5        1.8          2   \n16        Phosphorus        Milligrams (mg)      1,250        275        460   \n17            Iodine       Micrograms (mcg)        150        130         90   \n18         Magnesium        Milligrams (mg)        420         75         80   \n19              Zinc        Milligrams (mg)         11          3          3   \n20          Selenium       Micrograms (mcg)         55         20         20   \n21            Copper        Milligrams (mg)        0.9        0.2        0.3   \n22         Manganese        Milligrams (mg)        2.3        0.6        1.2   \n23          Chromium       Micrograms (mcg)         35        5.5         11   \n24        Molybdenum       Micrograms (mcg)         45          3         17   \n25          Chloride        Milligrams (mg)      2,300        570      1,500   \n26         Potassium        Milligrams (mg)      4,700        700      3,000   \n27           Choline        Milligrams (mg)        550        150        200   \n\n   Unnamed: 5  \n1       1,300  \n2         120  \n3       1,300  \n4          27  \n5          15  \n6          19  \n7          90  \n8         1.4  \n9         1.6  \n10         18  \n11          2  \n12        600  \n13        2.8  \n14         35  \n15          7  \n16      1,250  \n17        290  \n18        400  \n19         13  \n20         70  \n21        1.3  \n22        2.6  \n23         45  \n24         50  \n25      2,300  \n26      5,100  \n27        550  ",
      "text/html": "<div>\n<style scoped>\n    .dataframe tbody tr th:only-of-type {\n        vertical-align: middle;\n    }\n\n    .dataframe tbody tr th {\n        vertical-align: top;\n    }\n\n    .dataframe thead th {\n        text-align: right;\n    }\n</style>\n<table border=\"1\" class=\"dataframe\">\n  <thead>\n    <tr style=\"text-align: right;\">\n      <th></th>\n      <th>RDIs - Nutrients</th>\n      <th>Unnamed: 1</th>\n      <th>Unnamed: 2</th>\n      <th>Unnamed: 3</th>\n      <th>Unnamed: 4</th>\n      <th>Unnamed: 5</th>\n    </tr>\n  </thead>\n  <tbody>\n    <tr>\n      <th>1</th>\n      <td>Vitamin A</td>\n      <td>Micrograms RAE2 (mcg)</td>\n      <td>900</td>\n      <td>500</td>\n      <td>300</td>\n      <td>1,300</td>\n    </tr>\n    <tr>\n      <th>2</th>\n      <td>Vitamin C</td>\n      <td>Milligrams (mg)</td>\n      <td>90</td>\n      <td>50</td>\n      <td>15</td>\n      <td>120</td>\n    </tr>\n    <tr>\n      <th>3</th>\n      <td>Calcium</td>\n      <td>Milligrams (mg)</td>\n      <td>1,300</td>\n      <td>260</td>\n      <td>700</td>\n      <td>1,300</td>\n    </tr>\n    <tr>\n      <th>4</th>\n      <td>Iron</td>\n      <td>Milligrams (mg)</td>\n      <td>18</td>\n      <td>11</td>\n      <td>7</td>\n      <td>27</td>\n    </tr>\n    <tr>\n      <th>5</th>\n      <td>Vitamin D</td>\n      <td>Micrograms (mcg)3</td>\n      <td>20</td>\n      <td>10</td>\n      <td>15</td>\n      <td>15</td>\n    </tr>\n    <tr>\n      <th>6</th>\n      <td>Vitamin E</td>\n      <td>Milligrams (mg)4</td>\n      <td>15</td>\n      <td>5</td>\n      <td>6</td>\n      <td>19</td>\n    </tr>\n    <tr>\n      <th>7</th>\n      <td>Vitamin K</td>\n      <td>Micrograms (mcg)</td>\n      <td>120</td>\n      <td>2.5</td>\n      <td>30</td>\n      <td>90</td>\n    </tr>\n    <tr>\n      <th>8</th>\n      <td>Thiamin</td>\n      <td>Milligrams (mg)</td>\n      <td>1.2</td>\n      <td>0.3</td>\n      <td>0.5</td>\n      <td>1.4</td>\n    </tr>\n    <tr>\n      <th>9</th>\n      <td>Riboflavin</td>\n      <td>Milligrams (mg)</td>\n      <td>1.3</td>\n      <td>0.4</td>\n      <td>0.5</td>\n      <td>1.6</td>\n    </tr>\n    <tr>\n      <th>10</th>\n      <td>Niacin</td>\n      <td>Milligrams NE5 (mg)</td>\n      <td>16</td>\n      <td>4</td>\n      <td>6</td>\n      <td>18</td>\n    </tr>\n    <tr>\n      <th>11</th>\n      <td>Vitamin B6</td>\n      <td>Milligrams (mg)</td>\n      <td>1.7</td>\n      <td>0.3</td>\n      <td>0.5</td>\n      <td>2</td>\n    </tr>\n    <tr>\n      <th>12</th>\n      <td>Folate6</td>\n      <td>Micrograms DFE7 (mcg)</td>\n      <td>400</td>\n      <td>80</td>\n      <td>150</td>\n      <td>600</td>\n    </tr>\n    <tr>\n      <th>13</th>\n      <td>Vitamin B12</td>\n      <td>Micrograms (mcg)</td>\n      <td>2.4</td>\n      <td>0.5</td>\n      <td>0.9</td>\n      <td>2.8</td>\n    </tr>\n    <tr>\n      <th>14</th>\n      <td>Biotin</td>\n      <td>Micrograms (mcg)</td>\n      <td>30</td>\n      <td>6</td>\n      <td>8</td>\n      <td>35</td>\n    </tr>\n    <tr>\n      <th>15</th>\n      <td>Pantothenic acid</td>\n      <td>Milligrams (mg)</td>\n      <td>5</td>\n      <td>1.8</td>\n      <td>2</td>\n      <td>7</td>\n    </tr>\n    <tr>\n      <th>16</th>\n      <td>Phosphorus</td>\n      <td>Milligrams (mg)</td>\n      <td>1,250</td>\n      <td>275</td>\n      <td>460</td>\n      <td>1,250</td>\n    </tr>\n    <tr>\n      <th>17</th>\n      <td>Iodine</td>\n      <td>Micrograms (mcg)</td>\n      <td>150</td>\n      <td>130</td>\n      <td>90</td>\n      <td>290</td>\n    </tr>\n    <tr>\n      <th>18</th>\n      <td>Magnesium</td>\n      <td>Milligrams (mg)</td>\n      <td>420</td>\n      <td>75</td>\n      <td>80</td>\n      <td>400</td>\n    </tr>\n    <tr>\n      <th>19</th>\n      <td>Zinc</td>\n      <td>Milligrams (mg)</td>\n      <td>11</td>\n      <td>3</td>\n      <td>3</td>\n      <td>13</td>\n    </tr>\n    <tr>\n      <th>20</th>\n      <td>Selenium</td>\n      <td>Micrograms (mcg)</td>\n      <td>55</td>\n      <td>20</td>\n      <td>20</td>\n      <td>70</td>\n    </tr>\n    <tr>\n      <th>21</th>\n      <td>Copper</td>\n      <td>Milligrams (mg)</td>\n      <td>0.9</td>\n      <td>0.2</td>\n      <td>0.3</td>\n      <td>1.3</td>\n    </tr>\n    <tr>\n      <th>22</th>\n      <td>Manganese</td>\n      <td>Milligrams (mg)</td>\n      <td>2.3</td>\n      <td>0.6</td>\n      <td>1.2</td>\n      <td>2.6</td>\n    </tr>\n    <tr>\n      <th>23</th>\n      <td>Chromium</td>\n      <td>Micrograms (mcg)</td>\n      <td>35</td>\n      <td>5.5</td>\n      <td>11</td>\n      <td>45</td>\n    </tr>\n    <tr>\n      <th>24</th>\n      <td>Molybdenum</td>\n      <td>Micrograms (mcg)</td>\n      <td>45</td>\n      <td>3</td>\n      <td>17</td>\n      <td>50</td>\n    </tr>\n    <tr>\n      <th>25</th>\n      <td>Chloride</td>\n      <td>Milligrams (mg)</td>\n      <td>2,300</td>\n      <td>570</td>\n      <td>1,500</td>\n      <td>2,300</td>\n    </tr>\n    <tr>\n      <th>26</th>\n      <td>Potassium</td>\n      <td>Milligrams (mg)</td>\n      <td>4,700</td>\n      <td>700</td>\n      <td>3,000</td>\n      <td>5,100</td>\n    </tr>\n    <tr>\n      <th>27</th>\n      <td>Choline</td>\n      <td>Milligrams (mg)</td>\n      <td>550</td>\n      <td>150</td>\n      <td>200</td>\n      <td>550</td>\n    </tr>\n  </tbody>\n</table>\n</div>"
     },
     "execution_count": 7,
     "metadata": {},
     "output_type": "execute_result"
    }
   ],
   "source": [
    "df1 = pd.read_csv('data/Reference-Daily-Intakes-(RDIs)-in-the-New-Nutrition-Facts-Label.csv')\n",
    "df1.drop(df1.tail(3).index,inplace=True)\n",
    "df1.drop(df1.head(1).index,inplace=True)\n",
    "df1"
   ],
   "metadata": {
    "collapsed": false,
    "pycharm": {
     "name": "#%%\n"
    }
   }
  },
  {
   "cell_type": "code",
   "execution_count": 8,
   "outputs": [
    {
     "name": "stderr",
     "output_type": "stream",
     "text": [
      "/Users/hbrent/PythonDS/MINE/myenv/lib/python3.7/site-packages/ipykernel_launcher.py:2: SettingWithCopyWarning: \n",
      "A value is trying to be set on a copy of a slice from a DataFrame.\n",
      "Try using .loc[row_indexer,col_indexer] = value instead\n",
      "\n",
      "See the caveats in the documentation: https://pandas.pydata.org/pandas-docs/stable/user_guide/indexing.html#returning-a-view-versus-a-copy\n",
      "  \n",
      "/Users/hbrent/PythonDS/MINE/myenv/lib/python3.7/site-packages/ipykernel_launcher.py:3: SettingWithCopyWarning: \n",
      "A value is trying to be set on a copy of a slice from a DataFrame.\n",
      "Try using .loc[row_indexer,col_indexer] = value instead\n",
      "\n",
      "See the caveats in the documentation: https://pandas.pydata.org/pandas-docs/stable/user_guide/indexing.html#returning-a-view-versus-a-copy\n",
      "  This is separate from the ipykernel package so we can avoid doing imports until\n",
      "/Users/hbrent/PythonDS/MINE/myenv/lib/python3.7/site-packages/pandas/core/frame.py:4913: SettingWithCopyWarning: \n",
      "A value is trying to be set on a copy of a slice from a DataFrame\n",
      "\n",
      "See the caveats in the documentation: https://pandas.pydata.org/pandas-docs/stable/user_guide/indexing.html#returning-a-view-versus-a-copy\n",
      "  errors=errors,\n",
      "/Users/hbrent/PythonDS/MINE/myenv/lib/python3.7/site-packages/pandas/core/frame.py:5047: SettingWithCopyWarning: \n",
      "A value is trying to be set on a copy of a slice from a DataFrame\n",
      "\n",
      "See the caveats in the documentation: https://pandas.pydata.org/pandas-docs/stable/user_guide/indexing.html#returning-a-view-versus-a-copy\n",
      "  errors=errors,\n"
     ]
    },
    {
     "data": {
      "text/plain": "            Nutrient  Daily dose in G\n2          Vitamin C           0.0900\n3            Calcium           1.3000\n4               Iron           0.0180\n6          Vitamin E           0.0150\n8            Thiamin           0.0012\n9         Riboflavin           0.0013\n10            Niacin           0.0160\n11        Vitamin B6           0.0017\n15  Pantothenic acid           0.0050\n16        Phosphorus           1.2500\n18         Magnesium           0.4200\n19              Zinc           0.0110\n21            Copper           0.0009\n22         Manganese           0.0023\n25          Chloride           2.3000\n26         Potassium           4.7000\n27           Choline           0.5500",
      "text/html": "<div>\n<style scoped>\n    .dataframe tbody tr th:only-of-type {\n        vertical-align: middle;\n    }\n\n    .dataframe tbody tr th {\n        vertical-align: top;\n    }\n\n    .dataframe thead th {\n        text-align: right;\n    }\n</style>\n<table border=\"1\" class=\"dataframe\">\n  <thead>\n    <tr style=\"text-align: right;\">\n      <th></th>\n      <th>Nutrient</th>\n      <th>Daily dose in G</th>\n    </tr>\n  </thead>\n  <tbody>\n    <tr>\n      <th>2</th>\n      <td>Vitamin C</td>\n      <td>0.0900</td>\n    </tr>\n    <tr>\n      <th>3</th>\n      <td>Calcium</td>\n      <td>1.3000</td>\n    </tr>\n    <tr>\n      <th>4</th>\n      <td>Iron</td>\n      <td>0.0180</td>\n    </tr>\n    <tr>\n      <th>6</th>\n      <td>Vitamin E</td>\n      <td>0.0150</td>\n    </tr>\n    <tr>\n      <th>8</th>\n      <td>Thiamin</td>\n      <td>0.0012</td>\n    </tr>\n    <tr>\n      <th>9</th>\n      <td>Riboflavin</td>\n      <td>0.0013</td>\n    </tr>\n    <tr>\n      <th>10</th>\n      <td>Niacin</td>\n      <td>0.0160</td>\n    </tr>\n    <tr>\n      <th>11</th>\n      <td>Vitamin B6</td>\n      <td>0.0017</td>\n    </tr>\n    <tr>\n      <th>15</th>\n      <td>Pantothenic acid</td>\n      <td>0.0050</td>\n    </tr>\n    <tr>\n      <th>16</th>\n      <td>Phosphorus</td>\n      <td>1.2500</td>\n    </tr>\n    <tr>\n      <th>18</th>\n      <td>Magnesium</td>\n      <td>0.4200</td>\n    </tr>\n    <tr>\n      <th>19</th>\n      <td>Zinc</td>\n      <td>0.0110</td>\n    </tr>\n    <tr>\n      <th>21</th>\n      <td>Copper</td>\n      <td>0.0009</td>\n    </tr>\n    <tr>\n      <th>22</th>\n      <td>Manganese</td>\n      <td>0.0023</td>\n    </tr>\n    <tr>\n      <th>25</th>\n      <td>Chloride</td>\n      <td>2.3000</td>\n    </tr>\n    <tr>\n      <th>26</th>\n      <td>Potassium</td>\n      <td>4.7000</td>\n    </tr>\n    <tr>\n      <th>27</th>\n      <td>Choline</td>\n      <td>0.5500</td>\n    </tr>\n  </tbody>\n</table>\n</div>"
     },
     "execution_count": 8,
     "metadata": {},
     "output_type": "execute_result"
    }
   ],
   "source": [
    "df_add1 = df1[(df1['Unnamed: 1'] == 'Milligrams (mg)') | (df1['Unnamed: 1'] == 'Milligrams NE5 (mg)') | (df1['Unnamed: 1'] == 'Milligrams (mg)4')]\n",
    "df_add1['Unnamed: 2'] = df_add1['Unnamed: 2'].str.replace(',', '')\n",
    "df_add1['Unnamed: 2'] = df_add1['Unnamed: 2'].astype(float) / 1000\n",
    "df_add1.drop(columns=['Unnamed: 1', 'Unnamed: 3', 'Unnamed: 4', 'Unnamed: 5'], inplace=True)\n",
    "df_add1.rename(columns={'RDIs - Nutrients' : 'Nutrient', 'Unnamed: 2' : 'Daily dose in G'}, inplace=True)\n",
    "df_add1"
   ],
   "metadata": {
    "collapsed": false,
    "pycharm": {
     "name": "#%%\n"
    }
   }
  },
  {
   "cell_type": "code",
   "execution_count": 9,
   "outputs": [
    {
     "name": "stderr",
     "output_type": "stream",
     "text": [
      "/Users/hbrent/PythonDS/MINE/myenv/lib/python3.7/site-packages/ipykernel_launcher.py:2: SettingWithCopyWarning: \n",
      "A value is trying to be set on a copy of a slice from a DataFrame.\n",
      "Try using .loc[row_indexer,col_indexer] = value instead\n",
      "\n",
      "See the caveats in the documentation: https://pandas.pydata.org/pandas-docs/stable/user_guide/indexing.html#returning-a-view-versus-a-copy\n",
      "  \n",
      "/Users/hbrent/PythonDS/MINE/myenv/lib/python3.7/site-packages/pandas/core/frame.py:4913: SettingWithCopyWarning: \n",
      "A value is trying to be set on a copy of a slice from a DataFrame\n",
      "\n",
      "See the caveats in the documentation: https://pandas.pydata.org/pandas-docs/stable/user_guide/indexing.html#returning-a-view-versus-a-copy\n",
      "  errors=errors,\n",
      "/Users/hbrent/PythonDS/MINE/myenv/lib/python3.7/site-packages/pandas/core/frame.py:5047: SettingWithCopyWarning: \n",
      "A value is trying to be set on a copy of a slice from a DataFrame\n",
      "\n",
      "See the caveats in the documentation: https://pandas.pydata.org/pandas-docs/stable/user_guide/indexing.html#returning-a-view-versus-a-copy\n",
      "  errors=errors,\n"
     ]
    },
    {
     "data": {
      "text/plain": "       Nutrient  Daily dose in G\n1     Vitamin A         0.000900\n5     Vitamin D         0.000020\n7     Vitamin K         0.000120\n12      Folate6         0.000400\n13  Vitamin B12         0.000002\n14       Biotin         0.000030\n17       Iodine         0.000150\n20     Selenium         0.000055\n23     Chromium         0.000035\n24   Molybdenum         0.000045",
      "text/html": "<div>\n<style scoped>\n    .dataframe tbody tr th:only-of-type {\n        vertical-align: middle;\n    }\n\n    .dataframe tbody tr th {\n        vertical-align: top;\n    }\n\n    .dataframe thead th {\n        text-align: right;\n    }\n</style>\n<table border=\"1\" class=\"dataframe\">\n  <thead>\n    <tr style=\"text-align: right;\">\n      <th></th>\n      <th>Nutrient</th>\n      <th>Daily dose in G</th>\n    </tr>\n  </thead>\n  <tbody>\n    <tr>\n      <th>1</th>\n      <td>Vitamin A</td>\n      <td>0.000900</td>\n    </tr>\n    <tr>\n      <th>5</th>\n      <td>Vitamin D</td>\n      <td>0.000020</td>\n    </tr>\n    <tr>\n      <th>7</th>\n      <td>Vitamin K</td>\n      <td>0.000120</td>\n    </tr>\n    <tr>\n      <th>12</th>\n      <td>Folate6</td>\n      <td>0.000400</td>\n    </tr>\n    <tr>\n      <th>13</th>\n      <td>Vitamin B12</td>\n      <td>0.000002</td>\n    </tr>\n    <tr>\n      <th>14</th>\n      <td>Biotin</td>\n      <td>0.000030</td>\n    </tr>\n    <tr>\n      <th>17</th>\n      <td>Iodine</td>\n      <td>0.000150</td>\n    </tr>\n    <tr>\n      <th>20</th>\n      <td>Selenium</td>\n      <td>0.000055</td>\n    </tr>\n    <tr>\n      <th>23</th>\n      <td>Chromium</td>\n      <td>0.000035</td>\n    </tr>\n    <tr>\n      <th>24</th>\n      <td>Molybdenum</td>\n      <td>0.000045</td>\n    </tr>\n  </tbody>\n</table>\n</div>"
     },
     "execution_count": 9,
     "metadata": {},
     "output_type": "execute_result"
    }
   ],
   "source": [
    "df_add2 = df1[(df1['Unnamed: 1'] != 'Milligrams (mg)') & (df1['Unnamed: 1'] != 'Milligrams NE5 (mg)') & (df1['Unnamed: 1'] != 'Milligrams (mg)4')]\n",
    "df_add2['Unnamed: 2'] = df_add2['Unnamed: 2'].astype(float) / 10 ** 6\n",
    "df_add2.drop(columns=['Unnamed: 1', 'Unnamed: 3', 'Unnamed: 4', 'Unnamed: 5'], inplace=True)\n",
    "df_add2.rename(columns={'RDIs - Nutrients' : 'Nutrient', 'Unnamed: 2' : 'Daily dose in G'}, inplace=True)\n",
    "df_add2"
   ],
   "metadata": {
    "collapsed": false,
    "pycharm": {
     "name": "#%%\n"
    }
   }
  },
  {
   "cell_type": "code",
   "execution_count": 10,
   "outputs": [
    {
     "data": {
      "text/plain": "                Nutrient  Daily dose in G\n0                    Fat        78.000000\n1          Saturated fat        20.000000\n2            Cholesterol         0.300000\n3   Total\\rcarbohydrates       275.000000\n4                 Sodium         2.300000\n5          Dietary Fiber        28.000000\n6                Protein        50.000000\n7           Added sugars        50.000000\n8              Vitamin C         0.090000\n9                Calcium         1.300000\n10                  Iron         0.018000\n11             Vitamin E         0.015000\n12               Thiamin         0.001200\n13            Riboflavin         0.001300\n14                Niacin         0.016000\n15            Vitamin B6         0.001700\n16      Pantothenic acid         0.005000\n17            Phosphorus         1.250000\n18             Magnesium         0.420000\n19                  Zinc         0.011000\n20                Copper         0.000900\n21             Manganese         0.002300\n22              Chloride         2.300000\n23             Potassium         4.700000\n24               Choline         0.550000\n25             Vitamin A         0.000900\n26             Vitamin D         0.000020\n27             Vitamin K         0.000120\n28               Folate6         0.000400\n29           Vitamin B12         0.000002\n30                Biotin         0.000030\n31                Iodine         0.000150\n32              Selenium         0.000055\n33              Chromium         0.000035\n34            Molybdenum         0.000045",
      "text/html": "<div>\n<style scoped>\n    .dataframe tbody tr th:only-of-type {\n        vertical-align: middle;\n    }\n\n    .dataframe tbody tr th {\n        vertical-align: top;\n    }\n\n    .dataframe thead th {\n        text-align: right;\n    }\n</style>\n<table border=\"1\" class=\"dataframe\">\n  <thead>\n    <tr style=\"text-align: right;\">\n      <th></th>\n      <th>Nutrient</th>\n      <th>Daily dose in G</th>\n    </tr>\n  </thead>\n  <tbody>\n    <tr>\n      <th>0</th>\n      <td>Fat</td>\n      <td>78.000000</td>\n    </tr>\n    <tr>\n      <th>1</th>\n      <td>Saturated fat</td>\n      <td>20.000000</td>\n    </tr>\n    <tr>\n      <th>2</th>\n      <td>Cholesterol</td>\n      <td>0.300000</td>\n    </tr>\n    <tr>\n      <th>3</th>\n      <td>Total\\rcarbohydrates</td>\n      <td>275.000000</td>\n    </tr>\n    <tr>\n      <th>4</th>\n      <td>Sodium</td>\n      <td>2.300000</td>\n    </tr>\n    <tr>\n      <th>5</th>\n      <td>Dietary Fiber</td>\n      <td>28.000000</td>\n    </tr>\n    <tr>\n      <th>6</th>\n      <td>Protein</td>\n      <td>50.000000</td>\n    </tr>\n    <tr>\n      <th>7</th>\n      <td>Added sugars</td>\n      <td>50.000000</td>\n    </tr>\n    <tr>\n      <th>8</th>\n      <td>Vitamin C</td>\n      <td>0.090000</td>\n    </tr>\n    <tr>\n      <th>9</th>\n      <td>Calcium</td>\n      <td>1.300000</td>\n    </tr>\n    <tr>\n      <th>10</th>\n      <td>Iron</td>\n      <td>0.018000</td>\n    </tr>\n    <tr>\n      <th>11</th>\n      <td>Vitamin E</td>\n      <td>0.015000</td>\n    </tr>\n    <tr>\n      <th>12</th>\n      <td>Thiamin</td>\n      <td>0.001200</td>\n    </tr>\n    <tr>\n      <th>13</th>\n      <td>Riboflavin</td>\n      <td>0.001300</td>\n    </tr>\n    <tr>\n      <th>14</th>\n      <td>Niacin</td>\n      <td>0.016000</td>\n    </tr>\n    <tr>\n      <th>15</th>\n      <td>Vitamin B6</td>\n      <td>0.001700</td>\n    </tr>\n    <tr>\n      <th>16</th>\n      <td>Pantothenic acid</td>\n      <td>0.005000</td>\n    </tr>\n    <tr>\n      <th>17</th>\n      <td>Phosphorus</td>\n      <td>1.250000</td>\n    </tr>\n    <tr>\n      <th>18</th>\n      <td>Magnesium</td>\n      <td>0.420000</td>\n    </tr>\n    <tr>\n      <th>19</th>\n      <td>Zinc</td>\n      <td>0.011000</td>\n    </tr>\n    <tr>\n      <th>20</th>\n      <td>Copper</td>\n      <td>0.000900</td>\n    </tr>\n    <tr>\n      <th>21</th>\n      <td>Manganese</td>\n      <td>0.002300</td>\n    </tr>\n    <tr>\n      <th>22</th>\n      <td>Chloride</td>\n      <td>2.300000</td>\n    </tr>\n    <tr>\n      <th>23</th>\n      <td>Potassium</td>\n      <td>4.700000</td>\n    </tr>\n    <tr>\n      <th>24</th>\n      <td>Choline</td>\n      <td>0.550000</td>\n    </tr>\n    <tr>\n      <th>25</th>\n      <td>Vitamin A</td>\n      <td>0.000900</td>\n    </tr>\n    <tr>\n      <th>26</th>\n      <td>Vitamin D</td>\n      <td>0.000020</td>\n    </tr>\n    <tr>\n      <th>27</th>\n      <td>Vitamin K</td>\n      <td>0.000120</td>\n    </tr>\n    <tr>\n      <th>28</th>\n      <td>Folate6</td>\n      <td>0.000400</td>\n    </tr>\n    <tr>\n      <th>29</th>\n      <td>Vitamin B12</td>\n      <td>0.000002</td>\n    </tr>\n    <tr>\n      <th>30</th>\n      <td>Biotin</td>\n      <td>0.000030</td>\n    </tr>\n    <tr>\n      <th>31</th>\n      <td>Iodine</td>\n      <td>0.000150</td>\n    </tr>\n    <tr>\n      <th>32</th>\n      <td>Selenium</td>\n      <td>0.000055</td>\n    </tr>\n    <tr>\n      <th>33</th>\n      <td>Chromium</td>\n      <td>0.000035</td>\n    </tr>\n    <tr>\n      <th>34</th>\n      <td>Molybdenum</td>\n      <td>0.000045</td>\n    </tr>\n  </tbody>\n</table>\n</div>"
     },
     "execution_count": 10,
     "metadata": {},
     "output_type": "execute_result"
    }
   ],
   "source": [
    "daily_reference = daily_reference.append(df_add1, ignore_index=True)\n",
    "daily_reference = daily_reference.append(df_add2, ignore_index=True)\n",
    "daily_reference"
   ],
   "metadata": {
    "collapsed": false,
    "pycharm": {
     "name": "#%%\n"
    }
   }
  },
  {
   "cell_type": "code",
   "execution_count": 11,
   "outputs": [],
   "source": [
    "daily_reference.to_csv('data/daily_reference.csv')"
   ],
   "metadata": {
    "collapsed": false,
    "pycharm": {
     "name": "#%%\n"
    }
   }
  },
  {
   "cell_type": "code",
   "execution_count": 13,
   "outputs": [
    {
     "data": {
      "text/plain": "{'Fat': 78.0,\n 'Saturated fat': 20.0,\n 'Cholesterol': 0.3,\n 'Total\\rcarbohydrates': 275.0,\n 'Sodium': 2.3,\n 'Dietary Fiber': 28.0,\n 'Protein': 50.0,\n 'Added sugars': 50.0,\n 'Vitamin C': 0.09,\n 'Calcium': 1.3,\n 'Iron': 0.018,\n 'Vitamin E': 0.015,\n 'Thiamin': 0.0012,\n 'Riboflavin': 0.0013,\n 'Niacin': 0.016,\n 'Vitamin B6': 0.0017,\n 'Pantothenic acid': 0.005,\n 'Phosphorus': 1.25,\n 'Magnesium': 0.42,\n 'Zinc': 0.011,\n 'Copper': 0.0009,\n 'Manganese': 0.0023,\n 'Chloride': 2.3,\n 'Potassium': 4.7,\n 'Choline': 0.55,\n 'Vitamin A': 0.0009,\n 'Vitamin D': 2e-05,\n 'Vitamin K': 0.00012,\n 'Folate6': 0.0004,\n 'Vitamin B12': 2.4e-06,\n 'Biotin': 3e-05,\n 'Iodine': 0.00015,\n 'Selenium': 5.5e-05,\n 'Chromium': 3.5e-05,\n 'Molybdenum': 4.5e-05}"
     },
     "execution_count": 13,
     "metadata": {},
     "output_type": "execute_result"
    }
   ],
   "source": [
    "daily_portion = {}\n",
    "for k, v in daily_reference.set_index('Nutrient').T.to_dict('list').items():\n",
    "    daily_portion[k] = v[0]\n",
    "daily_portion"
   ],
   "metadata": {
    "collapsed": false,
    "pycharm": {
     "name": "#%%\n"
    }
   }
  },
  {
   "cell_type": "code",
   "execution_count": 14,
   "outputs": [],
   "source": [
    "api_key = 'SmPYB4v9WYhjeLd9zHtDCstEhi11uy9iJ2Vg2ha6'\n",
    "\n",
    "def get_nutrition_info(ingredients):\n",
    "    nuts = {}\n",
    "    for ingredient in ingredients:\n",
    "        before = ingredient\n",
    "        ingr = ingredient.split(' ')\n",
    "        if len(ingr) != 1:\n",
    "            ingredient = ''\n",
    "            for i in range(len(ingr)):\n",
    "                ingredient += ingr[i]\n",
    "                if i != len(ingr) - 1:\n",
    "                    ingredient += '%'\n",
    "        url = f'https://api.nal.usda.gov/fdc/v1/foods/search?api_key=DEMO_KEY&query={ingredient}'\n",
    "        session = requests.Session()\n",
    "        session.headers = {'user-agent': 'Mozilla/5.0 (Windows NT 10.0; WOW64) AppleWebKit/537.36 (KHTML, like Gecko) Chrome/92.0.4515.159 YaBrowser/21.8.3.607 Yowser/2.5 Safari/537.36'}\n",
    "        page = session.get(\n",
    "              url,\n",
    "              timeout=(60,60),\n",
    "              stream=True, proxies = {\"http\": \"http://194.5.193.183:80\"},\n",
    "              auth=(api_key, '')\n",
    "        )\n",
    "        info = page.json()\n",
    "        nutrients = info['foods'][0]['foodNutrients']\n",
    "        nutr_info = {}\n",
    "        for nutrient in nutrients:\n",
    "            nutr_info[nutrient['nutrientName']] = [nutrient['value'], nutrient['unitName']]\n",
    "        nuts[before] = nutr_info\n",
    "    return nuts\n"
   ],
   "metadata": {
    "collapsed": false,
    "pycharm": {
     "name": "#%%\n"
    }
   }
  },
  {
   "cell_type": "code",
   "execution_count": 15,
   "outputs": [
    {
     "data": {
      "text/plain": "{'yogurt': {'Fiber, total dietary': [0.0, 'G'],\n  'Calcium, Ca': [118, 'MG'],\n  'Iron, Fe': [0.0, 'MG'],\n  'Vitamin A, IU': [59.0, 'IU'],\n  'Vitamin C, total ascorbic acid': [0.7, 'MG'],\n  'Protein': [2.94, 'G'],\n  'Total lipid (fat)': [2.94, 'G'],\n  'Carbohydrate, by difference': [15.9, 'G'],\n  'Energy': [94.0, 'KCAL'],\n  'Sugars, total including NLEA': [15.9, 'G'],\n  'Sodium, Na': [41.0, 'MG'],\n  'Cholesterol': [12.0, 'MG'],\n  'Fatty acids, total saturated': [1.76, 'G']},\n 'bean': {'Protein': [5.44, 'G'],\n  'Total lipid (fat)': [3.7, 'G'],\n  'Carbohydrate, by difference': [15.9, 'G'],\n  'Energy': [119, 'KCAL'],\n  'Alcohol, ethyl': [0.0, 'G'],\n  'Water': [73.0, 'G'],\n  'Caffeine': [0.0, 'MG'],\n  'Theobromine': [0.0, 'MG'],\n  'Sugars, total including NLEA': [0.99, 'G'],\n  'Fiber, total dietary': [4.9, 'G'],\n  'Calcium, Ca': [26.0, 'MG'],\n  'Iron, Fe': [1.6, 'MG'],\n  'Magnesium, Mg': [40.0, 'MG'],\n  'Phosphorus, P': [105, 'MG'],\n  'Potassium, K': [368, 'MG'],\n  'Sodium, Na': [443, 'MG'],\n  'Zinc, Zn': [0.69, 'MG'],\n  'Copper, Cu': [0.196, 'MG'],\n  'Selenium, Se': [7.7, 'UG'],\n  'Retinol': [0.0, 'UG'],\n  'Vitamin A, RAE': [0.0, 'UG'],\n  'Carotene, beta': [0.0, 'UG'],\n  'Carotene, alpha': [0.0, 'UG'],\n  'Vitamin E (alpha-tocopherol)': [0.91, 'MG'],\n  'Vitamin D (D2 + D3)': [0.0, 'UG'],\n  'Cryptoxanthin, beta': [0.0, 'UG'],\n  'Lycopene': [0.0, 'UG'],\n  'Lutein + zeaxanthin': [0.0, 'UG'],\n  'Vitamin C, total ascorbic acid': [0.6, 'MG'],\n  'Thiamin': [0.09, 'MG'],\n  'Riboflavin': [0.1, 'MG'],\n  'Niacin': [0.43, 'MG'],\n  'Vitamin B-6': [0.115, 'MG'],\n  'Folate, total': [21.0, 'UG'],\n  'Vitamin B-12': [0.0, 'UG'],\n  'Choline, total': [16.3, 'MG'],\n  'Vitamin K (phylloquinone)': [1.7, 'UG'],\n  'Folic acid': [0.0, 'UG'],\n  'Folate, food': [21.0, 'UG'],\n  'Folate, DFE': [21.0, 'UG'],\n  'Vitamin E, added': [0.0, 'MG'],\n  'Vitamin B-12, added': [0.0, 'UG'],\n  'Cholesterol': [0.0, 'MG'],\n  'Fatty acids, total saturated': [0.529, 'G'],\n  'SFA 4:0': [0.0, 'G'],\n  'SFA 6:0': [0.0, 'G'],\n  'SFA 8:0': [0.001, 'G'],\n  'SFA 10:0': [0.005, 'G'],\n  'SFA 12:0': [0.001, 'G'],\n  'SFA 14:0': [0.005, 'G'],\n  'SFA 16:0': [0.423, 'G'],\n  'SFA 18:0': [0.061, 'G'],\n  'MUFA 18:1': [0.842, 'G'],\n  'PUFA 18:2': [1.76, 'G'],\n  'PUFA 18:3': [0.193, 'G'],\n  'PUFA 20:4': [0.002, 'G'],\n  'PUFA 22:6 n-3 (DHA)': [0.0, 'G'],\n  'MUFA 16:1': [0.003, 'G'],\n  'PUFA 18:4': [0.0, 'G'],\n  'MUFA 20:1': [0.012, 'G'],\n  'PUFA 2:5 n-3 (EPA)': [0.0, 'G'],\n  'MUFA 22:1': [0.0, 'G'],\n  'PUFA 22:5 n-3 (DPA)': [0.0, 'G'],\n  'Fatty acids, total monounsaturated': [0.859, 'G'],\n  'Fatty acids, total polyunsaturated': [1.96, 'G']}}"
     },
     "execution_count": 15,
     "metadata": {},
     "output_type": "execute_result"
    }
   ],
   "source": [
    "nuts = get_nutrition_info(['yogurt', 'bean'])\n",
    "nuts"
   ],
   "metadata": {
    "collapsed": false,
    "pycharm": {
     "name": "#%%\n"
    }
   }
  },
  {
   "cell_type": "code",
   "execution_count": 16,
   "outputs": [],
   "source": [
    "def get_nutritions(nuts):\n",
    "    res = {}\n",
    "    for kn, vn in nuts.items():\n",
    "        res_nutr = {}\n",
    "        for kv, vv in vn.items():\n",
    "            for key, value in daily_portion.items():\n",
    "                if kv.lower().find(key.lower()) != -1:\n",
    "                    if key not in res_nutr and vv[0] != 0:\n",
    "                        res_val = 1 / value\n",
    "                    if vv[1] == 'MG':\n",
    "                        res_val /= 10 ** 3\n",
    "                    elif vv[1] == 'UG':\n",
    "                        res_val /= 10 ** 6\n",
    "                    elif vv[1] == 'IU' and key.find('Vitamin D') != -1:\n",
    "                        res_val = res_val * 0.6 / 10 ** 6\n",
    "                    elif vv[1] == 'IU':\n",
    "                        res_val = res_val * 25 / 10 ** 9\n",
    "                    res_val *= vv[0]\n",
    "                    res_nutr[key] = res_val\n",
    "        res[kn] = res_nutr\n",
    "    return res"
   ],
   "metadata": {
    "collapsed": false,
    "pycharm": {
     "name": "#%%\n"
    }
   }
  },
  {
   "cell_type": "code",
   "execution_count": 17,
   "outputs": [],
   "source": [
    "def print_nutrition(res):\n",
    "    for k, v in res.items():\n",
    "        print(k.capitalize())\n",
    "        for name, part in v.items():\n",
    "            print(f'{name} - {part:.0%} of Daily Value')\n",
    "        print('')"
   ],
   "metadata": {
    "collapsed": false,
    "pycharm": {
     "name": "#%%\n"
    }
   }
  },
  {
   "cell_type": "code",
   "execution_count": 18,
   "outputs": [],
   "source": [
    "g_ingredients = []"
   ],
   "metadata": {
    "collapsed": false,
    "pycharm": {
     "name": "#%%\n"
    }
   }
  },
  {
   "cell_type": "code",
   "execution_count": 19,
   "outputs": [
    {
     "data": {
      "text/plain": "['title',\n 'rating',\n 'calories',\n 'protein',\n 'fat',\n 'sodium',\n '#cakeweek',\n '#wasteless',\n '22-minute meals',\n '3-ingredient recipes',\n '30 days of groceries',\n 'advance prep required',\n 'alabama',\n 'alaska',\n 'alcoholic',\n 'almond',\n 'amaretto',\n 'anchovy',\n 'anise',\n 'anniversary',\n 'anthony bourdain',\n 'aperitif',\n 'appetizer',\n 'apple',\n 'apple juice',\n 'apricot',\n 'arizona',\n 'artichoke',\n 'arugula',\n 'asian pear',\n 'asparagus',\n 'aspen',\n 'atlanta',\n 'australia',\n 'avocado',\n 'back to school',\n 'backyard bbq',\n 'bacon',\n 'bake',\n 'banana',\n 'barley',\n 'basil',\n 'bass',\n 'bastille day',\n 'bean',\n 'beef',\n 'beef rib',\n 'beef shank',\n 'beef tenderloin',\n 'beer',\n 'beet',\n 'bell pepper',\n 'berry',\n 'beverly hills',\n 'birthday',\n 'biscuit',\n 'bitters',\n 'blackberry',\n 'blender',\n 'blue cheese',\n 'blueberry',\n 'boil',\n 'bok choy',\n 'bon appétit',\n 'bon app��tit',\n 'boston',\n 'bourbon',\n 'braise',\n 'bran',\n 'brandy',\n 'bread',\n 'breadcrumbs',\n 'breakfast',\n 'brie',\n 'brine',\n 'brisket',\n 'broccoli',\n 'broccoli rabe',\n 'broil',\n 'brooklyn',\n 'brown rice',\n 'brownie',\n 'brunch',\n 'brussel sprout',\n 'buffalo',\n 'buffet',\n 'bulgaria',\n 'bulgur',\n 'burrito',\n 'butter',\n 'buttermilk',\n 'butternut squash',\n 'butterscotch/caramel',\n 'cabbage',\n 'cake',\n 'california',\n 'calvados',\n 'cambridge',\n 'campari',\n 'camping',\n 'canada',\n 'candy',\n 'candy thermometer',\n 'cantaloupe',\n 'capers',\n 'caraway',\n 'cardamom',\n 'carrot',\n 'cashew',\n 'casserole/gratin',\n 'cauliflower',\n 'caviar',\n 'celery',\n 'chambord',\n 'champagne',\n 'chard',\n 'chartreuse',\n 'cheddar',\n 'cheese',\n 'cherry',\n 'chestnut',\n 'chicago',\n 'chicken',\n 'chickpea',\n 'chile',\n 'chile pepper',\n 'chili',\n 'chill',\n 'chive',\n 'chocolate',\n 'christmas',\n 'christmas eve',\n 'cilantro',\n 'cinco de mayo',\n 'cinnamon',\n 'citrus',\n 'clam',\n 'clove',\n 'cobbler/crumble',\n 'cocktail',\n 'cocktail party',\n 'coconut',\n 'cod',\n 'coffee',\n 'coffee grinder',\n 'cognac/armagnac',\n 'collard greens',\n 'colorado',\n 'columbus',\n 'condiment',\n 'condiment/spread',\n 'connecticut',\n 'cook like a diner',\n 'cookbook critic',\n 'cookie',\n 'cookies',\n 'coriander',\n 'corn',\n 'cornmeal',\n 'costa mesa',\n 'cottage cheese',\n 'couscous',\n 'crab',\n 'cranberry',\n 'cranberry sauce',\n 'cream cheese',\n 'créme de cacao',\n 'crêpe',\n 'cr��me de cacao',\n 'cuba',\n 'cucumber',\n 'cumin',\n 'cupcake',\n 'currant',\n 'curry',\n 'custard',\n 'dairy',\n 'dairy free',\n 'dallas',\n 'date',\n 'deep-fry',\n 'denver',\n 'dessert',\n 'digestif',\n 'dill',\n 'dinner',\n 'dip',\n 'diwali',\n 'dominican republic',\n 'dorie greenspan',\n 'double boiler',\n 'dried fruit',\n 'drink',\n 'drinks',\n 'duck',\n 'easter',\n 'eau de vie',\n 'edible gift',\n 'egg',\n 'egg nog',\n 'eggplant',\n 'egypt',\n 'emeril lagasse',\n 'endive',\n 'engagement party',\n 'england',\n 'entertaining',\n 'epi + ushg',\n 'epi loves the microwave',\n 'escarole',\n 'fall',\n 'family reunion',\n 'fat free',\n \"father's day\",\n 'fennel',\n 'feta',\n 'fig',\n 'fish',\n 'flaming hot summer',\n 'flat bread',\n 'florida',\n 'fontina',\n 'food processor',\n 'fortified wine',\n 'fourth of july',\n 'france',\n 'frangelico',\n 'frankenrecipe',\n 'freeze/chill',\n 'freezer food',\n 'friendsgiving',\n 'frittata',\n 'fritter',\n 'frozen dessert',\n 'fruit',\n 'fruit juice',\n 'fry',\n 'game',\n 'garlic',\n 'georgia',\n 'germany',\n 'gin',\n 'ginger',\n 'goat cheese',\n 'goose',\n 'gouda',\n 'gourmet',\n 'graduation',\n 'grains',\n 'grand marnier',\n 'granola',\n 'grape',\n 'grapefruit',\n 'grappa',\n 'green bean',\n 'green onion/scallion',\n 'grill',\n 'grill/barbecue',\n 'ground beef',\n 'ground lamb',\n 'guam',\n 'guava',\n 'haiti',\n 'halibut',\n 'halloween',\n 'ham',\n 'hamburger',\n 'hanukkah',\n 'harpercollins',\n 'hawaii',\n 'hazelnut',\n 'healdsburg',\n 'healthy',\n 'herb',\n 'high fiber',\n 'hollywood',\n 'hominy/cornmeal/masa',\n 'honey',\n 'honeydew',\n \"hors d'oeuvre\",\n 'horseradish',\n 'hot drink',\n 'hot pepper',\n 'house & garden',\n 'house cocktail',\n 'houston',\n 'hummus',\n 'ice cream',\n 'ice cream machine',\n 'iced coffee',\n 'iced tea',\n 'idaho',\n 'illinois',\n 'indiana',\n 'iowa',\n 'ireland',\n 'israel',\n 'italy',\n 'jalapeño',\n 'jam or jelly',\n 'jamaica',\n 'japan',\n 'jerusalem artichoke',\n 'juicer',\n 'jícama',\n 'kahlúa',\n 'kale',\n 'kansas',\n 'kansas city',\n 'kentucky',\n 'kentucky derby',\n 'kid-friendly',\n 'kidney friendly',\n 'kirsch',\n 'kitchen olympics',\n 'kiwi',\n 'kosher',\n 'kosher for passover',\n 'kumquat',\n 'kwanzaa',\n 'labor day',\n 'lamb',\n 'lamb chop',\n 'lamb shank',\n 'lancaster',\n 'las vegas',\n 'lasagna',\n 'leafy green',\n 'leek',\n 'legume',\n 'lemon',\n 'lemon juice',\n 'lemongrass',\n 'lentil',\n 'lettuce',\n 'lima bean',\n 'lime',\n 'lime juice',\n 'lingonberry',\n 'liqueur',\n 'lobster',\n 'london',\n 'long beach',\n 'los angeles',\n 'louisiana',\n 'louisville',\n 'low cal',\n 'low carb',\n 'low cholesterol',\n 'low fat',\n 'low sodium',\n 'low sugar',\n 'low/no sugar',\n 'lunar new year',\n 'lunch',\n 'lychee',\n 'macadamia nut',\n 'macaroni and cheese',\n 'maine',\n 'mandoline',\n 'mango',\n 'maple syrup',\n 'mardi gras',\n 'margarita',\n 'marinade',\n 'marinate',\n 'marsala',\n 'marscarpone',\n 'marshmallow',\n 'martini',\n 'maryland',\n 'massachusetts',\n 'mayonnaise',\n 'meat',\n 'meatball',\n 'meatloaf',\n 'melon',\n 'mexico',\n 'mezcal',\n 'miami',\n 'michigan',\n 'microwave',\n 'midori',\n 'milk/cream',\n 'minneapolis',\n 'minnesota',\n 'mint',\n 'mississippi',\n 'missouri',\n 'mixer',\n 'molasses',\n 'monterey jack',\n 'mortar and pestle',\n \"mother's day\",\n 'mozzarella',\n 'muffin',\n 'mushroom',\n 'mussel',\n 'mustard',\n 'mustard greens',\n 'nancy silverton',\n 'nebraska',\n 'nectarine',\n 'new hampshire',\n 'new jersey',\n 'new mexico',\n 'new orleans',\n \"new year's day\",\n \"new year's eve\",\n 'new york',\n '\"no meat',\n ' no problem\"',\n 'no sugar added',\n 'no-cook',\n 'non-alcoholic',\n 'noodle',\n 'north carolina',\n 'nut',\n 'nutmeg',\n 'oat',\n 'oatmeal',\n 'octopus',\n 'ohio',\n 'oklahoma',\n 'okra',\n 'oktoberfest',\n 'olive',\n 'omelet',\n 'one-pot meal',\n 'onion',\n 'orange',\n 'orange juice',\n 'oregano',\n 'oregon',\n 'organic',\n 'orzo',\n 'oscars',\n 'oyster',\n 'pacific palisades',\n 'paleo',\n 'pan-fry',\n 'pancake',\n 'papaya',\n 'paprika',\n 'parade',\n 'paris',\n 'parmesan',\n 'parsley',\n 'parsnip',\n 'party',\n 'pasadena',\n 'passion fruit',\n 'passover',\n 'pasta',\n 'pasta maker',\n 'pastry',\n 'pea',\n 'peach',\n 'peanut',\n 'peanut butter',\n 'peanut free',\n 'pear',\n 'pecan',\n 'pennsylvania',\n 'pepper',\n 'pernod',\n 'persian new year',\n 'persimmon',\n 'peru',\n 'pescatarian',\n 'philippines',\n 'phyllo/puff pastry dough',\n 'pickles',\n 'picnic',\n 'pie',\n 'pine nut',\n 'pineapple',\n 'pistachio',\n 'pittsburgh',\n 'pizza',\n 'plantain',\n 'plum',\n 'poach',\n 'poblano',\n 'poker/game night',\n 'pomegranate',\n 'pomegranate juice',\n 'poppy',\n 'pork',\n 'pork chop',\n 'pork rib',\n 'pork tenderloin',\n 'port',\n 'portland',\n 'pot pie',\n 'potato',\n 'potato salad',\n 'potluck',\n 'poultry',\n 'poultry sausage',\n 'pressure cooker',\n 'prosciutto',\n 'providence',\n 'prune',\n 'pumpkin',\n 'punch',\n 'purim',\n 'quail',\n 'quiche',\n 'quick & easy',\n 'quick and healthy',\n 'quince',\n 'quinoa',\n 'rabbit',\n 'rack of lamb',\n 'radicchio',\n 'radish',\n 'raisin',\n 'ramadan',\n 'ramekin',\n 'raspberry',\n 'raw',\n 'red wine',\n 'rhode island',\n 'rhubarb',\n 'rice',\n 'ricotta',\n 'roast',\n 'root vegetable',\n 'rosemary',\n 'rosh hashanah/yom kippur',\n 'rosé',\n 'rub',\n 'rum',\n 'rutabaga',\n 'rye',\n 'saffron',\n 'sage',\n 'sake',\n 'salad',\n 'salad dressing',\n 'salmon',\n 'salsa',\n 'san francisco',\n 'sandwich',\n 'sandwich theory',\n 'sangria',\n 'santa monica',\n 'sardine',\n 'sauce',\n 'sausage',\n 'sauté',\n 'scallop',\n 'scotch',\n 'seafood',\n 'seattle',\n 'seed',\n 'self',\n 'semolina',\n 'sesame',\n 'sesame oil',\n 'shallot',\n 'shavuot',\n 'shellfish',\n 'sherry',\n 'shower',\n 'shrimp',\n 'side',\n 'simmer',\n 'skewer',\n 'slow cooker',\n 'smoker',\n 'smoothie',\n 'snapper',\n 'sorbet',\n 'soufflé/meringue',\n 'soup/stew',\n 'sour cream',\n 'sourdough',\n 'south carolina',\n 'soy',\n 'soy free',\n 'soy sauce',\n 'spain',\n 'sparkling wine',\n 'spice',\n 'spinach',\n 'spirit',\n 'spring',\n 'spritzer',\n 'squash',\n 'squid',\n 'st. louis',\n \"st. patrick's day\",\n 'steak',\n 'steam',\n 'stew',\n 'stir-fry',\n 'stock',\n 'strawberry',\n 'stuffing/dressing',\n 'sugar conscious',\n 'sugar snap pea',\n 'sukkot',\n 'summer',\n 'super bowl',\n 'suzanne goin',\n 'sweet potato/yam',\n 'swiss cheese',\n 'switzerland',\n 'swordfish',\n 'taco',\n 'tailgating',\n 'tamarind',\n 'tangerine',\n 'tapioca',\n 'tarragon',\n 'tart',\n 'tea',\n 'tennessee',\n 'tequila',\n 'tested & improved',\n 'texas',\n 'thanksgiving',\n 'thyme',\n 'tilapia',\n 'tofu',\n 'tomatillo',\n 'tomato',\n 'tortillas',\n 'tree nut',\n 'tree nut free',\n 'triple sec',\n 'tropical fruit',\n 'trout',\n 'tuna',\n 'turnip',\n 'utah',\n \"valentine's day\",\n 'vanilla',\n 'veal',\n 'vegan',\n 'vegetable',\n 'vegetarian',\n 'venison',\n 'vermont',\n 'vermouth',\n 'vinegar',\n 'virginia',\n 'vodka',\n 'waffle',\n 'walnut',\n 'wasabi',\n 'washington',\n '\"washington',\n ' d.c.\"',\n 'watercress',\n 'watermelon',\n 'wedding',\n 'weelicious',\n 'west virginia',\n 'westwood',\n 'wheat/gluten-free',\n 'whiskey',\n 'white wine',\n 'whole wheat',\n 'wild rice',\n 'windsor',\n 'wine',\n 'winter',\n 'wisconsin',\n 'wok',\n 'yellow squash',\n 'yogurt',\n 'yonkers',\n 'yuca',\n 'zucchini',\n 'cookbooks',\n 'leftovers',\n 'snack',\n 'snack week',\n 'turkey']"
     },
     "execution_count": 19,
     "metadata": {},
     "output_type": "execute_result"
    }
   ],
   "source": [
    "with open('data/epi_r.csv') as f:\n",
    "    ingr = f.readline()\n",
    "ingredients = ingr[:-1].split(',')\n",
    "ingredients"
   ],
   "metadata": {
    "collapsed": false,
    "pycharm": {
     "name": "#%%\n"
    }
   }
  },
  {
   "cell_type": "code",
   "execution_count": 20,
   "outputs": [
    {
     "data": {
      "text/plain": "[['title',\n  'rating',\n  'calories',\n  'protein',\n  'fat',\n  'sodium',\n  '#cakeweek',\n  '#wasteless',\n  '22-minute meals',\n  '3-ingredient recipes',\n  '30 days of groceries',\n  'advance prep required',\n  'alabama',\n  'alaska',\n  'alcoholic',\n  'almond',\n  'amaretto',\n  'anchovy',\n  'anise',\n  'anniversary',\n  'anthony bourdain',\n  'aperitif',\n  'appetizer'],\n ['apple',\n  'apple juice',\n  'apricot',\n  'arizona',\n  'artichoke',\n  'arugula',\n  'asian pear',\n  'asparagus',\n  'aspen',\n  'atlanta',\n  'australia',\n  'avocado',\n  'back to school',\n  'backyard bbq',\n  'bacon',\n  'bake',\n  'banana',\n  'barley',\n  'basil',\n  'bass',\n  'bastille day',\n  'bean',\n  'beef'],\n ['beef rib',\n  'beef shank',\n  'beef tenderloin',\n  'beer',\n  'beet',\n  'bell pepper',\n  'berry',\n  'beverly hills',\n  'birthday',\n  'biscuit',\n  'bitters',\n  'blackberry',\n  'blender',\n  'blue cheese',\n  'blueberry',\n  'boil',\n  'bok choy',\n  'bon appétit',\n  'bon app��tit',\n  'boston',\n  'bourbon',\n  'braise',\n  'bran'],\n ['brandy',\n  'bread',\n  'breadcrumbs',\n  'breakfast',\n  'brie',\n  'brine',\n  'brisket',\n  'broccoli',\n  'broccoli rabe',\n  'broil',\n  'brooklyn',\n  'brown rice',\n  'brownie',\n  'brunch',\n  'brussel sprout',\n  'buffalo',\n  'buffet',\n  'bulgaria',\n  'bulgur',\n  'burrito',\n  'butter',\n  'buttermilk',\n  'butternut squash'],\n ['butterscotch/caramel',\n  'cabbage',\n  'cake',\n  'california',\n  'calvados',\n  'cambridge',\n  'campari',\n  'camping',\n  'canada',\n  'candy',\n  'candy thermometer',\n  'cantaloupe',\n  'capers',\n  'caraway',\n  'cardamom',\n  'carrot',\n  'cashew',\n  'casserole/gratin',\n  'cauliflower',\n  'caviar',\n  'celery',\n  'chambord',\n  'champagne'],\n ['chard',\n  'chartreuse',\n  'cheddar',\n  'cheese',\n  'cherry',\n  'chestnut',\n  'chicago',\n  'chicken',\n  'chickpea',\n  'chile',\n  'chile pepper',\n  'chili',\n  'chill',\n  'chive',\n  'chocolate',\n  'christmas',\n  'christmas eve',\n  'cilantro',\n  'cinco de mayo',\n  'cinnamon',\n  'citrus',\n  'clam',\n  'clove'],\n ['cobbler/crumble',\n  'cocktail',\n  'cocktail party',\n  'coconut',\n  'cod',\n  'coffee',\n  'coffee grinder',\n  'cognac/armagnac',\n  'collard greens',\n  'colorado',\n  'columbus',\n  'condiment',\n  'condiment/spread',\n  'connecticut',\n  'cook like a diner',\n  'cookbook critic',\n  'cookie',\n  'cookies',\n  'coriander',\n  'corn',\n  'cornmeal',\n  'costa mesa',\n  'cottage cheese'],\n ['couscous',\n  'crab',\n  'cranberry',\n  'cranberry sauce',\n  'cream cheese',\n  'créme de cacao',\n  'crêpe',\n  'cr��me de cacao',\n  'cuba',\n  'cucumber',\n  'cumin',\n  'cupcake',\n  'currant',\n  'curry',\n  'custard',\n  'dairy',\n  'dairy free',\n  'dallas',\n  'date',\n  'deep-fry',\n  'denver',\n  'dessert',\n  'digestif'],\n ['dill',\n  'dinner',\n  'dip',\n  'diwali',\n  'dominican republic',\n  'dorie greenspan',\n  'double boiler',\n  'dried fruit',\n  'drink',\n  'drinks',\n  'duck',\n  'easter',\n  'eau de vie',\n  'edible gift',\n  'egg',\n  'egg nog',\n  'eggplant',\n  'egypt',\n  'emeril lagasse',\n  'endive',\n  'engagement party',\n  'england',\n  'entertaining'],\n ['epi + ushg',\n  'epi loves the microwave',\n  'escarole',\n  'fall',\n  'family reunion',\n  'fat free',\n  \"father's day\",\n  'fennel',\n  'feta',\n  'fig',\n  'fish',\n  'flaming hot summer',\n  'flat bread',\n  'florida',\n  'fontina',\n  'food processor',\n  'fortified wine',\n  'fourth of july',\n  'france',\n  'frangelico',\n  'frankenrecipe',\n  'freeze/chill',\n  'freezer food'],\n ['friendsgiving',\n  'frittata',\n  'fritter',\n  'frozen dessert',\n  'fruit',\n  'fruit juice',\n  'fry',\n  'game',\n  'garlic',\n  'georgia',\n  'germany',\n  'gin',\n  'ginger',\n  'goat cheese',\n  'goose',\n  'gouda',\n  'gourmet',\n  'graduation',\n  'grains',\n  'grand marnier',\n  'granola',\n  'grape',\n  'grapefruit'],\n ['grappa',\n  'green bean',\n  'green onion/scallion',\n  'grill',\n  'grill/barbecue',\n  'ground beef',\n  'ground lamb',\n  'guam',\n  'guava',\n  'haiti',\n  'halibut',\n  'halloween',\n  'ham',\n  'hamburger',\n  'hanukkah',\n  'harpercollins',\n  'hawaii',\n  'hazelnut',\n  'healdsburg',\n  'healthy',\n  'herb',\n  'high fiber',\n  'hollywood'],\n ['hominy/cornmeal/masa',\n  'honey',\n  'honeydew',\n  \"hors d'oeuvre\",\n  'horseradish',\n  'hot drink',\n  'hot pepper',\n  'house & garden',\n  'house cocktail',\n  'houston',\n  'hummus',\n  'ice cream',\n  'ice cream machine',\n  'iced coffee',\n  'iced tea',\n  'idaho',\n  'illinois',\n  'indiana',\n  'iowa',\n  'ireland',\n  'israel',\n  'italy',\n  'jalapeño'],\n ['jam or jelly',\n  'jamaica',\n  'japan',\n  'jerusalem artichoke',\n  'juicer',\n  'jícama',\n  'kahlúa',\n  'kale',\n  'kansas',\n  'kansas city',\n  'kentucky',\n  'kentucky derby',\n  'kid-friendly',\n  'kidney friendly',\n  'kirsch',\n  'kitchen olympics',\n  'kiwi',\n  'kosher',\n  'kosher for passover',\n  'kumquat',\n  'kwanzaa',\n  'labor day',\n  'lamb'],\n ['lamb chop',\n  'lamb shank',\n  'lancaster',\n  'las vegas',\n  'lasagna',\n  'leafy green',\n  'leek',\n  'legume',\n  'lemon',\n  'lemon juice',\n  'lemongrass',\n  'lentil',\n  'lettuce',\n  'lima bean',\n  'lime',\n  'lime juice',\n  'lingonberry',\n  'liqueur',\n  'lobster',\n  'london',\n  'long beach',\n  'los angeles',\n  'louisiana'],\n ['louisville',\n  'low cal',\n  'low carb',\n  'low cholesterol',\n  'low fat',\n  'low sodium',\n  'low sugar',\n  'low/no sugar',\n  'lunar new year',\n  'lunch',\n  'lychee',\n  'macadamia nut',\n  'macaroni and cheese',\n  'maine',\n  'mandoline',\n  'mango',\n  'maple syrup',\n  'mardi gras',\n  'margarita',\n  'marinade',\n  'marinate',\n  'marsala',\n  'marscarpone'],\n ['marshmallow',\n  'martini',\n  'maryland',\n  'massachusetts',\n  'mayonnaise',\n  'meat',\n  'meatball',\n  'meatloaf',\n  'melon',\n  'mexico',\n  'mezcal',\n  'miami',\n  'michigan',\n  'microwave',\n  'midori',\n  'milk/cream',\n  'minneapolis',\n  'minnesota',\n  'mint',\n  'mississippi',\n  'missouri',\n  'mixer',\n  'molasses'],\n ['monterey jack',\n  'mortar and pestle',\n  \"mother's day\",\n  'mozzarella',\n  'muffin',\n  'mushroom',\n  'mussel',\n  'mustard',\n  'mustard greens',\n  'nancy silverton',\n  'nebraska',\n  'nectarine',\n  'new hampshire',\n  'new jersey',\n  'new mexico',\n  'new orleans',\n  \"new year's day\",\n  \"new year's eve\",\n  'new york',\n  '\"no meat',\n  ' no problem\"',\n  'no sugar added',\n  'no-cook'],\n ['non-alcoholic',\n  'noodle',\n  'north carolina',\n  'nut',\n  'nutmeg',\n  'oat',\n  'oatmeal',\n  'octopus',\n  'ohio',\n  'oklahoma',\n  'okra',\n  'oktoberfest',\n  'olive',\n  'omelet',\n  'one-pot meal',\n  'onion',\n  'orange',\n  'orange juice',\n  'oregano',\n  'oregon',\n  'organic',\n  'orzo',\n  'oscars'],\n ['oyster',\n  'pacific palisades',\n  'paleo',\n  'pan-fry',\n  'pancake',\n  'papaya',\n  'paprika',\n  'parade',\n  'paris',\n  'parmesan',\n  'parsley',\n  'parsnip',\n  'party',\n  'pasadena',\n  'passion fruit',\n  'passover',\n  'pasta',\n  'pasta maker',\n  'pastry',\n  'pea',\n  'peach',\n  'peanut',\n  'peanut butter'],\n ['peanut free',\n  'pear',\n  'pecan',\n  'pennsylvania',\n  'pepper',\n  'pernod',\n  'persian new year',\n  'persimmon',\n  'peru',\n  'pescatarian',\n  'philippines',\n  'phyllo/puff pastry dough',\n  'pickles',\n  'picnic',\n  'pie',\n  'pine nut',\n  'pineapple',\n  'pistachio',\n  'pittsburgh',\n  'pizza',\n  'plantain',\n  'plum',\n  'poach'],\n ['poblano',\n  'poker/game night',\n  'pomegranate',\n  'pomegranate juice',\n  'poppy',\n  'pork',\n  'pork chop',\n  'pork rib',\n  'pork tenderloin',\n  'port',\n  'portland',\n  'pot pie',\n  'potato',\n  'potato salad',\n  'potluck',\n  'poultry',\n  'poultry sausage',\n  'pressure cooker',\n  'prosciutto',\n  'providence',\n  'prune',\n  'pumpkin',\n  'punch'],\n ['purim',\n  'quail',\n  'quiche',\n  'quick & easy',\n  'quick and healthy',\n  'quince',\n  'quinoa',\n  'rabbit',\n  'rack of lamb',\n  'radicchio',\n  'radish',\n  'raisin',\n  'ramadan',\n  'ramekin',\n  'raspberry',\n  'raw',\n  'red wine',\n  'rhode island',\n  'rhubarb',\n  'rice',\n  'ricotta',\n  'roast'],\n ['root vegetable',\n  'rosemary',\n  'rosh hashanah/yom kippur',\n  'rosé',\n  'rub',\n  'rum',\n  'rutabaga',\n  'rye',\n  'saffron',\n  'sage',\n  'sake',\n  'salad',\n  'salad dressing',\n  'salmon',\n  'salsa',\n  'san francisco',\n  'sandwich',\n  'sandwich theory',\n  'sangria',\n  'santa monica',\n  'sardine',\n  'sauce'],\n ['sausage',\n  'sauté',\n  'scallop',\n  'scotch',\n  'seafood',\n  'seattle',\n  'seed',\n  'self',\n  'semolina',\n  'sesame',\n  'sesame oil',\n  'shallot',\n  'shavuot',\n  'shellfish',\n  'sherry',\n  'shower',\n  'shrimp',\n  'side',\n  'simmer',\n  'skewer',\n  'slow cooker',\n  'smoker'],\n ['smoothie',\n  'snapper',\n  'sorbet',\n  'soufflé/meringue',\n  'soup/stew',\n  'sour cream',\n  'sourdough',\n  'south carolina',\n  'soy',\n  'soy free',\n  'soy sauce',\n  'spain',\n  'sparkling wine',\n  'spice',\n  'spinach',\n  'spirit',\n  'spring',\n  'spritzer',\n  'squash',\n  'squid',\n  'st. louis',\n  \"st. patrick's day\"],\n ['steak',\n  'steam',\n  'stew',\n  'stir-fry',\n  'stock',\n  'strawberry',\n  'stuffing/dressing',\n  'sugar conscious',\n  'sugar snap pea',\n  'sukkot',\n  'summer',\n  'super bowl',\n  'suzanne goin',\n  'sweet potato/yam',\n  'swiss cheese',\n  'switzerland',\n  'swordfish',\n  'taco',\n  'tailgating',\n  'tamarind',\n  'tangerine',\n  'tapioca'],\n ['tarragon',\n  'tart',\n  'tea',\n  'tennessee',\n  'tequila',\n  'tested & improved',\n  'texas',\n  'thanksgiving',\n  'thyme',\n  'tilapia',\n  'tofu',\n  'tomatillo',\n  'tomato',\n  'tortillas',\n  'tree nut',\n  'tree nut free',\n  'triple sec',\n  'tropical fruit',\n  'trout',\n  'tuna',\n  'turnip',\n  'utah'],\n [\"valentine's day\",\n  'vanilla',\n  'veal',\n  'vegan',\n  'vegetable',\n  'vegetarian',\n  'venison',\n  'vermont',\n  'vermouth',\n  'vinegar',\n  'virginia',\n  'vodka',\n  'waffle',\n  'walnut',\n  'wasabi',\n  'washington',\n  '\"washington',\n  ' d.c.\"',\n  'watercress',\n  'watermelon',\n  'wedding',\n  'weelicious'],\n ['west virginia',\n  'westwood',\n  'wheat/gluten-free',\n  'whiskey',\n  'white wine',\n  'whole wheat',\n  'wild rice',\n  'windsor',\n  'wine',\n  'winter',\n  'wisconsin',\n  'wok',\n  'yellow squash',\n  'yogurt',\n  'yonkers',\n  'yuca',\n  'zucchini',\n  'cookbooks',\n  'leftovers',\n  'snack',\n  'snack week',\n  'turkey']]"
     },
     "execution_count": 20,
     "metadata": {},
     "output_type": "execute_result"
    }
   ],
   "source": [
    "def split(a, n):\n",
    "    k, m = divmod(len(a), n)\n",
    "    b = []\n",
    "    for i in range(n):\n",
    "        b.append(a[i*k+min(i, m):(i+1)*k+min(i+1, m)])\n",
    "    return b\n",
    "\n",
    "lists_of_ingr = split(ingredients, 30)\n",
    "lists_of_ingr\n"
   ],
   "metadata": {
    "collapsed": false,
    "pycharm": {
     "name": "#%%\n"
    }
   }
  },
  {
   "cell_type": "code",
   "execution_count": 21,
   "outputs": [],
   "source": [
    "def get_nutrition_info_all(ingredients):\n",
    "    nuts = {}\n",
    "    for ingredient in ingredients:\n",
    "        before = ingredient\n",
    "        ingr = ingredient.split(' ')\n",
    "        if len(ingr) != 1:\n",
    "            ingredient = ''\n",
    "            for i in range(len(ingr)):\n",
    "                ingredient += ingr[i]\n",
    "                if i != len(ingr) - 1:\n",
    "                    ingredient += '%'\n",
    "        url = f'https://api.nal.usda.gov/fdc/v1/foods/search?api_key=DEMO_KEY&query={ingredient}'\n",
    "        session = requests.Session()\n",
    "        session.headers = {\n",
    "              'user-agent': 'Mozilla/5.0 (Windows NT 10.0; WOW64) AppleWebKit/537.36 (KHTML, like Gecko) Chrome/92.0.4515.159 YaBrowser/21.8.3.607 Yowser/2.5 Safari/537.36'}\n",
    "        page = session.get(\n",
    "                  url,\n",
    "                  timeout=(60,60),\n",
    "                  stream=True, proxies = {\"http\": \"http://194.5.193.183:80\"},\n",
    "                  auth=(api_key, '')\n",
    "              )\n",
    "        info = page.json()\n",
    "        nutrients = info['foods'][0]['foodNutrients']\n",
    "        nutr_info = {}\n",
    "        for nutrient in nutrients:\n",
    "            nutr_info[nutrient['nutrientName']] = [nutrient['value'], nutrient['unitName']]\n",
    "        nuts[before] = nutr_info\n",
    "        g_ingredients.append(nuts)\n",
    "        time.sleep(5)\n",
    "    return nuts\n"
   ],
   "metadata": {
    "collapsed": false,
    "pycharm": {
     "name": "#%%\n"
    }
   }
  },
  {
   "cell_type": "code",
   "execution_count": 22,
   "outputs": [
    {
     "data": {
      "text/plain": "[]"
     },
     "execution_count": 22,
     "metadata": {},
     "output_type": "execute_result"
    }
   ],
   "source": [
    "g_ingredients"
   ],
   "metadata": {
    "collapsed": false,
    "pycharm": {
     "name": "#%%\n"
    }
   }
  },
  {
   "cell_type": "code",
   "execution_count": 23,
   "outputs": [
    {
     "ename": "KeyError",
     "evalue": "'foods'",
     "output_type": "error",
     "traceback": [
      "\u001B[0;31m---------------------------------------------------------------------------\u001B[0m",
      "\u001B[0;31mKeyError\u001B[0m                                  Traceback (most recent call last)",
      "\u001B[0;32m/var/folders/zz/zyxvpxvq6csfxvn_n003vlyr00ywzp/T/ipykernel_41838/1931598530.py\u001B[0m in \u001B[0;36m<module>\u001B[0;34m\u001B[0m\n\u001B[1;32m      1\u001B[0m \u001B[0;32mfor\u001B[0m \u001B[0mi\u001B[0m \u001B[0;32min\u001B[0m \u001B[0mrange\u001B[0m\u001B[0;34m(\u001B[0m\u001B[0mlen\u001B[0m\u001B[0;34m(\u001B[0m\u001B[0mlists_of_ingr\u001B[0m\u001B[0;34m)\u001B[0m\u001B[0;34m)\u001B[0m\u001B[0;34m:\u001B[0m\u001B[0;34m\u001B[0m\u001B[0;34m\u001B[0m\u001B[0m\n\u001B[1;32m      2\u001B[0m     \u001B[0;32mif\u001B[0m \u001B[0mi\u001B[0m \u001B[0;34m!=\u001B[0m \u001B[0;36m0\u001B[0m\u001B[0;34m:\u001B[0m\u001B[0;34m\u001B[0m\u001B[0;34m\u001B[0m\u001B[0m\n\u001B[0;32m----> 3\u001B[0;31m         \u001B[0mget_nutrition_info_all\u001B[0m\u001B[0;34m(\u001B[0m\u001B[0mlists_of_ingr\u001B[0m\u001B[0;34m[\u001B[0m\u001B[0mi\u001B[0m\u001B[0;34m]\u001B[0m\u001B[0;34m)\u001B[0m\u001B[0;34m\u001B[0m\u001B[0;34m\u001B[0m\u001B[0m\n\u001B[0m\u001B[1;32m      4\u001B[0m     \u001B[0mtime\u001B[0m\u001B[0;34m.\u001B[0m\u001B[0msleep\u001B[0m\u001B[0;34m(\u001B[0m\u001B[0;36m20\u001B[0m\u001B[0;34m)\u001B[0m\u001B[0;34m\u001B[0m\u001B[0;34m\u001B[0m\u001B[0m\n",
      "\u001B[0;32m/var/folders/zz/zyxvpxvq6csfxvn_n003vlyr00ywzp/T/ipykernel_41838/3224056774.py\u001B[0m in \u001B[0;36mget_nutrition_info_all\u001B[0;34m(ingredients)\u001B[0m\n\u001B[1;32m     21\u001B[0m               )\n\u001B[1;32m     22\u001B[0m         \u001B[0minfo\u001B[0m \u001B[0;34m=\u001B[0m \u001B[0mpage\u001B[0m\u001B[0;34m.\u001B[0m\u001B[0mjson\u001B[0m\u001B[0;34m(\u001B[0m\u001B[0;34m)\u001B[0m\u001B[0;34m\u001B[0m\u001B[0;34m\u001B[0m\u001B[0m\n\u001B[0;32m---> 23\u001B[0;31m         \u001B[0mnutrients\u001B[0m \u001B[0;34m=\u001B[0m \u001B[0minfo\u001B[0m\u001B[0;34m[\u001B[0m\u001B[0;34m'foods'\u001B[0m\u001B[0;34m]\u001B[0m\u001B[0;34m[\u001B[0m\u001B[0;36m0\u001B[0m\u001B[0;34m]\u001B[0m\u001B[0;34m[\u001B[0m\u001B[0;34m'foodNutrients'\u001B[0m\u001B[0;34m]\u001B[0m\u001B[0;34m\u001B[0m\u001B[0;34m\u001B[0m\u001B[0m\n\u001B[0m\u001B[1;32m     24\u001B[0m         \u001B[0mnutr_info\u001B[0m \u001B[0;34m=\u001B[0m \u001B[0;34m{\u001B[0m\u001B[0;34m}\u001B[0m\u001B[0;34m\u001B[0m\u001B[0;34m\u001B[0m\u001B[0m\n\u001B[1;32m     25\u001B[0m         \u001B[0;32mfor\u001B[0m \u001B[0mnutrient\u001B[0m \u001B[0;32min\u001B[0m \u001B[0mnutrients\u001B[0m\u001B[0;34m:\u001B[0m\u001B[0;34m\u001B[0m\u001B[0;34m\u001B[0m\u001B[0m\n",
      "\u001B[0;31mKeyError\u001B[0m: 'foods'"
     ]
    }
   ],
   "source": [
    "for i in range(len(lists_of_ingr)):\n",
    "    if i != 0:\n",
    "        get_nutrition_info_all(lists_of_ingr[i])\n",
    "    time.sleep(20)"
   ],
   "metadata": {
    "collapsed": false,
    "pycharm": {
     "name": "#%%\n"
    }
   }
  },
  {
   "cell_type": "code",
   "execution_count": null,
   "outputs": [],
   "source": [
    "res = {}\n",
    "\n",
    "for i in g_ingredients:\n",
    "    for kn, vn in i.items():\n",
    "        res_nutr = {}\n",
    "        for kv,vv in vn.items():\n",
    "            for key, value in daily_portion.items():\n",
    "                if kv.lower().find(key.lower()) != -1:\n",
    "                    if key not in res_nutr and vv[0] != 0:\n",
    "                        res_val = 100 / value\n",
    "                        if vv[1] == 'MG':\n",
    "                            res_val /= 10 ** 3\n",
    "                        elif vv[1] == 'UG':\n",
    "                            res_val /= 10 ** 6\n",
    "                        elif vv[1] == 'IU' and key.find('Vitamin D') != -1:\n",
    "                            res_val = res_val * 0.6 / 10 ** 6\n",
    "                        elif vv[1] == 'IU':\n",
    "                            res_val = res_val * 25 / 10 ** 9\n",
    "                        res_val *= vv[0]\n",
    "                        res_nutr[key] = res_val\n",
    "        res[kn] = res_nutr\n",
    "\n",
    "# just print\n",
    "for k, v in res.items():\n",
    "    print(k,v)\n"
   ],
   "metadata": {
    "collapsed": false,
    "pycharm": {
     "name": "#%%\n"
    }
   }
  },
  {
   "cell_type": "code",
   "execution_count": null,
   "outputs": [],
   "source": [
    "df = pd.DataFrame(columns=daily_portion.keys())\n",
    "for i in range(len(res)):\n",
    "    row = pd.Series(list(res.values())[i], name=list(res.keys())[i])\n",
    "    df = df.append(row)\n",
    "\n",
    "df.fillna(0, inplace=True)\n",
    "df = df.round(1)\n",
    "df\n"
   ],
   "metadata": {
    "collapsed": false,
    "pycharm": {
     "name": "#%%\n"
    }
   }
  },
  {
   "cell_type": "code",
   "execution_count": null,
   "outputs": [],
   "source": [
    "df.to_csv('data/nutrition_info.csv')"
   ],
   "metadata": {
    "collapsed": false,
    "pycharm": {
     "name": "#%%\n"
    }
   }
  },
  {
   "cell_type": "code",
   "execution_count": null,
   "outputs": [],
   "source": [],
   "metadata": {
    "collapsed": false,
    "pycharm": {
     "name": "#%%\n"
    }
   }
  }
 ],
 "metadata": {
  "kernelspec": {
   "display_name": "Python 3",
   "language": "python",
   "name": "python3"
  },
  "language_info": {
   "codemirror_mode": {
    "name": "ipython",
    "version": 2
   },
   "file_extension": ".py",
   "mimetype": "text/x-python",
   "name": "python",
   "nbconvert_exporter": "python",
   "pygments_lexer": "ipython2",
   "version": "2.7.6"
  }
 },
 "nbformat": 4,
 "nbformat_minor": 0
}