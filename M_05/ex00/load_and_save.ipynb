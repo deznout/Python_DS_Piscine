{
 "nbformat": 4,
 "nbformat_minor": 0,
 "metadata": {
  "colab": {
   "provenance": [],
   "mount_file_id": "1nZVNixQzZ2ivKKhvQsGg2jy4hmprcXnz",
   "authorship_tag": "ABX9TyP2tViw/2HP7QrJX83Kai1N"
  },
  "kernelspec": {
   "name": "python3",
   "display_name": "Python 3"
  },
  "language_info": {
   "name": "python"
  }
 },
 "cells": [
  {
   "cell_type": "markdown",
   "source": [
    "## Load and save"
   ],
   "metadata": {
    "id": "ABUS6Z8Z7rGh"
   }
  },
  {
   "cell_type": "code",
   "execution_count": 7,
   "metadata": {
    "id": "MGvHL5pIvKi8",
    "executionInfo": {
     "status": "ok",
     "timestamp": 1664129427048,
     "user_tz": -180,
     "elapsed": 255,
     "user": {
      "displayName": "Цинк Бор",
      "userId": "14455246895586402491"
     }
    }
   },
   "outputs": [],
   "source": [
    "import pandas as pd"
   ]
  },
  {
   "cell_type": "code",
   "source": [
    "columns = ['datetime', 'user']\n",
    "df = pd.read_csv(\"../data/feed-views.log\", sep = '\\t', header = None, names = columns, skiprows = [2, 3], skipfooter = 2)\n",
    "df"
   ],
   "metadata": {
    "colab": {
     "base_uri": "https://localhost:8080/",
     "height": 479
    },
    "id": "fY28UXLxgBrM",
    "executionInfo": {
     "status": "ok",
     "timestamp": 1664129428083,
     "user_tz": -180,
     "elapsed": 4,
     "user": {
      "displayName": "Цинк Бор",
      "userId": "14455246895586402491"
     }
    },
    "outputId": "eb0db243-83ad-48cb-c0cc-489019455cba"
   },
   "execution_count": 9,
   "outputs": [
    {
     "name": "stderr",
     "output_type": "stream",
     "text": [
      "/Users/hbrent/PythonDS/MINE/myenv/lib/python3.7/site-packages/pandas/util/_decorators.py:311: ParserWarning: Falling back to the 'python' engine because the 'c' engine does not support skipfooter; you can avoid this warning by specifying engine='python'.\n",
      "  return func(*args, **kwargs)\n"
     ]
    },
    {
     "data": {
      "text/plain": "                        datetime       user\n0     2020-04-17 12:01:08.463179      artem\n1     2020-04-17 12:01:23.743946      artem\n2     2020-04-17 12:35:52.735016      artem\n3     2020-04-17 12:36:21.401412     oksana\n4     2020-04-17 12:36:22.023355     oksana\n...                          ...        ...\n1067  2020-05-21 16:36:40.915488  ekaterina\n1068  2020-05-21 17:49:36.429237      maxim\n1069  2020-05-21 18:45:20.441142  valentina\n1070  2020-05-21 23:03:06.457819      maxim\n1071  2020-05-21 23:23:49.995349      pavel\n\n[1072 rows x 2 columns]",
      "text/html": "<div>\n<style scoped>\n    .dataframe tbody tr th:only-of-type {\n        vertical-align: middle;\n    }\n\n    .dataframe tbody tr th {\n        vertical-align: top;\n    }\n\n    .dataframe thead th {\n        text-align: right;\n    }\n</style>\n<table border=\"1\" class=\"dataframe\">\n  <thead>\n    <tr style=\"text-align: right;\">\n      <th></th>\n      <th>datetime</th>\n      <th>user</th>\n    </tr>\n  </thead>\n  <tbody>\n    <tr>\n      <th>0</th>\n      <td>2020-04-17 12:01:08.463179</td>\n      <td>artem</td>\n    </tr>\n    <tr>\n      <th>1</th>\n      <td>2020-04-17 12:01:23.743946</td>\n      <td>artem</td>\n    </tr>\n    <tr>\n      <th>2</th>\n      <td>2020-04-17 12:35:52.735016</td>\n      <td>artem</td>\n    </tr>\n    <tr>\n      <th>3</th>\n      <td>2020-04-17 12:36:21.401412</td>\n      <td>oksana</td>\n    </tr>\n    <tr>\n      <th>4</th>\n      <td>2020-04-17 12:36:22.023355</td>\n      <td>oksana</td>\n    </tr>\n    <tr>\n      <th>...</th>\n      <td>...</td>\n      <td>...</td>\n    </tr>\n    <tr>\n      <th>1067</th>\n      <td>2020-05-21 16:36:40.915488</td>\n      <td>ekaterina</td>\n    </tr>\n    <tr>\n      <th>1068</th>\n      <td>2020-05-21 17:49:36.429237</td>\n      <td>maxim</td>\n    </tr>\n    <tr>\n      <th>1069</th>\n      <td>2020-05-21 18:45:20.441142</td>\n      <td>valentina</td>\n    </tr>\n    <tr>\n      <th>1070</th>\n      <td>2020-05-21 23:03:06.457819</td>\n      <td>maxim</td>\n    </tr>\n    <tr>\n      <th>1071</th>\n      <td>2020-05-21 23:23:49.995349</td>\n      <td>pavel</td>\n    </tr>\n  </tbody>\n</table>\n<p>1072 rows × 2 columns</p>\n</div>"
     },
     "execution_count": 9,
     "metadata": {},
     "output_type": "execute_result"
    }
   ]
  },
  {
   "cell_type": "code",
   "source": [
    "df = df.set_index('datetime')\n",
    "df"
   ],
   "metadata": {
    "colab": {
     "base_uri": "https://localhost:8080/",
     "height": 455
    },
    "id": "sAo2cZ-eVJTj",
    "executionInfo": {
     "status": "ok",
     "timestamp": 1664129430628,
     "user_tz": -180,
     "elapsed": 299,
     "user": {
      "displayName": "Цинк Бор",
      "userId": "14455246895586402491"
     }
    },
    "outputId": "51114718-270a-4617-8e86-4adda507baa1"
   },
   "execution_count": 10,
   "outputs": [
    {
     "data": {
      "text/plain": "                                 user\ndatetime                             \n2020-04-17 12:01:08.463179      artem\n2020-04-17 12:01:23.743946      artem\n2020-04-17 12:35:52.735016      artem\n2020-04-17 12:36:21.401412     oksana\n2020-04-17 12:36:22.023355     oksana\n...                               ...\n2020-05-21 16:36:40.915488  ekaterina\n2020-05-21 17:49:36.429237      maxim\n2020-05-21 18:45:20.441142  valentina\n2020-05-21 23:03:06.457819      maxim\n2020-05-21 23:23:49.995349      pavel\n\n[1072 rows x 1 columns]",
      "text/html": "<div>\n<style scoped>\n    .dataframe tbody tr th:only-of-type {\n        vertical-align: middle;\n    }\n\n    .dataframe tbody tr th {\n        vertical-align: top;\n    }\n\n    .dataframe thead th {\n        text-align: right;\n    }\n</style>\n<table border=\"1\" class=\"dataframe\">\n  <thead>\n    <tr style=\"text-align: right;\">\n      <th></th>\n      <th>user</th>\n    </tr>\n    <tr>\n      <th>datetime</th>\n      <th></th>\n    </tr>\n  </thead>\n  <tbody>\n    <tr>\n      <th>2020-04-17 12:01:08.463179</th>\n      <td>artem</td>\n    </tr>\n    <tr>\n      <th>2020-04-17 12:01:23.743946</th>\n      <td>artem</td>\n    </tr>\n    <tr>\n      <th>2020-04-17 12:35:52.735016</th>\n      <td>artem</td>\n    </tr>\n    <tr>\n      <th>2020-04-17 12:36:21.401412</th>\n      <td>oksana</td>\n    </tr>\n    <tr>\n      <th>2020-04-17 12:36:22.023355</th>\n      <td>oksana</td>\n    </tr>\n    <tr>\n      <th>...</th>\n      <td>...</td>\n    </tr>\n    <tr>\n      <th>2020-05-21 16:36:40.915488</th>\n      <td>ekaterina</td>\n    </tr>\n    <tr>\n      <th>2020-05-21 17:49:36.429237</th>\n      <td>maxim</td>\n    </tr>\n    <tr>\n      <th>2020-05-21 18:45:20.441142</th>\n      <td>valentina</td>\n    </tr>\n    <tr>\n      <th>2020-05-21 23:03:06.457819</th>\n      <td>maxim</td>\n    </tr>\n    <tr>\n      <th>2020-05-21 23:23:49.995349</th>\n      <td>pavel</td>\n    </tr>\n  </tbody>\n</table>\n<p>1072 rows × 1 columns</p>\n</div>"
     },
     "execution_count": 10,
     "metadata": {},
     "output_type": "execute_result"
    }
   ]
  },
  {
   "cell_type": "code",
   "source": [
    "df.index.names = ['date_time']\n",
    "df.to_csv('../data/feed-views-semicolon.log', sep = ';')\n",
    "df"
   ],
   "metadata": {
    "colab": {
     "base_uri": "https://localhost:8080/",
     "height": 455
    },
    "id": "hFfqg0_qmovc",
    "executionInfo": {
     "status": "ok",
     "timestamp": 1664129443715,
     "user_tz": -180,
     "elapsed": 264,
     "user": {
      "displayName": "Цинк Бор",
      "userId": "14455246895586402491"
     }
    },
    "outputId": "d3fe543e-93dc-498d-9e83-fa19f6285ac9"
   },
   "execution_count": 11,
   "outputs": [
    {
     "data": {
      "text/plain": "                                 user\ndate_time                            \n2020-04-17 12:01:08.463179      artem\n2020-04-17 12:01:23.743946      artem\n2020-04-17 12:35:52.735016      artem\n2020-04-17 12:36:21.401412     oksana\n2020-04-17 12:36:22.023355     oksana\n...                               ...\n2020-05-21 16:36:40.915488  ekaterina\n2020-05-21 17:49:36.429237      maxim\n2020-05-21 18:45:20.441142  valentina\n2020-05-21 23:03:06.457819      maxim\n2020-05-21 23:23:49.995349      pavel\n\n[1072 rows x 1 columns]",
      "text/html": "<div>\n<style scoped>\n    .dataframe tbody tr th:only-of-type {\n        vertical-align: middle;\n    }\n\n    .dataframe tbody tr th {\n        vertical-align: top;\n    }\n\n    .dataframe thead th {\n        text-align: right;\n    }\n</style>\n<table border=\"1\" class=\"dataframe\">\n  <thead>\n    <tr style=\"text-align: right;\">\n      <th></th>\n      <th>user</th>\n    </tr>\n    <tr>\n      <th>date_time</th>\n      <th></th>\n    </tr>\n  </thead>\n  <tbody>\n    <tr>\n      <th>2020-04-17 12:01:08.463179</th>\n      <td>artem</td>\n    </tr>\n    <tr>\n      <th>2020-04-17 12:01:23.743946</th>\n      <td>artem</td>\n    </tr>\n    <tr>\n      <th>2020-04-17 12:35:52.735016</th>\n      <td>artem</td>\n    </tr>\n    <tr>\n      <th>2020-04-17 12:36:21.401412</th>\n      <td>oksana</td>\n    </tr>\n    <tr>\n      <th>2020-04-17 12:36:22.023355</th>\n      <td>oksana</td>\n    </tr>\n    <tr>\n      <th>...</th>\n      <td>...</td>\n    </tr>\n    <tr>\n      <th>2020-05-21 16:36:40.915488</th>\n      <td>ekaterina</td>\n    </tr>\n    <tr>\n      <th>2020-05-21 17:49:36.429237</th>\n      <td>maxim</td>\n    </tr>\n    <tr>\n      <th>2020-05-21 18:45:20.441142</th>\n      <td>valentina</td>\n    </tr>\n    <tr>\n      <th>2020-05-21 23:03:06.457819</th>\n      <td>maxim</td>\n    </tr>\n    <tr>\n      <th>2020-05-21 23:23:49.995349</th>\n      <td>pavel</td>\n    </tr>\n  </tbody>\n</table>\n<p>1072 rows × 1 columns</p>\n</div>"
     },
     "execution_count": 11,
     "metadata": {},
     "output_type": "execute_result"
    }
   ]
  },
  {
   "cell_type": "code",
   "source": [
    "df_1 = pd.read_csv('../data/feed-views-semicolon.log', sep = ';')\n",
    "df_1.head()"
   ],
   "metadata": {
    "colab": {
     "base_uri": "https://localhost:8080/",
     "height": 206
    },
    "id": "HTQj7Gy4w9U_",
    "executionInfo": {
     "status": "ok",
     "timestamp": 1664129447646,
     "user_tz": -180,
     "elapsed": 348,
     "user": {
      "displayName": "Цинк Бор",
      "userId": "14455246895586402491"
     }
    },
    "outputId": "f1abd215-8c53-4a0a-f34f-d149461bf676"
   },
   "execution_count": 12,
   "outputs": [
    {
     "data": {
      "text/plain": "                    date_time    user\n0  2020-04-17 12:01:08.463179   artem\n1  2020-04-17 12:01:23.743946   artem\n2  2020-04-17 12:35:52.735016   artem\n3  2020-04-17 12:36:21.401412  oksana\n4  2020-04-17 12:36:22.023355  oksana",
      "text/html": "<div>\n<style scoped>\n    .dataframe tbody tr th:only-of-type {\n        vertical-align: middle;\n    }\n\n    .dataframe tbody tr th {\n        vertical-align: top;\n    }\n\n    .dataframe thead th {\n        text-align: right;\n    }\n</style>\n<table border=\"1\" class=\"dataframe\">\n  <thead>\n    <tr style=\"text-align: right;\">\n      <th></th>\n      <th>date_time</th>\n      <th>user</th>\n    </tr>\n  </thead>\n  <tbody>\n    <tr>\n      <th>0</th>\n      <td>2020-04-17 12:01:08.463179</td>\n      <td>artem</td>\n    </tr>\n    <tr>\n      <th>1</th>\n      <td>2020-04-17 12:01:23.743946</td>\n      <td>artem</td>\n    </tr>\n    <tr>\n      <th>2</th>\n      <td>2020-04-17 12:35:52.735016</td>\n      <td>artem</td>\n    </tr>\n    <tr>\n      <th>3</th>\n      <td>2020-04-17 12:36:21.401412</td>\n      <td>oksana</td>\n    </tr>\n    <tr>\n      <th>4</th>\n      <td>2020-04-17 12:36:22.023355</td>\n      <td>oksana</td>\n    </tr>\n  </tbody>\n</table>\n</div>"
     },
     "execution_count": 12,
     "metadata": {},
     "output_type": "execute_result"
    }
   ]
  },
  {
   "cell_type": "code",
   "execution_count": null,
   "outputs": [],
   "source": [],
   "metadata": {
    "collapsed": false,
    "pycharm": {
     "name": "#%%\n"
    }
   }
  }
 ]
}