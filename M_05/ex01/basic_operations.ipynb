{
 "nbformat": 4,
 "nbformat_minor": 0,
 "metadata": {
  "colab": {
   "provenance": [],
   "mount_file_id": "1wY0_Wri4m1zt8UZ0mqm6bn2tcTptHMwP",
   "authorship_tag": "ABX9TyMaZ4cZuKgUvugZlI862FZH"
  },
  "kernelspec": {
   "name": "python3",
   "display_name": "Python 3"
  },
  "language_info": {
   "name": "python"
  }
 },
 "cells": [
  {
   "cell_type": "code",
   "source": [
    "import pandas as pd"
   ],
   "metadata": {
    "id": "SuGTPihj218n",
    "executionInfo": {
     "status": "ok",
     "timestamp": 1664135746863,
     "user_tz": -180,
     "elapsed": 2,
     "user": {
      "displayName": "Цинк Бор",
      "userId": "14455246895586402491"
     }
    }
   },
   "execution_count": 1,
   "outputs": []
  },
  {
   "cell_type": "code",
   "source": [
    "columns = ['datetime', 'user']\n",
    "df = pd.read_csv(\"../data/feed-views.log\", sep = '\\t', header = None, names = columns)\n",
    "df['datetime'] = pd.to_datetime(df.datetime)\n",
    "print(df.head())\n",
    "df.info()"
   ],
   "metadata": {
    "colab": {
     "base_uri": "https://localhost:8080/"
    },
    "id": "RxXPABFO3zNt",
    "executionInfo": {
     "status": "ok",
     "timestamp": 1664135747714,
     "user_tz": -180,
     "elapsed": 386,
     "user": {
      "displayName": "Цинк Бор",
      "userId": "14455246895586402491"
     }
    },
    "outputId": "979399b0-73b1-4ff8-eb6a-836a22b330c2"
   },
   "execution_count": 2,
   "outputs": [
    {
     "name": "stdout",
     "output_type": "stream",
     "text": [
      "                    datetime   user\n",
      "0 2020-04-17 12:01:08.463179  artem\n",
      "1 2020-04-17 12:01:23.743946  artem\n",
      "2 2020-04-17 12:27:30.646665  artem\n",
      "3 2020-04-17 12:35:44.884757  artem\n",
      "4 2020-04-17 12:35:52.735016  artem\n",
      "<class 'pandas.core.frame.DataFrame'>\n",
      "RangeIndex: 1076 entries, 0 to 1075\n",
      "Data columns (total 2 columns):\n",
      " #   Column    Non-Null Count  Dtype         \n",
      "---  ------    --------------  -----         \n",
      " 0   datetime  1076 non-null   datetime64[ns]\n",
      " 1   user      1076 non-null   object        \n",
      "dtypes: datetime64[ns](1), object(1)\n",
      "memory usage: 16.9+ KB\n"
     ]
    }
   ]
  },
  {
   "cell_type": "code",
   "source": [
    "df['year'] = pd.DatetimeIndex(df['datetime']).year\n",
    "df['month'] = pd.DatetimeIndex(df['datetime']).month\n",
    "df['day'] = pd.DatetimeIndex(df['datetime']).day\n",
    "df['hour'] = pd.DatetimeIndex(df['datetime']).hour\n",
    "df['minute'] = pd.DatetimeIndex(df['datetime']).minute\n",
    "df['second'] = pd.DatetimeIndex(df['datetime']).second\n",
    "df.info()"
   ],
   "metadata": {
    "colab": {
     "base_uri": "https://localhost:8080/"
    },
    "id": "gMRw8HpW9mvx",
    "executionInfo": {
     "status": "ok",
     "timestamp": 1664135748778,
     "user_tz": -180,
     "elapsed": 2,
     "user": {
      "displayName": "Цинк Бор",
      "userId": "14455246895586402491"
     }
    },
    "outputId": "7bf59878-6e02-4281-da33-056880d6e90c"
   },
   "execution_count": 3,
   "outputs": [
    {
     "name": "stdout",
     "output_type": "stream",
     "text": [
      "<class 'pandas.core.frame.DataFrame'>\n",
      "RangeIndex: 1076 entries, 0 to 1075\n",
      "Data columns (total 8 columns):\n",
      " #   Column    Non-Null Count  Dtype         \n",
      "---  ------    --------------  -----         \n",
      " 0   datetime  1076 non-null   datetime64[ns]\n",
      " 1   user      1076 non-null   object        \n",
      " 2   year      1076 non-null   int64         \n",
      " 3   month     1076 non-null   int64         \n",
      " 4   day       1076 non-null   int64         \n",
      " 5   hour      1076 non-null   int64         \n",
      " 6   minute    1076 non-null   int64         \n",
      " 7   second    1076 non-null   int64         \n",
      "dtypes: datetime64[ns](1), int64(6), object(1)\n",
      "memory usage: 67.4+ KB\n"
     ]
    }
   ]
  },
  {
   "cell_type": "code",
   "source": [
    "df['daytime'] = pd.cut(x=df['hour'], bins=[0, 4, 7, 11, 17, 20, 24],\n",
    "                    labels=['night', 'early morning', 'morning',\n",
    "                            'afternoon', 'early evening', 'evening'], include_lowest=True, right=False)\n",
    "df.tail(20)"
   ],
   "metadata": {
    "colab": {
     "base_uri": "https://localhost:8080/",
     "height": 677
    },
    "id": "pdqVUcExBodf",
    "executionInfo": {
     "status": "ok",
     "timestamp": 1664135749995,
     "user_tz": -180,
     "elapsed": 4,
     "user": {
      "displayName": "Цинк Бор",
      "userId": "14455246895586402491"
     }
    },
    "outputId": "6d138d74-b244-46b7-cf04-996cd5944973"
   },
   "execution_count": 4,
   "outputs": [
    {
     "data": {
      "text/plain": "                       datetime       user  year  month  day  hour  minute  \\\n1056 2020-05-20 11:06:11.251261  ekaterina  2020      5   20    11       6   \n1057 2020-05-20 15:24:14.569644  alexander  2020      5   20    15      24   \n1058 2020-05-20 17:03:01.606846      pavel  2020      5   20    17       3   \n1059 2020-05-20 17:10:26.636095      pavel  2020      5   20    17      10   \n1060 2020-05-20 17:43:17.804904      pavel  2020      5   20    17      43   \n1061 2020-05-20 17:52:59.152339      pavel  2020      5   20    17      52   \n1062 2020-05-20 23:43:07.300734  valentina  2020      5   20    23      43   \n1063 2020-05-21 00:56:24.263958  valentina  2020      5   21     0      56   \n1064 2020-05-21 01:46:08.730098  valentina  2020      5   21     1      46   \n1065 2020-05-21 01:57:58.652380      pavel  2020      5   21     1      57   \n1066 2020-05-21 12:33:32.521770      maxim  2020      5   21    12      33   \n1067 2020-05-21 12:33:32.812265      maxim  2020      5   21    12      33   \n1068 2020-05-21 16:28:28.217529  ekaterina  2020      5   21    16      28   \n1069 2020-05-21 16:36:40.915488  ekaterina  2020      5   21    16      36   \n1070 2020-05-21 17:49:36.429237      maxim  2020      5   21    17      49   \n1071 2020-05-21 18:45:20.441142  valentina  2020      5   21    18      45   \n1072 2020-05-21 23:03:06.457819      maxim  2020      5   21    23       3   \n1073 2020-05-21 23:23:49.995349      pavel  2020      5   21    23      23   \n1074 2020-05-21 23:49:22.386789      artem  2020      5   21    23      49   \n1075 2020-05-22 10:36:14.662600      artem  2020      5   22    10      36   \n\n      second        daytime  \n1056      11      afternoon  \n1057      14      afternoon  \n1058       1  early evening  \n1059      26  early evening  \n1060      17  early evening  \n1061      59  early evening  \n1062       7        evening  \n1063      24          night  \n1064       8          night  \n1065      58          night  \n1066      32      afternoon  \n1067      32      afternoon  \n1068      28      afternoon  \n1069      40      afternoon  \n1070      36  early evening  \n1071      20  early evening  \n1072       6        evening  \n1073      49        evening  \n1074      22        evening  \n1075      14        morning  ",
      "text/html": "<div>\n<style scoped>\n    .dataframe tbody tr th:only-of-type {\n        vertical-align: middle;\n    }\n\n    .dataframe tbody tr th {\n        vertical-align: top;\n    }\n\n    .dataframe thead th {\n        text-align: right;\n    }\n</style>\n<table border=\"1\" class=\"dataframe\">\n  <thead>\n    <tr style=\"text-align: right;\">\n      <th></th>\n      <th>datetime</th>\n      <th>user</th>\n      <th>year</th>\n      <th>month</th>\n      <th>day</th>\n      <th>hour</th>\n      <th>minute</th>\n      <th>second</th>\n      <th>daytime</th>\n    </tr>\n  </thead>\n  <tbody>\n    <tr>\n      <th>1056</th>\n      <td>2020-05-20 11:06:11.251261</td>\n      <td>ekaterina</td>\n      <td>2020</td>\n      <td>5</td>\n      <td>20</td>\n      <td>11</td>\n      <td>6</td>\n      <td>11</td>\n      <td>afternoon</td>\n    </tr>\n    <tr>\n      <th>1057</th>\n      <td>2020-05-20 15:24:14.569644</td>\n      <td>alexander</td>\n      <td>2020</td>\n      <td>5</td>\n      <td>20</td>\n      <td>15</td>\n      <td>24</td>\n      <td>14</td>\n      <td>afternoon</td>\n    </tr>\n    <tr>\n      <th>1058</th>\n      <td>2020-05-20 17:03:01.606846</td>\n      <td>pavel</td>\n      <td>2020</td>\n      <td>5</td>\n      <td>20</td>\n      <td>17</td>\n      <td>3</td>\n      <td>1</td>\n      <td>early evening</td>\n    </tr>\n    <tr>\n      <th>1059</th>\n      <td>2020-05-20 17:10:26.636095</td>\n      <td>pavel</td>\n      <td>2020</td>\n      <td>5</td>\n      <td>20</td>\n      <td>17</td>\n      <td>10</td>\n      <td>26</td>\n      <td>early evening</td>\n    </tr>\n    <tr>\n      <th>1060</th>\n      <td>2020-05-20 17:43:17.804904</td>\n      <td>pavel</td>\n      <td>2020</td>\n      <td>5</td>\n      <td>20</td>\n      <td>17</td>\n      <td>43</td>\n      <td>17</td>\n      <td>early evening</td>\n    </tr>\n    <tr>\n      <th>1061</th>\n      <td>2020-05-20 17:52:59.152339</td>\n      <td>pavel</td>\n      <td>2020</td>\n      <td>5</td>\n      <td>20</td>\n      <td>17</td>\n      <td>52</td>\n      <td>59</td>\n      <td>early evening</td>\n    </tr>\n    <tr>\n      <th>1062</th>\n      <td>2020-05-20 23:43:07.300734</td>\n      <td>valentina</td>\n      <td>2020</td>\n      <td>5</td>\n      <td>20</td>\n      <td>23</td>\n      <td>43</td>\n      <td>7</td>\n      <td>evening</td>\n    </tr>\n    <tr>\n      <th>1063</th>\n      <td>2020-05-21 00:56:24.263958</td>\n      <td>valentina</td>\n      <td>2020</td>\n      <td>5</td>\n      <td>21</td>\n      <td>0</td>\n      <td>56</td>\n      <td>24</td>\n      <td>night</td>\n    </tr>\n    <tr>\n      <th>1064</th>\n      <td>2020-05-21 01:46:08.730098</td>\n      <td>valentina</td>\n      <td>2020</td>\n      <td>5</td>\n      <td>21</td>\n      <td>1</td>\n      <td>46</td>\n      <td>8</td>\n      <td>night</td>\n    </tr>\n    <tr>\n      <th>1065</th>\n      <td>2020-05-21 01:57:58.652380</td>\n      <td>pavel</td>\n      <td>2020</td>\n      <td>5</td>\n      <td>21</td>\n      <td>1</td>\n      <td>57</td>\n      <td>58</td>\n      <td>night</td>\n    </tr>\n    <tr>\n      <th>1066</th>\n      <td>2020-05-21 12:33:32.521770</td>\n      <td>maxim</td>\n      <td>2020</td>\n      <td>5</td>\n      <td>21</td>\n      <td>12</td>\n      <td>33</td>\n      <td>32</td>\n      <td>afternoon</td>\n    </tr>\n    <tr>\n      <th>1067</th>\n      <td>2020-05-21 12:33:32.812265</td>\n      <td>maxim</td>\n      <td>2020</td>\n      <td>5</td>\n      <td>21</td>\n      <td>12</td>\n      <td>33</td>\n      <td>32</td>\n      <td>afternoon</td>\n    </tr>\n    <tr>\n      <th>1068</th>\n      <td>2020-05-21 16:28:28.217529</td>\n      <td>ekaterina</td>\n      <td>2020</td>\n      <td>5</td>\n      <td>21</td>\n      <td>16</td>\n      <td>28</td>\n      <td>28</td>\n      <td>afternoon</td>\n    </tr>\n    <tr>\n      <th>1069</th>\n      <td>2020-05-21 16:36:40.915488</td>\n      <td>ekaterina</td>\n      <td>2020</td>\n      <td>5</td>\n      <td>21</td>\n      <td>16</td>\n      <td>36</td>\n      <td>40</td>\n      <td>afternoon</td>\n    </tr>\n    <tr>\n      <th>1070</th>\n      <td>2020-05-21 17:49:36.429237</td>\n      <td>maxim</td>\n      <td>2020</td>\n      <td>5</td>\n      <td>21</td>\n      <td>17</td>\n      <td>49</td>\n      <td>36</td>\n      <td>early evening</td>\n    </tr>\n    <tr>\n      <th>1071</th>\n      <td>2020-05-21 18:45:20.441142</td>\n      <td>valentina</td>\n      <td>2020</td>\n      <td>5</td>\n      <td>21</td>\n      <td>18</td>\n      <td>45</td>\n      <td>20</td>\n      <td>early evening</td>\n    </tr>\n    <tr>\n      <th>1072</th>\n      <td>2020-05-21 23:03:06.457819</td>\n      <td>maxim</td>\n      <td>2020</td>\n      <td>5</td>\n      <td>21</td>\n      <td>23</td>\n      <td>3</td>\n      <td>6</td>\n      <td>evening</td>\n    </tr>\n    <tr>\n      <th>1073</th>\n      <td>2020-05-21 23:23:49.995349</td>\n      <td>pavel</td>\n      <td>2020</td>\n      <td>5</td>\n      <td>21</td>\n      <td>23</td>\n      <td>23</td>\n      <td>49</td>\n      <td>evening</td>\n    </tr>\n    <tr>\n      <th>1074</th>\n      <td>2020-05-21 23:49:22.386789</td>\n      <td>artem</td>\n      <td>2020</td>\n      <td>5</td>\n      <td>21</td>\n      <td>23</td>\n      <td>49</td>\n      <td>22</td>\n      <td>evening</td>\n    </tr>\n    <tr>\n      <th>1075</th>\n      <td>2020-05-22 10:36:14.662600</td>\n      <td>artem</td>\n      <td>2020</td>\n      <td>5</td>\n      <td>22</td>\n      <td>10</td>\n      <td>36</td>\n      <td>14</td>\n      <td>morning</td>\n    </tr>\n  </tbody>\n</table>\n</div>"
     },
     "execution_count": 4,
     "metadata": {},
     "output_type": "execute_result"
    }
   ]
  },
  {
   "cell_type": "code",
   "source": [
    "print(df.datetime.count())\n",
    "df.daytime.value_counts()"
   ],
   "metadata": {
    "colab": {
     "base_uri": "https://localhost:8080/"
    },
    "id": "tVu7fisCHOH4",
    "executionInfo": {
     "status": "ok",
     "timestamp": 1664135752179,
     "user_tz": -180,
     "elapsed": 3,
     "user": {
      "displayName": "Цинк Бор",
      "userId": "14455246895586402491"
     }
    },
    "outputId": "fe0a5b71-86da-460f-f34c-8e25f6e01687"
   },
   "execution_count": 5,
   "outputs": [
    {
     "name": "stdout",
     "output_type": "stream",
     "text": [
      "1076\n"
     ]
    },
    {
     "data": {
      "text/plain": "evening          509\nafternoon        252\nearly evening    145\nnight            129\nmorning           36\nearly morning      5\nName: daytime, dtype: int64"
     },
     "execution_count": 5,
     "metadata": {},
     "output_type": "execute_result"
    }
   ]
  },
  {
   "cell_type": "code",
   "source": [
    "df.sort_values(by=[\"hour\", \"minute\", \"second\"], axis=0, inplace=True)\n",
    "df"
   ],
   "metadata": {
    "colab": {
     "base_uri": "https://localhost:8080/",
     "height": 424
    },
    "id": "VwkENELBInow",
    "executionInfo": {
     "status": "ok",
     "timestamp": 1664135943768,
     "user_tz": -180,
     "elapsed": 388,
     "user": {
      "displayName": "Цинк Бор",
      "userId": "14455246895586402491"
     }
    },
    "outputId": "e493cf12-3eb1-4427-82b1-59d861d7cdaf"
   },
   "execution_count": 6,
   "outputs": [
    {
     "data": {
      "text/plain": "                       datetime       user  year  month  day  hour  minute  \\\n944  2020-05-15 00:00:13.222265  valentina  2020      5   15     0       0   \n945  2020-05-15 00:01:05.153738  valentina  2020      5   15     0       1   \n563  2020-05-12 00:01:27.764025      pavel  2020      5   12     0       1   \n564  2020-05-12 00:01:38.444917      pavel  2020      5   12     0       1   \n565  2020-05-12 00:01:55.395042      pavel  2020      5   12     0       1   \n...                         ...        ...   ...    ...  ...   ...     ...   \n1074 2020-05-21 23:49:22.386789      artem  2020      5   21    23      49   \n246  2020-05-09 23:53:55.599821   anatoliy  2020      5    9    23      53   \n247  2020-05-09 23:54:54.260791      pavel  2020      5    9    23      54   \n942  2020-05-14 23:58:56.754866  valentina  2020      5   14    23      58   \n943  2020-05-14 23:59:38.758438  alexander  2020      5   14    23      59   \n\n      second  daytime  \n944       13    night  \n945        5    night  \n563       27    night  \n564       38    night  \n565       55    night  \n...      ...      ...  \n1074      22  evening  \n246       55  evening  \n247       54  evening  \n942       56  evening  \n943       38  evening  \n\n[1076 rows x 9 columns]",
      "text/html": "<div>\n<style scoped>\n    .dataframe tbody tr th:only-of-type {\n        vertical-align: middle;\n    }\n\n    .dataframe tbody tr th {\n        vertical-align: top;\n    }\n\n    .dataframe thead th {\n        text-align: right;\n    }\n</style>\n<table border=\"1\" class=\"dataframe\">\n  <thead>\n    <tr style=\"text-align: right;\">\n      <th></th>\n      <th>datetime</th>\n      <th>user</th>\n      <th>year</th>\n      <th>month</th>\n      <th>day</th>\n      <th>hour</th>\n      <th>minute</th>\n      <th>second</th>\n      <th>daytime</th>\n    </tr>\n  </thead>\n  <tbody>\n    <tr>\n      <th>944</th>\n      <td>2020-05-15 00:00:13.222265</td>\n      <td>valentina</td>\n      <td>2020</td>\n      <td>5</td>\n      <td>15</td>\n      <td>0</td>\n      <td>0</td>\n      <td>13</td>\n      <td>night</td>\n    </tr>\n    <tr>\n      <th>945</th>\n      <td>2020-05-15 00:01:05.153738</td>\n      <td>valentina</td>\n      <td>2020</td>\n      <td>5</td>\n      <td>15</td>\n      <td>0</td>\n      <td>1</td>\n      <td>5</td>\n      <td>night</td>\n    </tr>\n    <tr>\n      <th>563</th>\n      <td>2020-05-12 00:01:27.764025</td>\n      <td>pavel</td>\n      <td>2020</td>\n      <td>5</td>\n      <td>12</td>\n      <td>0</td>\n      <td>1</td>\n      <td>27</td>\n      <td>night</td>\n    </tr>\n    <tr>\n      <th>564</th>\n      <td>2020-05-12 00:01:38.444917</td>\n      <td>pavel</td>\n      <td>2020</td>\n      <td>5</td>\n      <td>12</td>\n      <td>0</td>\n      <td>1</td>\n      <td>38</td>\n      <td>night</td>\n    </tr>\n    <tr>\n      <th>565</th>\n      <td>2020-05-12 00:01:55.395042</td>\n      <td>pavel</td>\n      <td>2020</td>\n      <td>5</td>\n      <td>12</td>\n      <td>0</td>\n      <td>1</td>\n      <td>55</td>\n      <td>night</td>\n    </tr>\n    <tr>\n      <th>...</th>\n      <td>...</td>\n      <td>...</td>\n      <td>...</td>\n      <td>...</td>\n      <td>...</td>\n      <td>...</td>\n      <td>...</td>\n      <td>...</td>\n      <td>...</td>\n    </tr>\n    <tr>\n      <th>1074</th>\n      <td>2020-05-21 23:49:22.386789</td>\n      <td>artem</td>\n      <td>2020</td>\n      <td>5</td>\n      <td>21</td>\n      <td>23</td>\n      <td>49</td>\n      <td>22</td>\n      <td>evening</td>\n    </tr>\n    <tr>\n      <th>246</th>\n      <td>2020-05-09 23:53:55.599821</td>\n      <td>anatoliy</td>\n      <td>2020</td>\n      <td>5</td>\n      <td>9</td>\n      <td>23</td>\n      <td>53</td>\n      <td>55</td>\n      <td>evening</td>\n    </tr>\n    <tr>\n      <th>247</th>\n      <td>2020-05-09 23:54:54.260791</td>\n      <td>pavel</td>\n      <td>2020</td>\n      <td>5</td>\n      <td>9</td>\n      <td>23</td>\n      <td>54</td>\n      <td>54</td>\n      <td>evening</td>\n    </tr>\n    <tr>\n      <th>942</th>\n      <td>2020-05-14 23:58:56.754866</td>\n      <td>valentina</td>\n      <td>2020</td>\n      <td>5</td>\n      <td>14</td>\n      <td>23</td>\n      <td>58</td>\n      <td>56</td>\n      <td>evening</td>\n    </tr>\n    <tr>\n      <th>943</th>\n      <td>2020-05-14 23:59:38.758438</td>\n      <td>alexander</td>\n      <td>2020</td>\n      <td>5</td>\n      <td>14</td>\n      <td>23</td>\n      <td>59</td>\n      <td>38</td>\n      <td>evening</td>\n    </tr>\n  </tbody>\n</table>\n<p>1076 rows × 9 columns</p>\n</div>"
     },
     "execution_count": 6,
     "metadata": {},
     "output_type": "execute_result"
    }
   ]
  },
  {
   "cell_type": "code",
   "source": [
    "max_night = df.hour[df.daytime == 'night'].max()\n",
    "print(max_night)\n",
    "min_morning = df.hour[df.daytime == 'morning'].min()\n",
    "min_morning"
   ],
   "metadata": {
    "colab": {
     "base_uri": "https://localhost:8080/"
    },
    "id": "ptWW48dWMh5s",
    "executionInfo": {
     "status": "ok",
     "timestamp": 1664135946447,
     "user_tz": -180,
     "elapsed": 2,
     "user": {
      "displayName": "Цинк Бор",
      "userId": "14455246895586402491"
     }
    },
    "outputId": "93f0e269-b75d-4f3c-a3e5-05b164f8b233"
   },
   "execution_count": 7,
   "outputs": [
    {
     "name": "stdout",
     "output_type": "stream",
     "text": [
      "3\n"
     ]
    },
    {
     "data": {
      "text/plain": "8"
     },
     "execution_count": 7,
     "metadata": {},
     "output_type": "execute_result"
    }
   ]
  },
  {
   "cell_type": "code",
   "source": [
    "df[(df['daytime'] == 'night') & (df['hour'] == 3)][:1]"
   ],
   "metadata": {
    "colab": {
     "base_uri": "https://localhost:8080/",
     "height": 81
    },
    "id": "lP60fi_BOJ4g",
    "executionInfo": {
     "status": "ok",
     "timestamp": 1664136217506,
     "user_tz": -180,
     "elapsed": 479,
     "user": {
      "displayName": "Цинк Бор",
      "userId": "14455246895586402491"
     }
    },
    "outputId": "53fedc90-fc31-4b99-82f0-6aa7e9b02276"
   },
   "execution_count": 8,
   "outputs": [
    {
     "data": {
      "text/plain": "                     datetime        user  year  month  day  hour  minute  \\\n46 2020-04-19 03:23:35.471598  konstantin  2020      4   19     3      23   \n\n    second daytime  \n46      35   night  ",
      "text/html": "<div>\n<style scoped>\n    .dataframe tbody tr th:only-of-type {\n        vertical-align: middle;\n    }\n\n    .dataframe tbody tr th {\n        vertical-align: top;\n    }\n\n    .dataframe thead th {\n        text-align: right;\n    }\n</style>\n<table border=\"1\" class=\"dataframe\">\n  <thead>\n    <tr style=\"text-align: right;\">\n      <th></th>\n      <th>datetime</th>\n      <th>user</th>\n      <th>year</th>\n      <th>month</th>\n      <th>day</th>\n      <th>hour</th>\n      <th>minute</th>\n      <th>second</th>\n      <th>daytime</th>\n    </tr>\n  </thead>\n  <tbody>\n    <tr>\n      <th>46</th>\n      <td>2020-04-19 03:23:35.471598</td>\n      <td>konstantin</td>\n      <td>2020</td>\n      <td>4</td>\n      <td>19</td>\n      <td>3</td>\n      <td>23</td>\n      <td>35</td>\n      <td>night</td>\n    </tr>\n  </tbody>\n</table>\n</div>"
     },
     "execution_count": 8,
     "metadata": {},
     "output_type": "execute_result"
    }
   ]
  },
  {
   "cell_type": "code",
   "source": [
    "df[(df['daytime'] == 'morning') & (df['hour'] == 8)][:1]"
   ],
   "metadata": {
    "id": "h-20VOkxNYbv",
    "colab": {
     "base_uri": "https://localhost:8080/",
     "height": 81
    },
    "executionInfo": {
     "status": "ok",
     "timestamp": 1664136244035,
     "user_tz": -180,
     "elapsed": 379,
     "user": {
      "displayName": "Цинк Бор",
      "userId": "14455246895586402491"
     }
    },
    "outputId": "4cf7be91-6a22-4431-badd-dc63fc4a94d6"
   },
   "execution_count": 9,
   "outputs": [
    {
     "data": {
      "text/plain": "                      datetime       user  year  month  day  hour  minute  \\\n963 2020-05-15 08:16:03.918402  alexander  2020      5   15     8      16   \n\n     second  daytime  \n963       3  morning  ",
      "text/html": "<div>\n<style scoped>\n    .dataframe tbody tr th:only-of-type {\n        vertical-align: middle;\n    }\n\n    .dataframe tbody tr th {\n        vertical-align: top;\n    }\n\n    .dataframe thead th {\n        text-align: right;\n    }\n</style>\n<table border=\"1\" class=\"dataframe\">\n  <thead>\n    <tr style=\"text-align: right;\">\n      <th></th>\n      <th>datetime</th>\n      <th>user</th>\n      <th>year</th>\n      <th>month</th>\n      <th>day</th>\n      <th>hour</th>\n      <th>minute</th>\n      <th>second</th>\n      <th>daytime</th>\n    </tr>\n  </thead>\n  <tbody>\n    <tr>\n      <th>963</th>\n      <td>2020-05-15 08:16:03.918402</td>\n      <td>alexander</td>\n      <td>2020</td>\n      <td>5</td>\n      <td>15</td>\n      <td>8</td>\n      <td>16</td>\n      <td>3</td>\n      <td>morning</td>\n    </tr>\n  </tbody>\n</table>\n</div>"
     },
     "execution_count": 9,
     "metadata": {},
     "output_type": "execute_result"
    }
   ]
  },
  {
   "cell_type": "code",
   "source": [
    "m1 = df['hour'].mode()\n",
    "m2 = df['daytime'].mode()\n",
    "(m1, m2)"
   ],
   "metadata": {
    "colab": {
     "base_uri": "https://localhost:8080/"
    },
    "id": "1xmOuxlrP-0Q",
    "executionInfo": {
     "status": "ok",
     "timestamp": 1664136338597,
     "user_tz": -180,
     "elapsed": 369,
     "user": {
      "displayName": "Цинк Бор",
      "userId": "14455246895586402491"
     }
    },
    "outputId": "bde469ba-d950-4969-b6ce-4ab702da5ee5"
   },
   "execution_count": 10,
   "outputs": [
    {
     "data": {
      "text/plain": "(0    22\n dtype: int64,\n 0    evening\n Name: daytime, dtype: category\n Categories (6, object): ['night' < 'early morning' < 'morning' < 'afternoon' < 'early evening' < 'evening'])"
     },
     "execution_count": 10,
     "metadata": {},
     "output_type": "execute_result"
    }
   ]
  },
  {
   "cell_type": "code",
   "source": [
    "earliest = df[df['daytime'] == 'morning'].nsmallest(3, ['hour', 'minute', 'second'])\n",
    "latest = df.nlargest(3, ['hour', 'minute', 'second'])\n",
    "earliest, latest"
   ],
   "metadata": {
    "colab": {
     "base_uri": "https://localhost:8080/"
    },
    "id": "ecpGO3KkQZPq",
    "executionInfo": {
     "status": "ok",
     "timestamp": 1664136372666,
     "user_tz": -180,
     "elapsed": 381,
     "user": {
      "displayName": "Цинк Бор",
      "userId": "14455246895586402491"
     }
    },
    "outputId": "1e72f63e-3fad-4826-b83c-16d9f734bb1b"
   },
   "execution_count": 11,
   "outputs": [
    {
     "data": {
      "text/plain": "(                      datetime       user  year  month  day  hour  minute  \\\n 963 2020-05-15 08:16:03.918402  alexander  2020      5   15     8      16   \n 964 2020-05-15 08:35:01.471463  alexander  2020      5   15     8      35   \n 965 2020-05-15 09:02:24.999438  alexander  2020      5   15     9       2   \n \n      second  daytime  \n 963       3  morning  \n 964       1  morning  \n 965      24  morning  ,\n                       datetime       user  year  month  day  hour  minute  \\\n 943 2020-05-14 23:59:38.758438  alexander  2020      5   14    23      59   \n 942 2020-05-14 23:58:56.754866  valentina  2020      5   14    23      58   \n 247 2020-05-09 23:54:54.260791      pavel  2020      5    9    23      54   \n \n      second  daytime  \n 943      38  evening  \n 942      56  evening  \n 247      54  evening  )"
     },
     "execution_count": 11,
     "metadata": {},
     "output_type": "execute_result"
    }
   ]
  },
  {
   "cell_type": "code",
   "source": [
    "df.describe()"
   ],
   "metadata": {
    "id": "xwrQRggdQeKj",
    "executionInfo": {
     "status": "ok",
     "timestamp": 1664136382416,
     "user_tz": -180,
     "elapsed": 379,
     "user": {
      "displayName": "Цинк Бор",
      "userId": "14455246895586402491"
     }
    },
    "outputId": "a18a3475-bd94-43ff-938a-441c5158e8b5",
    "colab": {
     "base_uri": "https://localhost:8080/",
     "height": 300
    }
   },
   "execution_count": 12,
   "outputs": [
    {
     "data": {
      "text/plain": "         year        month          day         hour       minute       second\ncount  1076.0  1076.000000  1076.000000  1076.000000  1076.000000  1076.000000\nmean   2020.0     4.870818    13.552974    16.249071    29.629182    29.500929\nstd       0.0     0.335557     4.906567     6.955490    17.689388    17.405506\nmin    2020.0     4.000000     1.000000     0.000000     0.000000     0.000000\n25%    2020.0     5.000000    11.000000    13.000000    14.000000    14.000000\n50%    2020.0     5.000000    13.000000    19.000000    29.000000    30.000000\n75%    2020.0     5.000000    15.000000    22.000000    46.000000    45.000000\nmax    2020.0     5.000000    30.000000    23.000000    59.000000    59.000000",
      "text/html": "<div>\n<style scoped>\n    .dataframe tbody tr th:only-of-type {\n        vertical-align: middle;\n    }\n\n    .dataframe tbody tr th {\n        vertical-align: top;\n    }\n\n    .dataframe thead th {\n        text-align: right;\n    }\n</style>\n<table border=\"1\" class=\"dataframe\">\n  <thead>\n    <tr style=\"text-align: right;\">\n      <th></th>\n      <th>year</th>\n      <th>month</th>\n      <th>day</th>\n      <th>hour</th>\n      <th>minute</th>\n      <th>second</th>\n    </tr>\n  </thead>\n  <tbody>\n    <tr>\n      <th>count</th>\n      <td>1076.0</td>\n      <td>1076.000000</td>\n      <td>1076.000000</td>\n      <td>1076.000000</td>\n      <td>1076.000000</td>\n      <td>1076.000000</td>\n    </tr>\n    <tr>\n      <th>mean</th>\n      <td>2020.0</td>\n      <td>4.870818</td>\n      <td>13.552974</td>\n      <td>16.249071</td>\n      <td>29.629182</td>\n      <td>29.500929</td>\n    </tr>\n    <tr>\n      <th>std</th>\n      <td>0.0</td>\n      <td>0.335557</td>\n      <td>4.906567</td>\n      <td>6.955490</td>\n      <td>17.689388</td>\n      <td>17.405506</td>\n    </tr>\n    <tr>\n      <th>min</th>\n      <td>2020.0</td>\n      <td>4.000000</td>\n      <td>1.000000</td>\n      <td>0.000000</td>\n      <td>0.000000</td>\n      <td>0.000000</td>\n    </tr>\n    <tr>\n      <th>25%</th>\n      <td>2020.0</td>\n      <td>5.000000</td>\n      <td>11.000000</td>\n      <td>13.000000</td>\n      <td>14.000000</td>\n      <td>14.000000</td>\n    </tr>\n    <tr>\n      <th>50%</th>\n      <td>2020.0</td>\n      <td>5.000000</td>\n      <td>13.000000</td>\n      <td>19.000000</td>\n      <td>29.000000</td>\n      <td>30.000000</td>\n    </tr>\n    <tr>\n      <th>75%</th>\n      <td>2020.0</td>\n      <td>5.000000</td>\n      <td>15.000000</td>\n      <td>22.000000</td>\n      <td>46.000000</td>\n      <td>45.000000</td>\n    </tr>\n    <tr>\n      <th>max</th>\n      <td>2020.0</td>\n      <td>5.000000</td>\n      <td>30.000000</td>\n      <td>23.000000</td>\n      <td>59.000000</td>\n      <td>59.000000</td>\n    </tr>\n  </tbody>\n</table>\n</div>"
     },
     "execution_count": 12,
     "metadata": {},
     "output_type": "execute_result"
    }
   ]
  },
  {
   "cell_type": "code",
   "source": [
    "iqr = df.describe()['hour']['75%'] - df.describe()['hour']['25%']\n",
    "iqr"
   ],
   "metadata": {
    "id": "Hth05WPPQgn6",
    "executionInfo": {
     "status": "ok",
     "timestamp": 1664136394057,
     "user_tz": -180,
     "elapsed": 2,
     "user": {
      "displayName": "Цинк Бор",
      "userId": "14455246895586402491"
     }
    },
    "outputId": "84f3ab78-98b0-453c-9fd7-219624ed5ec3",
    "colab": {
     "base_uri": "https://localhost:8080/"
    }
   },
   "execution_count": 13,
   "outputs": [
    {
     "data": {
      "text/plain": "9.0"
     },
     "execution_count": 13,
     "metadata": {},
     "output_type": "execute_result"
    }
   ]
  },
  {
   "cell_type": "code",
   "execution_count": null,
   "outputs": [],
   "source": [],
   "metadata": {
    "collapsed": false,
    "pycharm": {
     "name": "#%%\n"
    }
   }
  }
 ]
}