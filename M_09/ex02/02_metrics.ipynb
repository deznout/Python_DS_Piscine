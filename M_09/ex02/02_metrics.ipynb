{
 "cells": [
  {
   "cell_type": "markdown",
   "metadata": {},
   "source": [
    "# Day 09. Exercise 02\n",
    "# Metrics"
   ]
  },
  {
   "cell_type": "markdown",
   "metadata": {},
   "source": [
    "## 0. Imports"
   ]
  },
  {
   "cell_type": "code",
   "execution_count": 1,
   "metadata": {},
   "outputs": [],
   "source": [
    "import pandas as pd\n",
    "from sklearn.model_selection import train_test_split\n",
    "from sklearn.linear_model import LogisticRegression\n",
    "from sklearn.model_selection import cross_val_score\n",
    "from sklearn.datasets import make_classification\n",
    "from sklearn.model_selection import StratifiedKFold\n",
    "from sklearn.metrics import accuracy_score, precision_score, recall_score, roc_auc_score\n",
    "import numpy as np\n",
    "from sklearn import svm\n",
    "from sklearn.tree import DecisionTreeClassifier\n",
    "from sklearn.ensemble import RandomForestClassifier\n",
    "from sklearn.metrics import plot_confusion_matrix\n",
    "import matplotlib.pyplot as plt\n",
    "import pickle\n",
    "from sklearn.model_selection import GridSearchCV, ParameterGrid\n",
    "from tqdm.notebook import tqdm\n",
    "import pickle"
   ]
  },
  {
   "cell_type": "markdown",
   "metadata": {},
   "source": [
    "## 1. Preprocessing"
   ]
  },
  {
   "cell_type": "markdown",
   "metadata": {},
   "source": [
    "1. Create the same dataframe as in the previous exercise.\n",
    "2. Using `train_test_split` with parameters `test_size=0.2`, `random_state=21` get `X_train`, `y_train`, `X_test`, `y_test`. Use the additional parameter `stratify`."
   ]
  },
  {
   "cell_type": "code",
   "execution_count": 2,
   "metadata": {},
   "outputs": [
    {
     "data": {
      "text/plain": "      numTrials  hour  dayofweek  uid_user_0  uid_user_1  uid_user_10  \\\n0             1     5          4         0.0         0.0          0.0   \n1             2     5          4         0.0         0.0          0.0   \n2             3     5          4         0.0         0.0          0.0   \n3             4     5          4         0.0         0.0          0.0   \n4             5     5          4         0.0         0.0          0.0   \n...         ...   ...        ...         ...         ...          ...   \n1681          9    20          3         0.0         0.0          0.0   \n1682          6    20          3         0.0         1.0          0.0   \n1683          7    20          3         0.0         1.0          0.0   \n1684          8    20          3         0.0         1.0          0.0   \n1685          9    20          3         0.0         1.0          0.0   \n\n      uid_user_11  uid_user_12  uid_user_13  uid_user_14  ...  labname_lab02  \\\n0             0.0          0.0          0.0          0.0  ...            0.0   \n1             0.0          0.0          0.0          0.0  ...            0.0   \n2             0.0          0.0          0.0          0.0  ...            0.0   \n3             0.0          0.0          0.0          0.0  ...            0.0   \n4             0.0          0.0          0.0          0.0  ...            0.0   \n...           ...          ...          ...          ...  ...            ...   \n1681          0.0          0.0          0.0          0.0  ...            0.0   \n1682          0.0          0.0          0.0          0.0  ...            0.0   \n1683          0.0          0.0          0.0          0.0  ...            0.0   \n1684          0.0          0.0          0.0          0.0  ...            0.0   \n1685          0.0          0.0          0.0          0.0  ...            0.0   \n\n      labname_lab03  labname_lab03s  labname_lab05s  labname_laba04  \\\n0               0.0             0.0             0.0             0.0   \n1               0.0             0.0             0.0             0.0   \n2               0.0             0.0             0.0             0.0   \n3               0.0             0.0             0.0             0.0   \n4               0.0             0.0             0.0             0.0   \n...             ...             ...             ...             ...   \n1681            0.0             0.0             0.0             0.0   \n1682            0.0             0.0             0.0             0.0   \n1683            0.0             0.0             0.0             0.0   \n1684            0.0             0.0             0.0             0.0   \n1685            0.0             0.0             0.0             0.0   \n\n      labname_laba04s  labname_laba05  labname_laba06  labname_laba06s  \\\n0                 0.0             0.0             0.0              0.0   \n1                 0.0             0.0             0.0              0.0   \n2                 0.0             0.0             0.0              0.0   \n3                 0.0             0.0             0.0              0.0   \n4                 0.0             0.0             0.0              0.0   \n...               ...             ...             ...              ...   \n1681              0.0             0.0             0.0              1.0   \n1682              0.0             0.0             0.0              1.0   \n1683              0.0             0.0             0.0              1.0   \n1684              0.0             0.0             0.0              1.0   \n1685              0.0             0.0             0.0              1.0   \n\n      labname_project1  \n0                  1.0  \n1                  1.0  \n2                  1.0  \n3                  1.0  \n4                  1.0  \n...                ...  \n1681               0.0  \n1682               0.0  \n1683               0.0  \n1684               0.0  \n1685               0.0  \n\n[1686 rows x 44 columns]",
      "text/html": "<div>\n<style scoped>\n    .dataframe tbody tr th:only-of-type {\n        vertical-align: middle;\n    }\n\n    .dataframe tbody tr th {\n        vertical-align: top;\n    }\n\n    .dataframe thead th {\n        text-align: right;\n    }\n</style>\n<table border=\"1\" class=\"dataframe\">\n  <thead>\n    <tr style=\"text-align: right;\">\n      <th></th>\n      <th>numTrials</th>\n      <th>hour</th>\n      <th>dayofweek</th>\n      <th>uid_user_0</th>\n      <th>uid_user_1</th>\n      <th>uid_user_10</th>\n      <th>uid_user_11</th>\n      <th>uid_user_12</th>\n      <th>uid_user_13</th>\n      <th>uid_user_14</th>\n      <th>...</th>\n      <th>labname_lab02</th>\n      <th>labname_lab03</th>\n      <th>labname_lab03s</th>\n      <th>labname_lab05s</th>\n      <th>labname_laba04</th>\n      <th>labname_laba04s</th>\n      <th>labname_laba05</th>\n      <th>labname_laba06</th>\n      <th>labname_laba06s</th>\n      <th>labname_project1</th>\n    </tr>\n  </thead>\n  <tbody>\n    <tr>\n      <th>0</th>\n      <td>1</td>\n      <td>5</td>\n      <td>4</td>\n      <td>0.0</td>\n      <td>0.0</td>\n      <td>0.0</td>\n      <td>0.0</td>\n      <td>0.0</td>\n      <td>0.0</td>\n      <td>0.0</td>\n      <td>...</td>\n      <td>0.0</td>\n      <td>0.0</td>\n      <td>0.0</td>\n      <td>0.0</td>\n      <td>0.0</td>\n      <td>0.0</td>\n      <td>0.0</td>\n      <td>0.0</td>\n      <td>0.0</td>\n      <td>1.0</td>\n    </tr>\n    <tr>\n      <th>1</th>\n      <td>2</td>\n      <td>5</td>\n      <td>4</td>\n      <td>0.0</td>\n      <td>0.0</td>\n      <td>0.0</td>\n      <td>0.0</td>\n      <td>0.0</td>\n      <td>0.0</td>\n      <td>0.0</td>\n      <td>...</td>\n      <td>0.0</td>\n      <td>0.0</td>\n      <td>0.0</td>\n      <td>0.0</td>\n      <td>0.0</td>\n      <td>0.0</td>\n      <td>0.0</td>\n      <td>0.0</td>\n      <td>0.0</td>\n      <td>1.0</td>\n    </tr>\n    <tr>\n      <th>2</th>\n      <td>3</td>\n      <td>5</td>\n      <td>4</td>\n      <td>0.0</td>\n      <td>0.0</td>\n      <td>0.0</td>\n      <td>0.0</td>\n      <td>0.0</td>\n      <td>0.0</td>\n      <td>0.0</td>\n      <td>...</td>\n      <td>0.0</td>\n      <td>0.0</td>\n      <td>0.0</td>\n      <td>0.0</td>\n      <td>0.0</td>\n      <td>0.0</td>\n      <td>0.0</td>\n      <td>0.0</td>\n      <td>0.0</td>\n      <td>1.0</td>\n    </tr>\n    <tr>\n      <th>3</th>\n      <td>4</td>\n      <td>5</td>\n      <td>4</td>\n      <td>0.0</td>\n      <td>0.0</td>\n      <td>0.0</td>\n      <td>0.0</td>\n      <td>0.0</td>\n      <td>0.0</td>\n      <td>0.0</td>\n      <td>...</td>\n      <td>0.0</td>\n      <td>0.0</td>\n      <td>0.0</td>\n      <td>0.0</td>\n      <td>0.0</td>\n      <td>0.0</td>\n      <td>0.0</td>\n      <td>0.0</td>\n      <td>0.0</td>\n      <td>1.0</td>\n    </tr>\n    <tr>\n      <th>4</th>\n      <td>5</td>\n      <td>5</td>\n      <td>4</td>\n      <td>0.0</td>\n      <td>0.0</td>\n      <td>0.0</td>\n      <td>0.0</td>\n      <td>0.0</td>\n      <td>0.0</td>\n      <td>0.0</td>\n      <td>...</td>\n      <td>0.0</td>\n      <td>0.0</td>\n      <td>0.0</td>\n      <td>0.0</td>\n      <td>0.0</td>\n      <td>0.0</td>\n      <td>0.0</td>\n      <td>0.0</td>\n      <td>0.0</td>\n      <td>1.0</td>\n    </tr>\n    <tr>\n      <th>...</th>\n      <td>...</td>\n      <td>...</td>\n      <td>...</td>\n      <td>...</td>\n      <td>...</td>\n      <td>...</td>\n      <td>...</td>\n      <td>...</td>\n      <td>...</td>\n      <td>...</td>\n      <td>...</td>\n      <td>...</td>\n      <td>...</td>\n      <td>...</td>\n      <td>...</td>\n      <td>...</td>\n      <td>...</td>\n      <td>...</td>\n      <td>...</td>\n      <td>...</td>\n      <td>...</td>\n    </tr>\n    <tr>\n      <th>1681</th>\n      <td>9</td>\n      <td>20</td>\n      <td>3</td>\n      <td>0.0</td>\n      <td>0.0</td>\n      <td>0.0</td>\n      <td>0.0</td>\n      <td>0.0</td>\n      <td>0.0</td>\n      <td>0.0</td>\n      <td>...</td>\n      <td>0.0</td>\n      <td>0.0</td>\n      <td>0.0</td>\n      <td>0.0</td>\n      <td>0.0</td>\n      <td>0.0</td>\n      <td>0.0</td>\n      <td>0.0</td>\n      <td>1.0</td>\n      <td>0.0</td>\n    </tr>\n    <tr>\n      <th>1682</th>\n      <td>6</td>\n      <td>20</td>\n      <td>3</td>\n      <td>0.0</td>\n      <td>1.0</td>\n      <td>0.0</td>\n      <td>0.0</td>\n      <td>0.0</td>\n      <td>0.0</td>\n      <td>0.0</td>\n      <td>...</td>\n      <td>0.0</td>\n      <td>0.0</td>\n      <td>0.0</td>\n      <td>0.0</td>\n      <td>0.0</td>\n      <td>0.0</td>\n      <td>0.0</td>\n      <td>0.0</td>\n      <td>1.0</td>\n      <td>0.0</td>\n    </tr>\n    <tr>\n      <th>1683</th>\n      <td>7</td>\n      <td>20</td>\n      <td>3</td>\n      <td>0.0</td>\n      <td>1.0</td>\n      <td>0.0</td>\n      <td>0.0</td>\n      <td>0.0</td>\n      <td>0.0</td>\n      <td>0.0</td>\n      <td>...</td>\n      <td>0.0</td>\n      <td>0.0</td>\n      <td>0.0</td>\n      <td>0.0</td>\n      <td>0.0</td>\n      <td>0.0</td>\n      <td>0.0</td>\n      <td>0.0</td>\n      <td>1.0</td>\n      <td>0.0</td>\n    </tr>\n    <tr>\n      <th>1684</th>\n      <td>8</td>\n      <td>20</td>\n      <td>3</td>\n      <td>0.0</td>\n      <td>1.0</td>\n      <td>0.0</td>\n      <td>0.0</td>\n      <td>0.0</td>\n      <td>0.0</td>\n      <td>0.0</td>\n      <td>...</td>\n      <td>0.0</td>\n      <td>0.0</td>\n      <td>0.0</td>\n      <td>0.0</td>\n      <td>0.0</td>\n      <td>0.0</td>\n      <td>0.0</td>\n      <td>0.0</td>\n      <td>1.0</td>\n      <td>0.0</td>\n    </tr>\n    <tr>\n      <th>1685</th>\n      <td>9</td>\n      <td>20</td>\n      <td>3</td>\n      <td>0.0</td>\n      <td>1.0</td>\n      <td>0.0</td>\n      <td>0.0</td>\n      <td>0.0</td>\n      <td>0.0</td>\n      <td>0.0</td>\n      <td>...</td>\n      <td>0.0</td>\n      <td>0.0</td>\n      <td>0.0</td>\n      <td>0.0</td>\n      <td>0.0</td>\n      <td>0.0</td>\n      <td>0.0</td>\n      <td>0.0</td>\n      <td>1.0</td>\n      <td>0.0</td>\n    </tr>\n  </tbody>\n</table>\n<p>1686 rows × 44 columns</p>\n</div>"
     },
     "execution_count": 2,
     "metadata": {},
     "output_type": "execute_result"
    }
   ],
   "source": [
    "df = pd.read_csv('../data/dayofweek-not-scaled.csv')\n",
    "df"
   ]
  },
  {
   "cell_type": "code",
   "execution_count": 7,
   "metadata": {},
   "outputs": [],
   "source": [
    "X = df.drop('dayofweek', axis=1)\n",
    "y = df['dayofweek']\n",
    "X_train, X_test, y_train, y_test = train_test_split(X, y, test_size=0.2, stratify=y, random_state=21)"
   ]
  },
  {
   "cell_type": "code",
   "execution_count": null,
   "metadata": {},
   "outputs": [],
   "source": []
  },
  {
   "cell_type": "markdown",
   "metadata": {},
   "source": [
    "## 2. SVM"
   ]
  },
  {
   "cell_type": "markdown",
   "metadata": {},
   "source": [
    "1. Use the best parameters from the previous exercise and train the model of SVM.\n",
    "2. You need to calculate `accuracy`, `precision`, `recall`, `ROC AUC`.\n",
    "\n",
    " - `precision` and `recall` should be calculated for each class (use `average='weighted'`)\n",
    " - `ROC AUC` should be calculated for each class against any other class (all possible pairwise combinations) and then weighted average should be applied for the final metric\n",
    " - the code in the cell should display the result as below:\n",
    "\n",
    "```\n",
    "accuracy is 0.88757\n",
    "precision is 0.89267\n",
    "recall is 0.88757\n",
    "roc_auc is 0.97878\n",
    "```"
   ]
  },
  {
   "cell_type": "code",
   "execution_count": 5,
   "metadata": {},
   "outputs": [],
   "source": [
    "model_svc = svm.SVC(C=10, gamma='auto', probability=True, random_state=21)\n",
    "model_svc.fit(X_train, y_train)\n",
    "pred = model_svc.predict(X_test)\n",
    "score = model_svc.predict_proba(X_test)"
   ]
  },
  {
   "cell_type": "code",
   "execution_count": 6,
   "outputs": [
    {
     "name": "stdout",
     "output_type": "stream",
     "text": [
      "accuracy is 0.88757\n",
      "precision is 0.89267\n",
      "recall is 0.88757\n",
      "roc_auc is 0.97878\n"
     ]
    }
   ],
   "source": [
    "print('accuracy is %.5f' %accuracy_score(y_test, pred))\n",
    "print('precision is %.5f' %precision_score(y_test, pred, average='weighted'))\n",
    "print('recall is %.5f' %recall_score(y_test, pred, average='weighted'))\n",
    "print('roc_auc is %.5f' %roc_auc_score(y_test, score, average='weighted', multi_class='ovo'))"
   ],
   "metadata": {
    "collapsed": false,
    "pycharm": {
     "name": "#%%\n"
    }
   }
  },
  {
   "cell_type": "markdown",
   "metadata": {},
   "source": [
    "## 3. Decision tree"
   ]
  },
  {
   "cell_type": "markdown",
   "metadata": {},
   "source": [
    "1. The same task for decision tree"
   ]
  },
  {
   "cell_type": "code",
   "execution_count": 7,
   "metadata": {},
   "outputs": [],
   "source": [
    "model_tree = DecisionTreeClassifier(class_weight = 'balanced', max_depth =27, criterion='entropy')\n",
    "model_tree.fit(X_train, y_train)\n",
    "pred = model_tree.predict(X_test)\n",
    "score = model_tree.predict_proba(X_test)"
   ]
  },
  {
   "cell_type": "code",
   "execution_count": 8,
   "outputs": [
    {
     "name": "stdout",
     "output_type": "stream",
     "text": [
      "accuracy is 0.90828\n",
      "precision is 0.90854\n",
      "recall is 0.90828\n",
      "roc_auc is 0.94231\n"
     ]
    }
   ],
   "source": [
    "print('accuracy is %.5f' %accuracy_score(y_test, pred))\n",
    "print('precision is %.5f' %precision_score(y_test, pred, average='weighted'))\n",
    "print('recall is %.5f' %recall_score(y_test, pred, average='weighted'))\n",
    "print('roc_auc is %.5f' %roc_auc_score(y_test, score, average='weighted', multi_class='ovo'))"
   ],
   "metadata": {
    "collapsed": false,
    "pycharm": {
     "name": "#%%\n"
    }
   }
  },
  {
   "cell_type": "markdown",
   "metadata": {},
   "source": [
    "## 4. Random forest"
   ]
  },
  {
   "cell_type": "markdown",
   "metadata": {},
   "source": [
    "1. The same task for random forest."
   ]
  },
  {
   "cell_type": "code",
   "execution_count": 9,
   "metadata": {},
   "outputs": [],
   "source": [
    "model_random_forest = RandomForestClassifier(n_estimators =50, class_weight = None, max_depth = 32)\n",
    "model_random_forest.fit(X_train, y_train)\n",
    "pred = model_random_forest.predict(X_test)\n",
    "score = model_random_forest.predict_proba(X_test)"
   ]
  },
  {
   "cell_type": "code",
   "execution_count": 10,
   "outputs": [
    {
     "name": "stdout",
     "output_type": "stream",
     "text": [
      "accuracy is 0.93195\n",
      "precision is 0.93396\n",
      "recall is 0.93195\n",
      "roc_auc is 0.98801\n"
     ]
    }
   ],
   "source": [
    "print('accuracy is %.5f' %accuracy_score(y_test, pred))\n",
    "print('precision is %.5f' %precision_score(y_test, pred, average='weighted'))\n",
    "print('recall is %.5f' %recall_score(y_test, pred, average='weighted'))\n",
    "print('roc_auc is %.5f' %roc_auc_score(y_test, score, average='weighted', multi_class='ovo'))"
   ],
   "metadata": {
    "collapsed": false,
    "pycharm": {
     "name": "#%%\n"
    }
   }
  },
  {
   "cell_type": "markdown",
   "metadata": {},
   "source": [
    "## 5. Predictions"
   ]
  },
  {
   "cell_type": "markdown",
   "metadata": {},
   "source": [
    "1. Choose the best model.\n",
    "2. Analyze: for which `weekday` your model makes the most errors (in % of the total number of samples of that class in your full dataset), for which `labname` and for which `users`.\n",
    "3. Save the model."
   ]
  },
  {
   "cell_type": "code",
   "execution_count": 11,
   "metadata": {},
   "outputs": [
    {
     "data": {
      "text/plain": "      numTrials  hour  uid_user_0  uid_user_1  uid_user_10  uid_user_11  \\\n1181         54    21         0.0         0.0          0.0          0.0   \n814          29    14         0.0         0.0          0.0          0.0   \n809           5    22         0.0         0.0          0.0          0.0   \n117           2     7         0.0         0.0          0.0          0.0   \n1618          1    17         0.0         0.0          0.0          0.0   \n951          84    17         0.0         0.0          0.0          0.0   \n337          15    22         0.0         0.0          0.0          0.0   \n86            5    17         0.0         0.0          0.0          0.0   \n98            8    22         0.0         0.0          0.0          0.0   \n1073         75    16         0.0         0.0          0.0          0.0   \n128           1    20         0.0         0.0          0.0          0.0   \n384           1     6         0.0         0.0          0.0          0.0   \n101           1    13         0.0         0.0          0.0          0.0   \n173          16    15         0.0         0.0          0.0          0.0   \n1227          8    18         0.0         0.0          0.0          0.0   \n74            7    15         0.0         0.0          0.0          0.0   \n947           5    16         0.0         0.0          0.0          0.0   \n1616          1    16         0.0         0.0          0.0          0.0   \n648          19     8         0.0         0.0          0.0          0.0   \n811           2    14         0.0         0.0          0.0          0.0   \n336           1    21         0.0         0.0          0.0          0.0   \n1628          1    10         0.0         0.0          0.0          0.0   \n409           1    19         0.0         0.0          1.0          0.0   \n\n      uid_user_12  uid_user_13  uid_user_14  uid_user_15  ...  labname_lab03  \\\n1181          0.0          0.0          0.0          0.0  ...            0.0   \n814           0.0          0.0          0.0          0.0  ...            0.0   \n809           0.0          0.0          0.0          0.0  ...            0.0   \n117           0.0          0.0          0.0          0.0  ...            0.0   \n1618          0.0          0.0          0.0          0.0  ...            0.0   \n951           0.0          0.0          0.0          0.0  ...            0.0   \n337           0.0          1.0          0.0          0.0  ...            0.0   \n86            0.0          0.0          0.0          0.0  ...            0.0   \n98            0.0          0.0          0.0          0.0  ...            0.0   \n1073          0.0          0.0          0.0          0.0  ...            0.0   \n128           0.0          0.0          0.0          0.0  ...            0.0   \n384           0.0          0.0          0.0          0.0  ...            0.0   \n101           0.0          0.0          0.0          0.0  ...            0.0   \n173           0.0          0.0          0.0          0.0  ...            0.0   \n1227          0.0          0.0          0.0          0.0  ...            0.0   \n74            0.0          0.0          0.0          0.0  ...            1.0   \n947           0.0          0.0          0.0          0.0  ...            0.0   \n1616          0.0          0.0          0.0          0.0  ...            0.0   \n648           0.0          0.0          1.0          0.0  ...            0.0   \n811           0.0          0.0          0.0          0.0  ...            0.0   \n336           0.0          0.0          0.0          0.0  ...            0.0   \n1628          0.0          0.0          0.0          0.0  ...            0.0   \n409           0.0          0.0          0.0          0.0  ...            0.0   \n\n      labname_lab03s  labname_lab05s  labname_laba04  labname_laba04s  \\\n1181             0.0             0.0             0.0              0.0   \n814              0.0             0.0             0.0              0.0   \n809              0.0             0.0             0.0              0.0   \n117              0.0             0.0             0.0              0.0   \n1618             0.0             0.0             0.0              0.0   \n951              0.0             0.0             0.0              0.0   \n337              0.0             0.0             1.0              0.0   \n86               0.0             0.0             1.0              0.0   \n98               0.0             0.0             1.0              0.0   \n1073             0.0             0.0             0.0              0.0   \n128              0.0             0.0             1.0              0.0   \n384              0.0             1.0             0.0              0.0   \n101              0.0             0.0             1.0              0.0   \n173              0.0             0.0             1.0              0.0   \n1227             0.0             0.0             0.0              0.0   \n74               0.0             0.0             0.0              0.0   \n947              0.0             0.0             0.0              0.0   \n1616             0.0             0.0             0.0              0.0   \n648              0.0             0.0             0.0              0.0   \n811              0.0             0.0             0.0              0.0   \n336              0.0             0.0             1.0              0.0   \n1628             0.0             0.0             0.0              0.0   \n409              0.0             0.0             0.0              0.0   \n\n      labname_laba05  labname_laba06  labname_laba06s  labname_project1  \\\n1181             0.0             0.0              0.0               1.0   \n814              0.0             0.0              0.0               1.0   \n809              0.0             0.0              0.0               1.0   \n117              0.0             0.0              0.0               1.0   \n1618             0.0             0.0              1.0               0.0   \n951              0.0             0.0              0.0               1.0   \n337              0.0             0.0              0.0               0.0   \n86               0.0             0.0              0.0               0.0   \n98               0.0             0.0              0.0               0.0   \n1073             0.0             0.0              0.0               1.0   \n128              0.0             0.0              0.0               0.0   \n384              0.0             0.0              0.0               0.0   \n101              0.0             0.0              0.0               0.0   \n173              0.0             0.0              0.0               0.0   \n1227             0.0             0.0              0.0               1.0   \n74               0.0             0.0              0.0               0.0   \n947              0.0             0.0              0.0               1.0   \n1616             0.0             1.0              0.0               0.0   \n648              0.0             0.0              0.0               0.0   \n811              0.0             0.0              0.0               1.0   \n336              0.0             0.0              0.0               0.0   \n1628             0.0             1.0              0.0               0.0   \n409              1.0             0.0              0.0               0.0   \n\n      predict  \n1181        0  \n814         6  \n809         5  \n117         2  \n1618        3  \n951         4  \n337         5  \n86          0  \n98          5  \n1073        6  \n128         6  \n384         5  \n101         3  \n173         3  \n1227        3  \n74          6  \n947         5  \n1616        6  \n648         5  \n811         3  \n336         5  \n1628        3  \n409         5  \n\n[23 rows x 44 columns]",
      "text/html": "<div>\n<style scoped>\n    .dataframe tbody tr th:only-of-type {\n        vertical-align: middle;\n    }\n\n    .dataframe tbody tr th {\n        vertical-align: top;\n    }\n\n    .dataframe thead th {\n        text-align: right;\n    }\n</style>\n<table border=\"1\" class=\"dataframe\">\n  <thead>\n    <tr style=\"text-align: right;\">\n      <th></th>\n      <th>numTrials</th>\n      <th>hour</th>\n      <th>uid_user_0</th>\n      <th>uid_user_1</th>\n      <th>uid_user_10</th>\n      <th>uid_user_11</th>\n      <th>uid_user_12</th>\n      <th>uid_user_13</th>\n      <th>uid_user_14</th>\n      <th>uid_user_15</th>\n      <th>...</th>\n      <th>labname_lab03</th>\n      <th>labname_lab03s</th>\n      <th>labname_lab05s</th>\n      <th>labname_laba04</th>\n      <th>labname_laba04s</th>\n      <th>labname_laba05</th>\n      <th>labname_laba06</th>\n      <th>labname_laba06s</th>\n      <th>labname_project1</th>\n      <th>predict</th>\n    </tr>\n  </thead>\n  <tbody>\n    <tr>\n      <th>1181</th>\n      <td>54</td>\n      <td>21</td>\n      <td>0.0</td>\n      <td>0.0</td>\n      <td>0.0</td>\n      <td>0.0</td>\n      <td>0.0</td>\n      <td>0.0</td>\n      <td>0.0</td>\n      <td>0.0</td>\n      <td>...</td>\n      <td>0.0</td>\n      <td>0.0</td>\n      <td>0.0</td>\n      <td>0.0</td>\n      <td>0.0</td>\n      <td>0.0</td>\n      <td>0.0</td>\n      <td>0.0</td>\n      <td>1.0</td>\n      <td>0</td>\n    </tr>\n    <tr>\n      <th>814</th>\n      <td>29</td>\n      <td>14</td>\n      <td>0.0</td>\n      <td>0.0</td>\n      <td>0.0</td>\n      <td>0.0</td>\n      <td>0.0</td>\n      <td>0.0</td>\n      <td>0.0</td>\n      <td>0.0</td>\n      <td>...</td>\n      <td>0.0</td>\n      <td>0.0</td>\n      <td>0.0</td>\n      <td>0.0</td>\n      <td>0.0</td>\n      <td>0.0</td>\n      <td>0.0</td>\n      <td>0.0</td>\n      <td>1.0</td>\n      <td>6</td>\n    </tr>\n    <tr>\n      <th>809</th>\n      <td>5</td>\n      <td>22</td>\n      <td>0.0</td>\n      <td>0.0</td>\n      <td>0.0</td>\n      <td>0.0</td>\n      <td>0.0</td>\n      <td>0.0</td>\n      <td>0.0</td>\n      <td>0.0</td>\n      <td>...</td>\n      <td>0.0</td>\n      <td>0.0</td>\n      <td>0.0</td>\n      <td>0.0</td>\n      <td>0.0</td>\n      <td>0.0</td>\n      <td>0.0</td>\n      <td>0.0</td>\n      <td>1.0</td>\n      <td>5</td>\n    </tr>\n    <tr>\n      <th>117</th>\n      <td>2</td>\n      <td>7</td>\n      <td>0.0</td>\n      <td>0.0</td>\n      <td>0.0</td>\n      <td>0.0</td>\n      <td>0.0</td>\n      <td>0.0</td>\n      <td>0.0</td>\n      <td>0.0</td>\n      <td>...</td>\n      <td>0.0</td>\n      <td>0.0</td>\n      <td>0.0</td>\n      <td>0.0</td>\n      <td>0.0</td>\n      <td>0.0</td>\n      <td>0.0</td>\n      <td>0.0</td>\n      <td>1.0</td>\n      <td>2</td>\n    </tr>\n    <tr>\n      <th>1618</th>\n      <td>1</td>\n      <td>17</td>\n      <td>0.0</td>\n      <td>0.0</td>\n      <td>0.0</td>\n      <td>0.0</td>\n      <td>0.0</td>\n      <td>0.0</td>\n      <td>0.0</td>\n      <td>0.0</td>\n      <td>...</td>\n      <td>0.0</td>\n      <td>0.0</td>\n      <td>0.0</td>\n      <td>0.0</td>\n      <td>0.0</td>\n      <td>0.0</td>\n      <td>0.0</td>\n      <td>1.0</td>\n      <td>0.0</td>\n      <td>3</td>\n    </tr>\n    <tr>\n      <th>951</th>\n      <td>84</td>\n      <td>17</td>\n      <td>0.0</td>\n      <td>0.0</td>\n      <td>0.0</td>\n      <td>0.0</td>\n      <td>0.0</td>\n      <td>0.0</td>\n      <td>0.0</td>\n      <td>0.0</td>\n      <td>...</td>\n      <td>0.0</td>\n      <td>0.0</td>\n      <td>0.0</td>\n      <td>0.0</td>\n      <td>0.0</td>\n      <td>0.0</td>\n      <td>0.0</td>\n      <td>0.0</td>\n      <td>1.0</td>\n      <td>4</td>\n    </tr>\n    <tr>\n      <th>337</th>\n      <td>15</td>\n      <td>22</td>\n      <td>0.0</td>\n      <td>0.0</td>\n      <td>0.0</td>\n      <td>0.0</td>\n      <td>0.0</td>\n      <td>1.0</td>\n      <td>0.0</td>\n      <td>0.0</td>\n      <td>...</td>\n      <td>0.0</td>\n      <td>0.0</td>\n      <td>0.0</td>\n      <td>1.0</td>\n      <td>0.0</td>\n      <td>0.0</td>\n      <td>0.0</td>\n      <td>0.0</td>\n      <td>0.0</td>\n      <td>5</td>\n    </tr>\n    <tr>\n      <th>86</th>\n      <td>5</td>\n      <td>17</td>\n      <td>0.0</td>\n      <td>0.0</td>\n      <td>0.0</td>\n      <td>0.0</td>\n      <td>0.0</td>\n      <td>0.0</td>\n      <td>0.0</td>\n      <td>0.0</td>\n      <td>...</td>\n      <td>0.0</td>\n      <td>0.0</td>\n      <td>0.0</td>\n      <td>1.0</td>\n      <td>0.0</td>\n      <td>0.0</td>\n      <td>0.0</td>\n      <td>0.0</td>\n      <td>0.0</td>\n      <td>0</td>\n    </tr>\n    <tr>\n      <th>98</th>\n      <td>8</td>\n      <td>22</td>\n      <td>0.0</td>\n      <td>0.0</td>\n      <td>0.0</td>\n      <td>0.0</td>\n      <td>0.0</td>\n      <td>0.0</td>\n      <td>0.0</td>\n      <td>0.0</td>\n      <td>...</td>\n      <td>0.0</td>\n      <td>0.0</td>\n      <td>0.0</td>\n      <td>1.0</td>\n      <td>0.0</td>\n      <td>0.0</td>\n      <td>0.0</td>\n      <td>0.0</td>\n      <td>0.0</td>\n      <td>5</td>\n    </tr>\n    <tr>\n      <th>1073</th>\n      <td>75</td>\n      <td>16</td>\n      <td>0.0</td>\n      <td>0.0</td>\n      <td>0.0</td>\n      <td>0.0</td>\n      <td>0.0</td>\n      <td>0.0</td>\n      <td>0.0</td>\n      <td>0.0</td>\n      <td>...</td>\n      <td>0.0</td>\n      <td>0.0</td>\n      <td>0.0</td>\n      <td>0.0</td>\n      <td>0.0</td>\n      <td>0.0</td>\n      <td>0.0</td>\n      <td>0.0</td>\n      <td>1.0</td>\n      <td>6</td>\n    </tr>\n    <tr>\n      <th>128</th>\n      <td>1</td>\n      <td>20</td>\n      <td>0.0</td>\n      <td>0.0</td>\n      <td>0.0</td>\n      <td>0.0</td>\n      <td>0.0</td>\n      <td>0.0</td>\n      <td>0.0</td>\n      <td>0.0</td>\n      <td>...</td>\n      <td>0.0</td>\n      <td>0.0</td>\n      <td>0.0</td>\n      <td>1.0</td>\n      <td>0.0</td>\n      <td>0.0</td>\n      <td>0.0</td>\n      <td>0.0</td>\n      <td>0.0</td>\n      <td>6</td>\n    </tr>\n    <tr>\n      <th>384</th>\n      <td>1</td>\n      <td>6</td>\n      <td>0.0</td>\n      <td>0.0</td>\n      <td>0.0</td>\n      <td>0.0</td>\n      <td>0.0</td>\n      <td>0.0</td>\n      <td>0.0</td>\n      <td>0.0</td>\n      <td>...</td>\n      <td>0.0</td>\n      <td>0.0</td>\n      <td>1.0</td>\n      <td>0.0</td>\n      <td>0.0</td>\n      <td>0.0</td>\n      <td>0.0</td>\n      <td>0.0</td>\n      <td>0.0</td>\n      <td>5</td>\n    </tr>\n    <tr>\n      <th>101</th>\n      <td>1</td>\n      <td>13</td>\n      <td>0.0</td>\n      <td>0.0</td>\n      <td>0.0</td>\n      <td>0.0</td>\n      <td>0.0</td>\n      <td>0.0</td>\n      <td>0.0</td>\n      <td>0.0</td>\n      <td>...</td>\n      <td>0.0</td>\n      <td>0.0</td>\n      <td>0.0</td>\n      <td>1.0</td>\n      <td>0.0</td>\n      <td>0.0</td>\n      <td>0.0</td>\n      <td>0.0</td>\n      <td>0.0</td>\n      <td>3</td>\n    </tr>\n    <tr>\n      <th>173</th>\n      <td>16</td>\n      <td>15</td>\n      <td>0.0</td>\n      <td>0.0</td>\n      <td>0.0</td>\n      <td>0.0</td>\n      <td>0.0</td>\n      <td>0.0</td>\n      <td>0.0</td>\n      <td>0.0</td>\n      <td>...</td>\n      <td>0.0</td>\n      <td>0.0</td>\n      <td>0.0</td>\n      <td>1.0</td>\n      <td>0.0</td>\n      <td>0.0</td>\n      <td>0.0</td>\n      <td>0.0</td>\n      <td>0.0</td>\n      <td>3</td>\n    </tr>\n    <tr>\n      <th>1227</th>\n      <td>8</td>\n      <td>18</td>\n      <td>0.0</td>\n      <td>0.0</td>\n      <td>0.0</td>\n      <td>0.0</td>\n      <td>0.0</td>\n      <td>0.0</td>\n      <td>0.0</td>\n      <td>0.0</td>\n      <td>...</td>\n      <td>0.0</td>\n      <td>0.0</td>\n      <td>0.0</td>\n      <td>0.0</td>\n      <td>0.0</td>\n      <td>0.0</td>\n      <td>0.0</td>\n      <td>0.0</td>\n      <td>1.0</td>\n      <td>3</td>\n    </tr>\n    <tr>\n      <th>74</th>\n      <td>7</td>\n      <td>15</td>\n      <td>0.0</td>\n      <td>0.0</td>\n      <td>0.0</td>\n      <td>0.0</td>\n      <td>0.0</td>\n      <td>0.0</td>\n      <td>0.0</td>\n      <td>0.0</td>\n      <td>...</td>\n      <td>1.0</td>\n      <td>0.0</td>\n      <td>0.0</td>\n      <td>0.0</td>\n      <td>0.0</td>\n      <td>0.0</td>\n      <td>0.0</td>\n      <td>0.0</td>\n      <td>0.0</td>\n      <td>6</td>\n    </tr>\n    <tr>\n      <th>947</th>\n      <td>5</td>\n      <td>16</td>\n      <td>0.0</td>\n      <td>0.0</td>\n      <td>0.0</td>\n      <td>0.0</td>\n      <td>0.0</td>\n      <td>0.0</td>\n      <td>0.0</td>\n      <td>0.0</td>\n      <td>...</td>\n      <td>0.0</td>\n      <td>0.0</td>\n      <td>0.0</td>\n      <td>0.0</td>\n      <td>0.0</td>\n      <td>0.0</td>\n      <td>0.0</td>\n      <td>0.0</td>\n      <td>1.0</td>\n      <td>5</td>\n    </tr>\n    <tr>\n      <th>1616</th>\n      <td>1</td>\n      <td>16</td>\n      <td>0.0</td>\n      <td>0.0</td>\n      <td>0.0</td>\n      <td>0.0</td>\n      <td>0.0</td>\n      <td>0.0</td>\n      <td>0.0</td>\n      <td>0.0</td>\n      <td>...</td>\n      <td>0.0</td>\n      <td>0.0</td>\n      <td>0.0</td>\n      <td>0.0</td>\n      <td>0.0</td>\n      <td>0.0</td>\n      <td>1.0</td>\n      <td>0.0</td>\n      <td>0.0</td>\n      <td>6</td>\n    </tr>\n    <tr>\n      <th>648</th>\n      <td>19</td>\n      <td>8</td>\n      <td>0.0</td>\n      <td>0.0</td>\n      <td>0.0</td>\n      <td>0.0</td>\n      <td>0.0</td>\n      <td>0.0</td>\n      <td>1.0</td>\n      <td>0.0</td>\n      <td>...</td>\n      <td>0.0</td>\n      <td>0.0</td>\n      <td>0.0</td>\n      <td>0.0</td>\n      <td>0.0</td>\n      <td>0.0</td>\n      <td>0.0</td>\n      <td>0.0</td>\n      <td>0.0</td>\n      <td>5</td>\n    </tr>\n    <tr>\n      <th>811</th>\n      <td>2</td>\n      <td>14</td>\n      <td>0.0</td>\n      <td>0.0</td>\n      <td>0.0</td>\n      <td>0.0</td>\n      <td>0.0</td>\n      <td>0.0</td>\n      <td>0.0</td>\n      <td>0.0</td>\n      <td>...</td>\n      <td>0.0</td>\n      <td>0.0</td>\n      <td>0.0</td>\n      <td>0.0</td>\n      <td>0.0</td>\n      <td>0.0</td>\n      <td>0.0</td>\n      <td>0.0</td>\n      <td>1.0</td>\n      <td>3</td>\n    </tr>\n    <tr>\n      <th>336</th>\n      <td>1</td>\n      <td>21</td>\n      <td>0.0</td>\n      <td>0.0</td>\n      <td>0.0</td>\n      <td>0.0</td>\n      <td>0.0</td>\n      <td>0.0</td>\n      <td>0.0</td>\n      <td>0.0</td>\n      <td>...</td>\n      <td>0.0</td>\n      <td>0.0</td>\n      <td>0.0</td>\n      <td>1.0</td>\n      <td>0.0</td>\n      <td>0.0</td>\n      <td>0.0</td>\n      <td>0.0</td>\n      <td>0.0</td>\n      <td>5</td>\n    </tr>\n    <tr>\n      <th>1628</th>\n      <td>1</td>\n      <td>10</td>\n      <td>0.0</td>\n      <td>0.0</td>\n      <td>0.0</td>\n      <td>0.0</td>\n      <td>0.0</td>\n      <td>0.0</td>\n      <td>0.0</td>\n      <td>0.0</td>\n      <td>...</td>\n      <td>0.0</td>\n      <td>0.0</td>\n      <td>0.0</td>\n      <td>0.0</td>\n      <td>0.0</td>\n      <td>0.0</td>\n      <td>1.0</td>\n      <td>0.0</td>\n      <td>0.0</td>\n      <td>3</td>\n    </tr>\n    <tr>\n      <th>409</th>\n      <td>1</td>\n      <td>19</td>\n      <td>0.0</td>\n      <td>0.0</td>\n      <td>1.0</td>\n      <td>0.0</td>\n      <td>0.0</td>\n      <td>0.0</td>\n      <td>0.0</td>\n      <td>0.0</td>\n      <td>...</td>\n      <td>0.0</td>\n      <td>0.0</td>\n      <td>0.0</td>\n      <td>0.0</td>\n      <td>0.0</td>\n      <td>1.0</td>\n      <td>0.0</td>\n      <td>0.0</td>\n      <td>0.0</td>\n      <td>5</td>\n    </tr>\n  </tbody>\n</table>\n<p>23 rows × 44 columns</p>\n</div>"
     },
     "execution_count": 11,
     "metadata": {},
     "output_type": "execute_result"
    }
   ],
   "source": [
    "view_test = X_test\n",
    "view_test['predict'] = pred\n",
    "view_test[y_test != pred]"
   ]
  },
  {
   "cell_type": "code",
   "execution_count": 12,
   "metadata": {},
   "outputs": [],
   "source": [
    "filename = 'model_random_tree.sav'\n",
    "pickle.dump(model_random_forest, open(filename, 'wb'))"
   ]
  },
  {
   "cell_type": "code",
   "execution_count": null,
   "metadata": {},
   "outputs": [],
   "source": []
  },
  {
   "cell_type": "markdown",
   "metadata": {},
   "source": [
    "## 6. Function"
   ]
  },
  {
   "cell_type": "markdown",
   "metadata": {},
   "source": [
    "1. Write a function that takes a list of different models and a corresponding list of parameters (dicts) and returns a dict that contains all the 4 metrics for each model."
   ]
  },
  {
   "cell_type": "code",
   "execution_count": 13,
   "metadata": {},
   "outputs": [],
   "source": [
    "def print_metric(models, paramets):\n",
    "    for model in models:\n",
    "      model.set_params(paramets).fit(X_train, y_train)\n",
    "      pred = model.set_params(paramets).predict(X_test)\n",
    "      score = model.set_params(paramets).predict_proba(X_test)\n",
    "      return {'accuracy': accuracy_score(y_test, pred),\n",
    "            'precision': precision_score(y_test, pred, average='weighted'),\n",
    "            'recall': recall_score(y_test, pred, average='weighted'),\n",
    "            'roc_auc': roc_auc_score(y_test, score, average='weighted', multi_class='ovo')}"
   ]
  },
  {
   "cell_type": "code",
   "execution_count": null,
   "outputs": [],
   "source": [],
   "metadata": {
    "collapsed": false,
    "pycharm": {
     "name": "#%%\n"
    }
   }
  }
 ],
 "metadata": {
  "kernelspec": {
   "display_name": "Python 3",
   "language": "python",
   "name": "python3"
  },
  "language_info": {
   "codemirror_mode": {
    "name": "ipython",
    "version": 3
   },
   "file_extension": ".py",
   "mimetype": "text/x-python",
   "name": "python",
   "nbconvert_exporter": "python",
   "pygments_lexer": "ipython3",
   "version": "3.7.7"
  }
 },
 "nbformat": 4,
 "nbformat_minor": 4
}