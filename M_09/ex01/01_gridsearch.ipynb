{
 "nbformat": 4,
 "nbformat_minor": 0,
 "metadata": {
  "kernelspec": {
   "display_name": "Python 3",
   "language": "python",
   "name": "python3"
  },
  "language_info": {
   "codemirror_mode": {
    "name": "ipython",
    "version": 3
   },
   "file_extension": ".py",
   "mimetype": "text/x-python",
   "name": "python",
   "nbconvert_exporter": "python",
   "pygments_lexer": "ipython3",
   "version": "3.7.7"
  },
  "colab": {
   "name": "01_gridsearch.ipynb",
   "provenance": []
  }
 },
 "cells": [
  {
   "cell_type": "markdown",
   "metadata": {
    "id": "gJm_8nRDyUp7"
   },
   "source": [
    "# Day 09. Exercise 01\n",
    "# Gridsearch"
   ]
  },
  {
   "cell_type": "markdown",
   "metadata": {
    "id": "OLB1I9UiyUp-"
   },
   "source": [
    "## 0. Imports"
   ]
  },
  {
   "cell_type": "code",
   "metadata": {
    "id": "rjrDzFRzyUp_"
   },
   "source": [
    "import pandas as pd\n",
    "import numpy as np\n",
    "from sklearn.model_selection import train_test_split\n",
    "from sklearn.linear_model import LogisticRegression\n",
    "from sklearn.model_selection import StratifiedKFold, KFold\n",
    "from sklearn.metrics import accuracy_score\n",
    "from sklearn.model_selection import cross_val_score\n",
    "from sklearn.multiclass import OneVsRestClassifier\n",
    "from sklearn.svm import SVC\n",
    "from sklearn.ensemble import RandomForestClassifier\n",
    "from sklearn.tree import DecisionTreeClassifier\n",
    "from sklearn import tree\n",
    "from sklearn.model_selection import GridSearchCV, ParameterGrid\n",
    "from tqdm.notebook import tqdm\n",
    "from sklearn import svm"
   ],
   "execution_count": 7,
   "outputs": []
  },
  {
   "cell_type": "markdown",
   "metadata": {
    "id": "F8zodjDJyUqA"
   },
   "source": [
    "## 1. Preprocessing"
   ]
  },
  {
   "cell_type": "markdown",
   "metadata": {
    "id": "PWR10A1TyUqA"
   },
   "source": [
    "1. Read the file [`day-of-week-not-scaled.csv`](https://drive.google.com/file/d/1AlGvsJDSzPT_70caausx8bFuupIEZkfh/view?usp=sharing). It is similar to the one from the previous exercise, but this time we did not scale continuous features (we are not going to use logreg anymore).\n",
    "2. Using `train_test_split` with parameters `test_size=0.2`, `random_state=21` get `X_train`, `y_train`, `X_test`, `y_test`. Use the additional parameter `stratify`."
   ]
  },
  {
   "cell_type": "code",
   "metadata": {
    "id": "c8RWKHJbyUqA"
   },
   "source": [
    "df = pd.read_csv('../data/dayofweek-not-scaled.csv')\n",
    "df"
   ],
   "execution_count": 4,
   "outputs": [
    {
     "data": {
      "text/plain": "      numTrials  hour  dayofweek  uid_user_0  uid_user_1  uid_user_10  \\\n0             1     5          4         0.0         0.0          0.0   \n1             2     5          4         0.0         0.0          0.0   \n2             3     5          4         0.0         0.0          0.0   \n3             4     5          4         0.0         0.0          0.0   \n4             5     5          4         0.0         0.0          0.0   \n...         ...   ...        ...         ...         ...          ...   \n1681          9    20          3         0.0         0.0          0.0   \n1682          6    20          3         0.0         1.0          0.0   \n1683          7    20          3         0.0         1.0          0.0   \n1684          8    20          3         0.0         1.0          0.0   \n1685          9    20          3         0.0         1.0          0.0   \n\n      uid_user_11  uid_user_12  uid_user_13  uid_user_14  ...  labname_lab02  \\\n0             0.0          0.0          0.0          0.0  ...            0.0   \n1             0.0          0.0          0.0          0.0  ...            0.0   \n2             0.0          0.0          0.0          0.0  ...            0.0   \n3             0.0          0.0          0.0          0.0  ...            0.0   \n4             0.0          0.0          0.0          0.0  ...            0.0   \n...           ...          ...          ...          ...  ...            ...   \n1681          0.0          0.0          0.0          0.0  ...            0.0   \n1682          0.0          0.0          0.0          0.0  ...            0.0   \n1683          0.0          0.0          0.0          0.0  ...            0.0   \n1684          0.0          0.0          0.0          0.0  ...            0.0   \n1685          0.0          0.0          0.0          0.0  ...            0.0   \n\n      labname_lab03  labname_lab03s  labname_lab05s  labname_laba04  \\\n0               0.0             0.0             0.0             0.0   \n1               0.0             0.0             0.0             0.0   \n2               0.0             0.0             0.0             0.0   \n3               0.0             0.0             0.0             0.0   \n4               0.0             0.0             0.0             0.0   \n...             ...             ...             ...             ...   \n1681            0.0             0.0             0.0             0.0   \n1682            0.0             0.0             0.0             0.0   \n1683            0.0             0.0             0.0             0.0   \n1684            0.0             0.0             0.0             0.0   \n1685            0.0             0.0             0.0             0.0   \n\n      labname_laba04s  labname_laba05  labname_laba06  labname_laba06s  \\\n0                 0.0             0.0             0.0              0.0   \n1                 0.0             0.0             0.0              0.0   \n2                 0.0             0.0             0.0              0.0   \n3                 0.0             0.0             0.0              0.0   \n4                 0.0             0.0             0.0              0.0   \n...               ...             ...             ...              ...   \n1681              0.0             0.0             0.0              1.0   \n1682              0.0             0.0             0.0              1.0   \n1683              0.0             0.0             0.0              1.0   \n1684              0.0             0.0             0.0              1.0   \n1685              0.0             0.0             0.0              1.0   \n\n      labname_project1  \n0                  1.0  \n1                  1.0  \n2                  1.0  \n3                  1.0  \n4                  1.0  \n...                ...  \n1681               0.0  \n1682               0.0  \n1683               0.0  \n1684               0.0  \n1685               0.0  \n\n[1686 rows x 44 columns]",
      "text/html": "<div>\n<style scoped>\n    .dataframe tbody tr th:only-of-type {\n        vertical-align: middle;\n    }\n\n    .dataframe tbody tr th {\n        vertical-align: top;\n    }\n\n    .dataframe thead th {\n        text-align: right;\n    }\n</style>\n<table border=\"1\" class=\"dataframe\">\n  <thead>\n    <tr style=\"text-align: right;\">\n      <th></th>\n      <th>numTrials</th>\n      <th>hour</th>\n      <th>dayofweek</th>\n      <th>uid_user_0</th>\n      <th>uid_user_1</th>\n      <th>uid_user_10</th>\n      <th>uid_user_11</th>\n      <th>uid_user_12</th>\n      <th>uid_user_13</th>\n      <th>uid_user_14</th>\n      <th>...</th>\n      <th>labname_lab02</th>\n      <th>labname_lab03</th>\n      <th>labname_lab03s</th>\n      <th>labname_lab05s</th>\n      <th>labname_laba04</th>\n      <th>labname_laba04s</th>\n      <th>labname_laba05</th>\n      <th>labname_laba06</th>\n      <th>labname_laba06s</th>\n      <th>labname_project1</th>\n    </tr>\n  </thead>\n  <tbody>\n    <tr>\n      <th>0</th>\n      <td>1</td>\n      <td>5</td>\n      <td>4</td>\n      <td>0.0</td>\n      <td>0.0</td>\n      <td>0.0</td>\n      <td>0.0</td>\n      <td>0.0</td>\n      <td>0.0</td>\n      <td>0.0</td>\n      <td>...</td>\n      <td>0.0</td>\n      <td>0.0</td>\n      <td>0.0</td>\n      <td>0.0</td>\n      <td>0.0</td>\n      <td>0.0</td>\n      <td>0.0</td>\n      <td>0.0</td>\n      <td>0.0</td>\n      <td>1.0</td>\n    </tr>\n    <tr>\n      <th>1</th>\n      <td>2</td>\n      <td>5</td>\n      <td>4</td>\n      <td>0.0</td>\n      <td>0.0</td>\n      <td>0.0</td>\n      <td>0.0</td>\n      <td>0.0</td>\n      <td>0.0</td>\n      <td>0.0</td>\n      <td>...</td>\n      <td>0.0</td>\n      <td>0.0</td>\n      <td>0.0</td>\n      <td>0.0</td>\n      <td>0.0</td>\n      <td>0.0</td>\n      <td>0.0</td>\n      <td>0.0</td>\n      <td>0.0</td>\n      <td>1.0</td>\n    </tr>\n    <tr>\n      <th>2</th>\n      <td>3</td>\n      <td>5</td>\n      <td>4</td>\n      <td>0.0</td>\n      <td>0.0</td>\n      <td>0.0</td>\n      <td>0.0</td>\n      <td>0.0</td>\n      <td>0.0</td>\n      <td>0.0</td>\n      <td>...</td>\n      <td>0.0</td>\n      <td>0.0</td>\n      <td>0.0</td>\n      <td>0.0</td>\n      <td>0.0</td>\n      <td>0.0</td>\n      <td>0.0</td>\n      <td>0.0</td>\n      <td>0.0</td>\n      <td>1.0</td>\n    </tr>\n    <tr>\n      <th>3</th>\n      <td>4</td>\n      <td>5</td>\n      <td>4</td>\n      <td>0.0</td>\n      <td>0.0</td>\n      <td>0.0</td>\n      <td>0.0</td>\n      <td>0.0</td>\n      <td>0.0</td>\n      <td>0.0</td>\n      <td>...</td>\n      <td>0.0</td>\n      <td>0.0</td>\n      <td>0.0</td>\n      <td>0.0</td>\n      <td>0.0</td>\n      <td>0.0</td>\n      <td>0.0</td>\n      <td>0.0</td>\n      <td>0.0</td>\n      <td>1.0</td>\n    </tr>\n    <tr>\n      <th>4</th>\n      <td>5</td>\n      <td>5</td>\n      <td>4</td>\n      <td>0.0</td>\n      <td>0.0</td>\n      <td>0.0</td>\n      <td>0.0</td>\n      <td>0.0</td>\n      <td>0.0</td>\n      <td>0.0</td>\n      <td>...</td>\n      <td>0.0</td>\n      <td>0.0</td>\n      <td>0.0</td>\n      <td>0.0</td>\n      <td>0.0</td>\n      <td>0.0</td>\n      <td>0.0</td>\n      <td>0.0</td>\n      <td>0.0</td>\n      <td>1.0</td>\n    </tr>\n    <tr>\n      <th>...</th>\n      <td>...</td>\n      <td>...</td>\n      <td>...</td>\n      <td>...</td>\n      <td>...</td>\n      <td>...</td>\n      <td>...</td>\n      <td>...</td>\n      <td>...</td>\n      <td>...</td>\n      <td>...</td>\n      <td>...</td>\n      <td>...</td>\n      <td>...</td>\n      <td>...</td>\n      <td>...</td>\n      <td>...</td>\n      <td>...</td>\n      <td>...</td>\n      <td>...</td>\n      <td>...</td>\n    </tr>\n    <tr>\n      <th>1681</th>\n      <td>9</td>\n      <td>20</td>\n      <td>3</td>\n      <td>0.0</td>\n      <td>0.0</td>\n      <td>0.0</td>\n      <td>0.0</td>\n      <td>0.0</td>\n      <td>0.0</td>\n      <td>0.0</td>\n      <td>...</td>\n      <td>0.0</td>\n      <td>0.0</td>\n      <td>0.0</td>\n      <td>0.0</td>\n      <td>0.0</td>\n      <td>0.0</td>\n      <td>0.0</td>\n      <td>0.0</td>\n      <td>1.0</td>\n      <td>0.0</td>\n    </tr>\n    <tr>\n      <th>1682</th>\n      <td>6</td>\n      <td>20</td>\n      <td>3</td>\n      <td>0.0</td>\n      <td>1.0</td>\n      <td>0.0</td>\n      <td>0.0</td>\n      <td>0.0</td>\n      <td>0.0</td>\n      <td>0.0</td>\n      <td>...</td>\n      <td>0.0</td>\n      <td>0.0</td>\n      <td>0.0</td>\n      <td>0.0</td>\n      <td>0.0</td>\n      <td>0.0</td>\n      <td>0.0</td>\n      <td>0.0</td>\n      <td>1.0</td>\n      <td>0.0</td>\n    </tr>\n    <tr>\n      <th>1683</th>\n      <td>7</td>\n      <td>20</td>\n      <td>3</td>\n      <td>0.0</td>\n      <td>1.0</td>\n      <td>0.0</td>\n      <td>0.0</td>\n      <td>0.0</td>\n      <td>0.0</td>\n      <td>0.0</td>\n      <td>...</td>\n      <td>0.0</td>\n      <td>0.0</td>\n      <td>0.0</td>\n      <td>0.0</td>\n      <td>0.0</td>\n      <td>0.0</td>\n      <td>0.0</td>\n      <td>0.0</td>\n      <td>1.0</td>\n      <td>0.0</td>\n    </tr>\n    <tr>\n      <th>1684</th>\n      <td>8</td>\n      <td>20</td>\n      <td>3</td>\n      <td>0.0</td>\n      <td>1.0</td>\n      <td>0.0</td>\n      <td>0.0</td>\n      <td>0.0</td>\n      <td>0.0</td>\n      <td>0.0</td>\n      <td>...</td>\n      <td>0.0</td>\n      <td>0.0</td>\n      <td>0.0</td>\n      <td>0.0</td>\n      <td>0.0</td>\n      <td>0.0</td>\n      <td>0.0</td>\n      <td>0.0</td>\n      <td>1.0</td>\n      <td>0.0</td>\n    </tr>\n    <tr>\n      <th>1685</th>\n      <td>9</td>\n      <td>20</td>\n      <td>3</td>\n      <td>0.0</td>\n      <td>1.0</td>\n      <td>0.0</td>\n      <td>0.0</td>\n      <td>0.0</td>\n      <td>0.0</td>\n      <td>0.0</td>\n      <td>...</td>\n      <td>0.0</td>\n      <td>0.0</td>\n      <td>0.0</td>\n      <td>0.0</td>\n      <td>0.0</td>\n      <td>0.0</td>\n      <td>0.0</td>\n      <td>0.0</td>\n      <td>1.0</td>\n      <td>0.0</td>\n    </tr>\n  </tbody>\n</table>\n<p>1686 rows × 44 columns</p>\n</div>"
     },
     "execution_count": 4,
     "metadata": {},
     "output_type": "execute_result"
    }
   ]
  },
  {
   "cell_type": "code",
   "metadata": {
    "id": "D5f4G8reyUqB"
   },
   "source": [
    "X = df.drop('dayofweek', axis=1)\n",
    "y = df.dayofweek\n",
    "X_train, X_test, y_train, y_test = train_test_split(X, y, stratify=y, test_size=0.2, random_state=21)"
   ],
   "execution_count": 5,
   "outputs": []
  },
  {
   "cell_type": "markdown",
   "metadata": {
    "id": "Qx6PXWY3yUqB"
   },
   "source": [
    "## 2. SVM gridsearch"
   ]
  },
  {
   "cell_type": "markdown",
   "metadata": {
    "id": "Z6zo8cHCyUqB"
   },
   "source": [
    "1. Using `GridSearchCV` try different parameters of kernel (`linear`, `rbf`, `sigmoid`), C (`0.01`, `0.1`, `1`, `1.5`, `5`, `10`), gamma (`scale`, `auto`), class_weight (`balanced`, `None`) use `random_state=21` and `probability=True` and get the best combination of them in terms of accuracy.\n",
    "2. Create a dataframe from the results of the gridsearch and sort it ascendingly by the `rank_test_score`. Check if there is a huge difference between different combinations (sometimes a simpler model may give a comparable result)."
   ]
  },
  {
   "cell_type": "code",
   "metadata": {
    "id": "dBiuP78ayUqB"
   },
   "source": [
    "model_svc = svm.SVC(probability=True)\n",
    "param_grid = {'C': [0.01, 0.1, 1, 1.5, 5, 10],\n",
    "              'kernel': ['linear', 'rbf', 'sigmoid'],\n",
    "              'gamma': ['scale', 'auto'],\n",
    "              'class_weight': ['balanced', None],\n",
    "              'random_state': [21]}\n",
    "gs_svm = GridSearchCV(model_svc, param_grid, scoring='accuracy', n_jobs=-1)\n",
    "gs_svm.fit(X_train, y_train)"
   ],
   "execution_count": 8,
   "outputs": [
    {
     "data": {
      "text/plain": "GridSearchCV(estimator=SVC(probability=True), n_jobs=-1,\n             param_grid={'C': [0.01, 0.1, 1, 1.5, 5, 10],\n                         'class_weight': ['balanced', None],\n                         'gamma': ['scale', 'auto'],\n                         'kernel': ['linear', 'rbf', 'sigmoid'],\n                         'random_state': [21]},\n             scoring='accuracy')"
     },
     "execution_count": 8,
     "metadata": {},
     "output_type": "execute_result"
    }
   ]
  },
  {
   "cell_type": "code",
   "metadata": {
    "id": "4NL1AfU0yUqC"
   },
   "source": [
    "gs_svm.best_score_"
   ],
   "execution_count": 9,
   "outputs": [
    {
     "data": {
      "text/plain": "0.8761090458488228"
     },
     "execution_count": 9,
     "metadata": {},
     "output_type": "execute_result"
    }
   ]
  },
  {
   "cell_type": "code",
   "metadata": {
    "id": "GoMznS9wyUqC"
   },
   "source": [
    "results = pd.DataFrame(gs_svm.cv_results_)\n",
    "results = results.sort_values('rank_test_score')\n",
    "results"
   ],
   "execution_count": 10,
   "outputs": [
    {
     "data": {
      "text/plain": "    mean_fit_time  std_fit_time  mean_score_time  std_score_time param_C  \\\n70       0.613378      0.007596         0.050519        0.002169      10   \n64       0.623640      0.019038         0.048734        0.002958      10   \n58       0.584752      0.003328         0.053590        0.001347       5   \n52       0.645369      0.051781         0.052683        0.003182       5   \n63      40.380071      3.841671         0.012323        0.002868      10   \n..            ...           ...              ...             ...     ...   \n53       0.694997      0.015029         0.023512        0.000871       5   \n65       0.639987      0.012794         0.021906        0.001392      10   \n41       0.826463      0.088883         0.027910        0.010234     1.5   \n17       0.831809      0.012850         0.025087        0.003729     0.1   \n29       0.971899      0.117874         0.025670        0.002349       1   \n\n   param_class_weight param_gamma param_kernel param_random_state  \\\n70               None        auto          rbf                 21   \n64           balanced        auto          rbf                 21   \n58               None        auto          rbf                 21   \n52           balanced        auto          rbf                 21   \n63           balanced        auto       linear                 21   \n..                ...         ...          ...                ...   \n53           balanced        auto      sigmoid                 21   \n65           balanced        auto      sigmoid                 21   \n41           balanced        auto      sigmoid                 21   \n17           balanced        auto      sigmoid                 21   \n29           balanced        auto      sigmoid                 21   \n\n                                               params  split0_test_score  \\\n70  {'C': 10, 'class_weight': None, 'gamma': 'auto...           0.900000   \n64  {'C': 10, 'class_weight': 'balanced', 'gamma':...           0.877778   \n58  {'C': 5, 'class_weight': None, 'gamma': 'auto'...           0.825926   \n52  {'C': 5, 'class_weight': 'balanced', 'gamma': ...           0.844444   \n63  {'C': 10, 'class_weight': 'balanced', 'gamma':...           0.729630   \n..                                                ...                ...   \n53  {'C': 5, 'class_weight': 'balanced', 'gamma': ...           0.144444   \n65  {'C': 10, 'class_weight': 'balanced', 'gamma':...           0.122222   \n41  {'C': 1.5, 'class_weight': 'balanced', 'gamma'...           0.066667   \n17  {'C': 0.1, 'class_weight': 'balanced', 'gamma'...           0.062963   \n29  {'C': 1, 'class_weight': 'balanced', 'gamma': ...           0.066667   \n\n    split1_test_score  split2_test_score  split3_test_score  \\\n70           0.848148           0.885185           0.884758   \n64           0.851852           0.862963           0.873606   \n58           0.811111           0.818519           0.821561   \n52           0.785185           0.792593           0.817844   \n63           0.700000           0.755556           0.754647   \n..                ...                ...                ...   \n53           0.148148           0.137037           0.126394   \n65           0.140741           0.129630           0.100372   \n41           0.085185           0.081481           0.078067   \n17           0.066667           0.062963           0.059480   \n29           0.070370           0.044444           0.063197   \n\n    split4_test_score  mean_test_score  std_test_score  rank_test_score  \n70           0.862454         0.876109        0.018419                1  \n64           0.851301         0.863500        0.010870                2  \n58           0.802974         0.816018        0.008116                3  \n52           0.802974         0.808608        0.021007                4  \n63           0.665428         0.721052        0.034438                5  \n..                ...              ...             ...              ...  \n53           0.092937         0.129792        0.019869               68  \n65           0.085502         0.115693        0.020052               69  \n41           0.085502         0.079380        0.006913               70  \n17           0.059480         0.062310        0.002678               71  \n29           0.055762         0.060088        0.009188               72  \n\n[72 rows x 18 columns]",
      "text/html": "<div>\n<style scoped>\n    .dataframe tbody tr th:only-of-type {\n        vertical-align: middle;\n    }\n\n    .dataframe tbody tr th {\n        vertical-align: top;\n    }\n\n    .dataframe thead th {\n        text-align: right;\n    }\n</style>\n<table border=\"1\" class=\"dataframe\">\n  <thead>\n    <tr style=\"text-align: right;\">\n      <th></th>\n      <th>mean_fit_time</th>\n      <th>std_fit_time</th>\n      <th>mean_score_time</th>\n      <th>std_score_time</th>\n      <th>param_C</th>\n      <th>param_class_weight</th>\n      <th>param_gamma</th>\n      <th>param_kernel</th>\n      <th>param_random_state</th>\n      <th>params</th>\n      <th>split0_test_score</th>\n      <th>split1_test_score</th>\n      <th>split2_test_score</th>\n      <th>split3_test_score</th>\n      <th>split4_test_score</th>\n      <th>mean_test_score</th>\n      <th>std_test_score</th>\n      <th>rank_test_score</th>\n    </tr>\n  </thead>\n  <tbody>\n    <tr>\n      <th>70</th>\n      <td>0.613378</td>\n      <td>0.007596</td>\n      <td>0.050519</td>\n      <td>0.002169</td>\n      <td>10</td>\n      <td>None</td>\n      <td>auto</td>\n      <td>rbf</td>\n      <td>21</td>\n      <td>{'C': 10, 'class_weight': None, 'gamma': 'auto...</td>\n      <td>0.900000</td>\n      <td>0.848148</td>\n      <td>0.885185</td>\n      <td>0.884758</td>\n      <td>0.862454</td>\n      <td>0.876109</td>\n      <td>0.018419</td>\n      <td>1</td>\n    </tr>\n    <tr>\n      <th>64</th>\n      <td>0.623640</td>\n      <td>0.019038</td>\n      <td>0.048734</td>\n      <td>0.002958</td>\n      <td>10</td>\n      <td>balanced</td>\n      <td>auto</td>\n      <td>rbf</td>\n      <td>21</td>\n      <td>{'C': 10, 'class_weight': 'balanced', 'gamma':...</td>\n      <td>0.877778</td>\n      <td>0.851852</td>\n      <td>0.862963</td>\n      <td>0.873606</td>\n      <td>0.851301</td>\n      <td>0.863500</td>\n      <td>0.010870</td>\n      <td>2</td>\n    </tr>\n    <tr>\n      <th>58</th>\n      <td>0.584752</td>\n      <td>0.003328</td>\n      <td>0.053590</td>\n      <td>0.001347</td>\n      <td>5</td>\n      <td>None</td>\n      <td>auto</td>\n      <td>rbf</td>\n      <td>21</td>\n      <td>{'C': 5, 'class_weight': None, 'gamma': 'auto'...</td>\n      <td>0.825926</td>\n      <td>0.811111</td>\n      <td>0.818519</td>\n      <td>0.821561</td>\n      <td>0.802974</td>\n      <td>0.816018</td>\n      <td>0.008116</td>\n      <td>3</td>\n    </tr>\n    <tr>\n      <th>52</th>\n      <td>0.645369</td>\n      <td>0.051781</td>\n      <td>0.052683</td>\n      <td>0.003182</td>\n      <td>5</td>\n      <td>balanced</td>\n      <td>auto</td>\n      <td>rbf</td>\n      <td>21</td>\n      <td>{'C': 5, 'class_weight': 'balanced', 'gamma': ...</td>\n      <td>0.844444</td>\n      <td>0.785185</td>\n      <td>0.792593</td>\n      <td>0.817844</td>\n      <td>0.802974</td>\n      <td>0.808608</td>\n      <td>0.021007</td>\n      <td>4</td>\n    </tr>\n    <tr>\n      <th>63</th>\n      <td>40.380071</td>\n      <td>3.841671</td>\n      <td>0.012323</td>\n      <td>0.002868</td>\n      <td>10</td>\n      <td>balanced</td>\n      <td>auto</td>\n      <td>linear</td>\n      <td>21</td>\n      <td>{'C': 10, 'class_weight': 'balanced', 'gamma':...</td>\n      <td>0.729630</td>\n      <td>0.700000</td>\n      <td>0.755556</td>\n      <td>0.754647</td>\n      <td>0.665428</td>\n      <td>0.721052</td>\n      <td>0.034438</td>\n      <td>5</td>\n    </tr>\n    <tr>\n      <th>...</th>\n      <td>...</td>\n      <td>...</td>\n      <td>...</td>\n      <td>...</td>\n      <td>...</td>\n      <td>...</td>\n      <td>...</td>\n      <td>...</td>\n      <td>...</td>\n      <td>...</td>\n      <td>...</td>\n      <td>...</td>\n      <td>...</td>\n      <td>...</td>\n      <td>...</td>\n      <td>...</td>\n      <td>...</td>\n      <td>...</td>\n    </tr>\n    <tr>\n      <th>53</th>\n      <td>0.694997</td>\n      <td>0.015029</td>\n      <td>0.023512</td>\n      <td>0.000871</td>\n      <td>5</td>\n      <td>balanced</td>\n      <td>auto</td>\n      <td>sigmoid</td>\n      <td>21</td>\n      <td>{'C': 5, 'class_weight': 'balanced', 'gamma': ...</td>\n      <td>0.144444</td>\n      <td>0.148148</td>\n      <td>0.137037</td>\n      <td>0.126394</td>\n      <td>0.092937</td>\n      <td>0.129792</td>\n      <td>0.019869</td>\n      <td>68</td>\n    </tr>\n    <tr>\n      <th>65</th>\n      <td>0.639987</td>\n      <td>0.012794</td>\n      <td>0.021906</td>\n      <td>0.001392</td>\n      <td>10</td>\n      <td>balanced</td>\n      <td>auto</td>\n      <td>sigmoid</td>\n      <td>21</td>\n      <td>{'C': 10, 'class_weight': 'balanced', 'gamma':...</td>\n      <td>0.122222</td>\n      <td>0.140741</td>\n      <td>0.129630</td>\n      <td>0.100372</td>\n      <td>0.085502</td>\n      <td>0.115693</td>\n      <td>0.020052</td>\n      <td>69</td>\n    </tr>\n    <tr>\n      <th>41</th>\n      <td>0.826463</td>\n      <td>0.088883</td>\n      <td>0.027910</td>\n      <td>0.010234</td>\n      <td>1.5</td>\n      <td>balanced</td>\n      <td>auto</td>\n      <td>sigmoid</td>\n      <td>21</td>\n      <td>{'C': 1.5, 'class_weight': 'balanced', 'gamma'...</td>\n      <td>0.066667</td>\n      <td>0.085185</td>\n      <td>0.081481</td>\n      <td>0.078067</td>\n      <td>0.085502</td>\n      <td>0.079380</td>\n      <td>0.006913</td>\n      <td>70</td>\n    </tr>\n    <tr>\n      <th>17</th>\n      <td>0.831809</td>\n      <td>0.012850</td>\n      <td>0.025087</td>\n      <td>0.003729</td>\n      <td>0.1</td>\n      <td>balanced</td>\n      <td>auto</td>\n      <td>sigmoid</td>\n      <td>21</td>\n      <td>{'C': 0.1, 'class_weight': 'balanced', 'gamma'...</td>\n      <td>0.062963</td>\n      <td>0.066667</td>\n      <td>0.062963</td>\n      <td>0.059480</td>\n      <td>0.059480</td>\n      <td>0.062310</td>\n      <td>0.002678</td>\n      <td>71</td>\n    </tr>\n    <tr>\n      <th>29</th>\n      <td>0.971899</td>\n      <td>0.117874</td>\n      <td>0.025670</td>\n      <td>0.002349</td>\n      <td>1</td>\n      <td>balanced</td>\n      <td>auto</td>\n      <td>sigmoid</td>\n      <td>21</td>\n      <td>{'C': 1, 'class_weight': 'balanced', 'gamma': ...</td>\n      <td>0.066667</td>\n      <td>0.070370</td>\n      <td>0.044444</td>\n      <td>0.063197</td>\n      <td>0.055762</td>\n      <td>0.060088</td>\n      <td>0.009188</td>\n      <td>72</td>\n    </tr>\n  </tbody>\n</table>\n<p>72 rows × 18 columns</p>\n</div>"
     },
     "execution_count": 10,
     "metadata": {},
     "output_type": "execute_result"
    }
   ]
  },
  {
   "cell_type": "code",
   "metadata": {
    "id": "oaeHHckFyUqC"
   },
   "source": [],
   "execution_count": null,
   "outputs": []
  },
  {
   "cell_type": "code",
   "metadata": {
    "id": "Z_CDXonkyUqC"
   },
   "source": [],
   "execution_count": null,
   "outputs": []
  },
  {
   "cell_type": "code",
   "metadata": {
    "id": "R4AwI3cbyUqC"
   },
   "source": [],
   "execution_count": null,
   "outputs": []
  },
  {
   "cell_type": "markdown",
   "metadata": {
    "id": "a3w4FpldyUqC"
   },
   "source": [
    "## 3. Decision tree"
   ]
  },
  {
   "cell_type": "markdown",
   "metadata": {
    "id": "ELqxX9sXyUqD"
   },
   "source": [
    "1. Using `GridSearchCV` try different parameters of `max_depth` (from `1` to `49`), `class_weight` (`balanced`, `None`) and `criterion` (`entropy` and `gini`) and get the best combination of them in terms of accuracy. Use `random_state=21`.\n",
    "2. Create a dataframe from the results of the gridsearch and sort it ascendingly by the `rank_test_score`, check if there is a huge difference between different combinations (sometimes a simpler model may give a comparable result)."
   ]
  },
  {
   "cell_type": "code",
   "metadata": {
    "id": "Q6YmUeUqyUqD"
   },
   "source": [
    "model_tree = DecisionTreeClassifier()\n",
    "param_grid = {'criterion': ['gini','entropy'],\n",
    "              'max_depth': np.arange(1, 50),\n",
    "              'class_weight': ['balanced', None],\n",
    "              'random_state': [21]}\n",
    "gs_tree = GridSearchCV(model_tree, param_grid, scoring='accuracy', n_jobs=-1)\n",
    "gs_tree.fit(X_train, y_train)"
   ],
   "execution_count": 11,
   "outputs": [
    {
     "ename": "NameError",
     "evalue": "name 'DecisionTreeClassifier' is not defined",
     "output_type": "error",
     "traceback": [
      "\u001B[0;31m---------------------------------------------------------------------------\u001B[0m",
      "\u001B[0;31mNameError\u001B[0m                                 Traceback (most recent call last)",
      "\u001B[0;32m/var/folders/zz/zyxvpxvq6csfxvn_n003vlyr00ywzp/T/ipykernel_90933/3008990308.py\u001B[0m in \u001B[0;36m<module>\u001B[0;34m\u001B[0m\n\u001B[0;32m----> 1\u001B[0;31m \u001B[0mmodel_tree\u001B[0m \u001B[0;34m=\u001B[0m \u001B[0mDecisionTreeClassifier\u001B[0m\u001B[0;34m(\u001B[0m\u001B[0;34m)\u001B[0m\u001B[0;34m\u001B[0m\u001B[0;34m\u001B[0m\u001B[0m\n\u001B[0m\u001B[1;32m      2\u001B[0m param_grid = {'criterion': ['gini','entropy'],\n\u001B[1;32m      3\u001B[0m               \u001B[0;34m'max_depth'\u001B[0m\u001B[0;34m:\u001B[0m \u001B[0mnp\u001B[0m\u001B[0;34m.\u001B[0m\u001B[0marange\u001B[0m\u001B[0;34m(\u001B[0m\u001B[0;36m1\u001B[0m\u001B[0;34m,\u001B[0m \u001B[0;36m50\u001B[0m\u001B[0;34m)\u001B[0m\u001B[0;34m,\u001B[0m\u001B[0;34m\u001B[0m\u001B[0;34m\u001B[0m\u001B[0m\n\u001B[1;32m      4\u001B[0m               \u001B[0;34m'class_weight'\u001B[0m\u001B[0;34m:\u001B[0m \u001B[0;34m[\u001B[0m\u001B[0;34m'balanced'\u001B[0m\u001B[0;34m,\u001B[0m \u001B[0;32mNone\u001B[0m\u001B[0;34m]\u001B[0m\u001B[0;34m,\u001B[0m\u001B[0;34m\u001B[0m\u001B[0;34m\u001B[0m\u001B[0m\n\u001B[1;32m      5\u001B[0m               'random_state': [21]}\n",
      "\u001B[0;31mNameError\u001B[0m: name 'DecisionTreeClassifier' is not defined"
     ]
    }
   ]
  },
  {
   "cell_type": "code",
   "metadata": {
    "id": "7barDuTYyUqD"
   },
   "source": [
    "gs_tree.best_score_"
   ],
   "execution_count": null,
   "outputs": []
  },
  {
   "cell_type": "code",
   "execution_count": null,
   "outputs": [],
   "source": [
    "results = pd.DataFrame(gs_tree.cv_results_)\n",
    "results = results.sort_values('rank_test_score')\n",
    "results"
   ],
   "metadata": {
    "collapsed": false,
    "pycharm": {
     "name": "#%%\n"
    }
   }
  },
  {
   "cell_type": "code",
   "metadata": {
    "id": "Txy-LhV5yUqD"
   },
   "source": [],
   "execution_count": null,
   "outputs": []
  },
  {
   "cell_type": "code",
   "metadata": {
    "id": "IKBNKOqfyUqD"
   },
   "source": [],
   "execution_count": null,
   "outputs": []
  },
  {
   "cell_type": "code",
   "metadata": {
    "id": "CHac1Ml0yUqE"
   },
   "source": [],
   "execution_count": null,
   "outputs": []
  },
  {
   "cell_type": "markdown",
   "metadata": {
    "id": "dLFxJKtiyUqE"
   },
   "source": [
    "## 4. Random forest"
   ]
  },
  {
   "cell_type": "markdown",
   "metadata": {
    "id": "V6ADE7RuyUqE"
   },
   "source": [
    "1. Using `GridSearchCV` try different parameters of `n_estimators` (`5`, `10`, `50`, `100`), `max_depth` (from `1` to `49`), `class_weight` (`balanced`, `None`) and `criterion` (`entropy` and `gini`) and get the best combination of them in terms of accuracy. Use random_state=21.\n",
    "2. Create a dataframe from the results of the gridsearch and sort it ascendengly by the `rank_test_score`, check if there is a huge difference between different combinations (sometimes a simpler model may give a comparable result)."
   ]
  },
  {
   "cell_type": "code",
   "metadata": {
    "id": "VOyEfEctyUqE"
   },
   "source": [
    "model_random_forest = RandomForestClassifier()\n",
    "param_grid = {'n_estimators': [5, 10, 50, 100],\n",
    "              'criterion': ['gini','entropy'],\n",
    "              'max_depth': np.arange(1, 50),\n",
    "              'class_weight': ['balanced', None],\n",
    "              'random_state': [21]}\n",
    "gs_random_forest = GridSearchCV(model_random_forest, param_grid, scoring='accuracy', n_jobs=-1)\n",
    "gs_random_forest.fit(X_train, y_train)"
   ],
   "execution_count": null,
   "outputs": []
  },
  {
   "cell_type": "code",
   "metadata": {
    "id": "otVWJ4CqyUqE"
   },
   "source": [
    "gs_random_forest.best_score_\n"
   ],
   "execution_count": null,
   "outputs": []
  },
  {
   "cell_type": "code",
   "metadata": {
    "id": "y8CPm8gTyUqE"
   },
   "source": [
    "results = pd.DataFrame(gs_random_forest.cv_results_)\n",
    "results = results.sort_values('rank_test_score')\n",
    "results"
   ],
   "execution_count": null,
   "outputs": []
  },
  {
   "cell_type": "code",
   "metadata": {
    "id": "YuU50GSQyUqF"
   },
   "source": [],
   "execution_count": null,
   "outputs": []
  },
  {
   "cell_type": "code",
   "metadata": {
    "id": "KkrTpWNoyUqF"
   },
   "source": [],
   "execution_count": null,
   "outputs": []
  },
  {
   "cell_type": "code",
   "metadata": {
    "id": "Wi2t0DNqyUqF"
   },
   "source": [],
   "execution_count": null,
   "outputs": []
  },
  {
   "cell_type": "markdown",
   "metadata": {
    "id": "WWa7ucWxyUqF"
   },
   "source": [
    "## 5. Progress bar"
   ]
  },
  {
   "cell_type": "markdown",
   "metadata": {
    "id": "u2Q8KPBiyUqF"
   },
   "source": [
    "Gridsearch can be a quite long process and you may find yourself wondering when it will end.\n",
    "1. Create a manual gridsearch for the same parameters values of random forest iterating through the list of the possible values and calculating `cross_val_score` for each combination. Try to increase `n_jobs`. The value `cv` for `cross_val_score` is 5.\n",
    "2. Track the progress using the library `tqdm.notebook`.\n",
    "3. Create a dataframe from the results of the gridsearch with the columns corresponding to the names of the parameters and `mean_accuracy` and `std_accuracy`.\n",
    "4. Sort it descendingly by the `mean_accuracy`, check if there is a huge difference between different combinations (sometimes a simpler model may give a comparable result)."
   ]
  },
  {
   "cell_type": "code",
   "metadata": {
    "id": "a1x6AdqTyUqG"
   },
   "source": [
    "grid = list(ParameterGrid(param_grid))\n",
    "frame =[]\n",
    "\n",
    "\n",
    "for param in tqdm(grid):\n",
    "  model_random_forest.set_params(**param)\n",
    "  scores = cross_val_score(model_random_forest, X_train, y_train, cv=5, n_jobs=-1)\n",
    "  param['mean_accuracy'] = np.mean(scores)\n",
    "  param['std_accuracy'] = np.std(scores)\n",
    "  frame.append(param)\n"
   ],
   "execution_count": null,
   "outputs": []
  },
  {
   "cell_type": "code",
   "metadata": {
    "id": "UCBvyIm-yUqG"
   },
   "source": [
    "pd.DataFrame(frame).sort_values('mean_accuracy')\n"
   ],
   "execution_count": null,
   "outputs": []
  },
  {
   "cell_type": "code",
   "metadata": {
    "id": "pXNzb1QnyUqG"
   },
   "source": [],
   "execution_count": null,
   "outputs": []
  },
  {
   "cell_type": "markdown",
   "metadata": {
    "id": "SQMTOQynyUqG"
   },
   "source": [
    "## 6. Predictions"
   ]
  },
  {
   "cell_type": "markdown",
   "metadata": {
    "id": "FF5VVXbGyUqG"
   },
   "source": [
    "1. Choose the best model and use it to make predictions for the test dataset.\n",
    "2. Calculate the final accuracy."
   ]
  },
  {
   "cell_type": "code",
   "metadata": {
    "id": "-vW7NVMOyUqG"
   },
   "source": [
    "model_random_tree = RandomForestClassifier(n_estimators=50, max_depth=32, random_state=21, criterion='gini')\n",
    "cv = StratifiedKFold(n_splits=10)\n",
    "X_train, X_test, y_train, y_test = train_test_split(X, y, test_size=0.2, random_state=21, stratify=y)\n",
    "model_random_tree.fit(X_train, y_train)\n",
    "pred = model_random_tree.predict(X_test)\n",
    "accuracy_score(y_test, pred)"
   ],
   "execution_count": null,
   "outputs": []
  },
  {
   "cell_type": "code",
   "metadata": {
    "id": "qO--d7bmyUqG"
   },
   "source": [
    ""
   ],
   "execution_count": null,
   "outputs": []
  },
  {
   "cell_type": "code",
   "metadata": {
    "id": "ed7SrIi7yUqH"
   },
   "source": [
    ""
   ],
   "execution_count": null,
   "outputs": []
  }
 ]
}