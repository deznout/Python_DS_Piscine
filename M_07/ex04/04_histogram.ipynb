{
 "cells": [
  {
   "cell_type": "code",
   "execution_count": 1,
   "metadata": {
    "collapsed": true
   },
   "outputs": [],
   "source": [
    "import pandas as pd\n",
    "import sqlite3\n",
    "import matplotlib.pyplot as plt"
   ]
  },
  {
   "cell_type": "code",
   "execution_count": 2,
   "outputs": [
    {
     "data": {
      "text/plain": "   cid       name       type  notnull dflt_value  pk\n0    0      index    INTEGER        0       None   0\n1    1     status       TEXT        0       None   0\n2    2    success    INTEGER        0       None   0\n3    3  timestamp  TIMESTAMP        0       None   0\n4    4  numTrials    INTEGER        0       None   0\n5    5    labname       TEXT        0       None   0\n6    6        uid       TEXT        0       None   0",
      "text/html": "<div>\n<style scoped>\n    .dataframe tbody tr th:only-of-type {\n        vertical-align: middle;\n    }\n\n    .dataframe tbody tr th {\n        vertical-align: top;\n    }\n\n    .dataframe thead th {\n        text-align: right;\n    }\n</style>\n<table border=\"1\" class=\"dataframe\">\n  <thead>\n    <tr style=\"text-align: right;\">\n      <th></th>\n      <th>cid</th>\n      <th>name</th>\n      <th>type</th>\n      <th>notnull</th>\n      <th>dflt_value</th>\n      <th>pk</th>\n    </tr>\n  </thead>\n  <tbody>\n    <tr>\n      <th>0</th>\n      <td>0</td>\n      <td>index</td>\n      <td>INTEGER</td>\n      <td>0</td>\n      <td>None</td>\n      <td>0</td>\n    </tr>\n    <tr>\n      <th>1</th>\n      <td>1</td>\n      <td>status</td>\n      <td>TEXT</td>\n      <td>0</td>\n      <td>None</td>\n      <td>0</td>\n    </tr>\n    <tr>\n      <th>2</th>\n      <td>2</td>\n      <td>success</td>\n      <td>INTEGER</td>\n      <td>0</td>\n      <td>None</td>\n      <td>0</td>\n    </tr>\n    <tr>\n      <th>3</th>\n      <td>3</td>\n      <td>timestamp</td>\n      <td>TIMESTAMP</td>\n      <td>0</td>\n      <td>None</td>\n      <td>0</td>\n    </tr>\n    <tr>\n      <th>4</th>\n      <td>4</td>\n      <td>numTrials</td>\n      <td>INTEGER</td>\n      <td>0</td>\n      <td>None</td>\n      <td>0</td>\n    </tr>\n    <tr>\n      <th>5</th>\n      <td>5</td>\n      <td>labname</td>\n      <td>TEXT</td>\n      <td>0</td>\n      <td>None</td>\n      <td>0</td>\n    </tr>\n    <tr>\n      <th>6</th>\n      <td>6</td>\n      <td>uid</td>\n      <td>TEXT</td>\n      <td>0</td>\n      <td>None</td>\n      <td>0</td>\n    </tr>\n  </tbody>\n</table>\n</div>"
     },
     "execution_count": 2,
     "metadata": {},
     "output_type": "execute_result"
    }
   ],
   "source": [
    "connect_db = sqlite3.connect('../data/checking-logs.sqlite.sqlite')\n",
    "query = 'PRAGMA table_info(checker);'\n",
    "pd.io.sql.read_sql(query, connect_db)"
   ],
   "metadata": {
    "collapsed": false,
    "pycharm": {
     "name": "#%%\n"
    }
   }
  },
  {
   "cell_type": "code",
   "execution_count": 3,
   "outputs": [
    {
     "data": {
      "text/plain": "      uid                  timestamp\n0  user_4 2020-04-17 05:19:02.744528\n1  user_4 2020-04-17 05:22:35.249331\n2  user_4 2020-04-17 05:22:45.549397\n3  user_4 2020-04-17 05:34:14.691200\n4  user_4 2020-04-17 05:34:24.422370",
      "text/html": "<div>\n<style scoped>\n    .dataframe tbody tr th:only-of-type {\n        vertical-align: middle;\n    }\n\n    .dataframe tbody tr th {\n        vertical-align: top;\n    }\n\n    .dataframe thead th {\n        text-align: right;\n    }\n</style>\n<table border=\"1\" class=\"dataframe\">\n  <thead>\n    <tr style=\"text-align: right;\">\n      <th></th>\n      <th>uid</th>\n      <th>timestamp</th>\n    </tr>\n  </thead>\n  <tbody>\n    <tr>\n      <th>0</th>\n      <td>user_4</td>\n      <td>2020-04-17 05:19:02.744528</td>\n    </tr>\n    <tr>\n      <th>1</th>\n      <td>user_4</td>\n      <td>2020-04-17 05:22:35.249331</td>\n    </tr>\n    <tr>\n      <th>2</th>\n      <td>user_4</td>\n      <td>2020-04-17 05:22:45.549397</td>\n    </tr>\n    <tr>\n      <th>3</th>\n      <td>user_4</td>\n      <td>2020-04-17 05:34:14.691200</td>\n    </tr>\n    <tr>\n      <th>4</th>\n      <td>user_4</td>\n      <td>2020-04-17 05:34:24.422370</td>\n    </tr>\n  </tbody>\n</table>\n</div>"
     },
     "execution_count": 3,
     "metadata": {},
     "output_type": "execute_result"
    }
   ],
   "source": [
    "query = '''\n",
    "        select uid, timestamp from checker where uid like 'user_%'\n",
    "        '''\n",
    "df = pd.io.sql.read_sql(query, connect_db, parse_dates=['timestamp'])\n",
    "df.head()"
   ],
   "metadata": {
    "collapsed": false,
    "pycharm": {
     "name": "#%%\n"
    }
   }
  },
  {
   "cell_type": "code",
   "execution_count": 4,
   "outputs": [
    {
     "data": {
      "text/plain": "         uid  day  weekday  hour\n0     user_4   17        4     5\n1     user_4   17        4     5\n2     user_4   17        4     5\n3     user_4   17        4     5\n4     user_4   17        4     5\n...      ...  ...      ...   ...\n3202  user_1   21        3    20\n3203  user_1   21        3    20\n3204  user_1   21        3    20\n3205  user_1   21        3    20\n3206  user_1   21        3    20\n\n[3207 rows x 4 columns]",
      "text/html": "<div>\n<style scoped>\n    .dataframe tbody tr th:only-of-type {\n        vertical-align: middle;\n    }\n\n    .dataframe tbody tr th {\n        vertical-align: top;\n    }\n\n    .dataframe thead th {\n        text-align: right;\n    }\n</style>\n<table border=\"1\" class=\"dataframe\">\n  <thead>\n    <tr style=\"text-align: right;\">\n      <th></th>\n      <th>uid</th>\n      <th>day</th>\n      <th>weekday</th>\n      <th>hour</th>\n    </tr>\n  </thead>\n  <tbody>\n    <tr>\n      <th>0</th>\n      <td>user_4</td>\n      <td>17</td>\n      <td>4</td>\n      <td>5</td>\n    </tr>\n    <tr>\n      <th>1</th>\n      <td>user_4</td>\n      <td>17</td>\n      <td>4</td>\n      <td>5</td>\n    </tr>\n    <tr>\n      <th>2</th>\n      <td>user_4</td>\n      <td>17</td>\n      <td>4</td>\n      <td>5</td>\n    </tr>\n    <tr>\n      <th>3</th>\n      <td>user_4</td>\n      <td>17</td>\n      <td>4</td>\n      <td>5</td>\n    </tr>\n    <tr>\n      <th>4</th>\n      <td>user_4</td>\n      <td>17</td>\n      <td>4</td>\n      <td>5</td>\n    </tr>\n    <tr>\n      <th>...</th>\n      <td>...</td>\n      <td>...</td>\n      <td>...</td>\n      <td>...</td>\n    </tr>\n    <tr>\n      <th>3202</th>\n      <td>user_1</td>\n      <td>21</td>\n      <td>3</td>\n      <td>20</td>\n    </tr>\n    <tr>\n      <th>3203</th>\n      <td>user_1</td>\n      <td>21</td>\n      <td>3</td>\n      <td>20</td>\n    </tr>\n    <tr>\n      <th>3204</th>\n      <td>user_1</td>\n      <td>21</td>\n      <td>3</td>\n      <td>20</td>\n    </tr>\n    <tr>\n      <th>3205</th>\n      <td>user_1</td>\n      <td>21</td>\n      <td>3</td>\n      <td>20</td>\n    </tr>\n    <tr>\n      <th>3206</th>\n      <td>user_1</td>\n      <td>21</td>\n      <td>3</td>\n      <td>20</td>\n    </tr>\n  </tbody>\n</table>\n<p>3207 rows × 4 columns</p>\n</div>"
     },
     "execution_count": 4,
     "metadata": {},
     "output_type": "execute_result"
    }
   ],
   "source": [
    "df['day'] = df.timestamp.dt.day\n",
    "df['weekday'] = df.timestamp.dt.dayofweek\n",
    "df['hour'] = df.timestamp.dt.hour\n",
    "df.drop('timestamp', axis=1, inplace=True)\n",
    "df"
   ],
   "metadata": {
    "collapsed": false,
    "pycharm": {
     "name": "#%%\n"
    }
   }
  },
  {
   "cell_type": "code",
   "execution_count": 5,
   "outputs": [
    {
     "data": {
      "text/plain": "         uid  day      weekday  hour\n0     user_4   17  working_day     5\n1     user_4   17  working_day     5\n2     user_4   17  working_day     5\n3     user_4   17  working_day     5\n4     user_4   17  working_day     5\n...      ...  ...          ...   ...\n3202  user_1   21  working_day    20\n3203  user_1   21  working_day    20\n3204  user_1   21  working_day    20\n3205  user_1   21  working_day    20\n3206  user_1   21  working_day    20\n\n[3207 rows x 4 columns]",
      "text/html": "<div>\n<style scoped>\n    .dataframe tbody tr th:only-of-type {\n        vertical-align: middle;\n    }\n\n    .dataframe tbody tr th {\n        vertical-align: top;\n    }\n\n    .dataframe thead th {\n        text-align: right;\n    }\n</style>\n<table border=\"1\" class=\"dataframe\">\n  <thead>\n    <tr style=\"text-align: right;\">\n      <th></th>\n      <th>uid</th>\n      <th>day</th>\n      <th>weekday</th>\n      <th>hour</th>\n    </tr>\n  </thead>\n  <tbody>\n    <tr>\n      <th>0</th>\n      <td>user_4</td>\n      <td>17</td>\n      <td>working_day</td>\n      <td>5</td>\n    </tr>\n    <tr>\n      <th>1</th>\n      <td>user_4</td>\n      <td>17</td>\n      <td>working_day</td>\n      <td>5</td>\n    </tr>\n    <tr>\n      <th>2</th>\n      <td>user_4</td>\n      <td>17</td>\n      <td>working_day</td>\n      <td>5</td>\n    </tr>\n    <tr>\n      <th>3</th>\n      <td>user_4</td>\n      <td>17</td>\n      <td>working_day</td>\n      <td>5</td>\n    </tr>\n    <tr>\n      <th>4</th>\n      <td>user_4</td>\n      <td>17</td>\n      <td>working_day</td>\n      <td>5</td>\n    </tr>\n    <tr>\n      <th>...</th>\n      <td>...</td>\n      <td>...</td>\n      <td>...</td>\n      <td>...</td>\n    </tr>\n    <tr>\n      <th>3202</th>\n      <td>user_1</td>\n      <td>21</td>\n      <td>working_day</td>\n      <td>20</td>\n    </tr>\n    <tr>\n      <th>3203</th>\n      <td>user_1</td>\n      <td>21</td>\n      <td>working_day</td>\n      <td>20</td>\n    </tr>\n    <tr>\n      <th>3204</th>\n      <td>user_1</td>\n      <td>21</td>\n      <td>working_day</td>\n      <td>20</td>\n    </tr>\n    <tr>\n      <th>3205</th>\n      <td>user_1</td>\n      <td>21</td>\n      <td>working_day</td>\n      <td>20</td>\n    </tr>\n    <tr>\n      <th>3206</th>\n      <td>user_1</td>\n      <td>21</td>\n      <td>working_day</td>\n      <td>20</td>\n    </tr>\n  </tbody>\n</table>\n<p>3207 rows × 4 columns</p>\n</div>"
     },
     "execution_count": 5,
     "metadata": {},
     "output_type": "execute_result"
    }
   ],
   "source": [
    "ds = df\n",
    "\n",
    "ds.loc[df['weekday'] < 5, 'weekday'] = 'working_day'\n",
    "ds.loc[df['weekday'] != 'working_day', 'weekday'] = 'weekend'\n",
    "ds"
   ],
   "metadata": {
    "collapsed": false,
    "pycharm": {
     "name": "#%%\n"
    }
   }
  },
  {
   "cell_type": "code",
   "execution_count": 6,
   "outputs": [
    {
     "data": {
      "text/plain": "          uid  day  weekday  hour\n23    user_17   18  weekend     7\n24    user_30   18  weekend    13\n25     user_2   18  weekend    13\n26     user_2   18  weekend    13\n27     user_2   18  weekend    13\n...       ...  ...      ...   ...\n3088  user_16   17  weekend    22\n3089  user_16   17  weekend    22\n3090  user_16   17  weekend    22\n3091  user_16   17  weekend    22\n3092  user_16   17  weekend    22\n\n[1170 rows x 4 columns]",
      "text/html": "<div>\n<style scoped>\n    .dataframe tbody tr th:only-of-type {\n        vertical-align: middle;\n    }\n\n    .dataframe tbody tr th {\n        vertical-align: top;\n    }\n\n    .dataframe thead th {\n        text-align: right;\n    }\n</style>\n<table border=\"1\" class=\"dataframe\">\n  <thead>\n    <tr style=\"text-align: right;\">\n      <th></th>\n      <th>uid</th>\n      <th>day</th>\n      <th>weekday</th>\n      <th>hour</th>\n    </tr>\n  </thead>\n  <tbody>\n    <tr>\n      <th>23</th>\n      <td>user_17</td>\n      <td>18</td>\n      <td>weekend</td>\n      <td>7</td>\n    </tr>\n    <tr>\n      <th>24</th>\n      <td>user_30</td>\n      <td>18</td>\n      <td>weekend</td>\n      <td>13</td>\n    </tr>\n    <tr>\n      <th>25</th>\n      <td>user_2</td>\n      <td>18</td>\n      <td>weekend</td>\n      <td>13</td>\n    </tr>\n    <tr>\n      <th>26</th>\n      <td>user_2</td>\n      <td>18</td>\n      <td>weekend</td>\n      <td>13</td>\n    </tr>\n    <tr>\n      <th>27</th>\n      <td>user_2</td>\n      <td>18</td>\n      <td>weekend</td>\n      <td>13</td>\n    </tr>\n    <tr>\n      <th>...</th>\n      <td>...</td>\n      <td>...</td>\n      <td>...</td>\n      <td>...</td>\n    </tr>\n    <tr>\n      <th>3088</th>\n      <td>user_16</td>\n      <td>17</td>\n      <td>weekend</td>\n      <td>22</td>\n    </tr>\n    <tr>\n      <th>3089</th>\n      <td>user_16</td>\n      <td>17</td>\n      <td>weekend</td>\n      <td>22</td>\n    </tr>\n    <tr>\n      <th>3090</th>\n      <td>user_16</td>\n      <td>17</td>\n      <td>weekend</td>\n      <td>22</td>\n    </tr>\n    <tr>\n      <th>3091</th>\n      <td>user_16</td>\n      <td>17</td>\n      <td>weekend</td>\n      <td>22</td>\n    </tr>\n    <tr>\n      <th>3092</th>\n      <td>user_16</td>\n      <td>17</td>\n      <td>weekend</td>\n      <td>22</td>\n    </tr>\n  </tbody>\n</table>\n<p>1170 rows × 4 columns</p>\n</div>"
     },
     "execution_count": 6,
     "metadata": {},
     "output_type": "execute_result"
    }
   ],
   "source": [
    "ds_weekend = ds[ds.weekday == 'weekend']\n",
    "ds_weekend"
   ],
   "metadata": {
    "collapsed": false,
    "pycharm": {
     "name": "#%%\n"
    }
   }
  },
  {
   "cell_type": "code",
   "execution_count": 7,
   "outputs": [
    {
     "data": {
      "text/plain": "         uid  day      weekday  hour\n0     user_4   17  working_day     5\n1     user_4   17  working_day     5\n2     user_4   17  working_day     5\n3     user_4   17  working_day     5\n4     user_4   17  working_day     5\n...      ...  ...          ...   ...\n3202  user_1   21  working_day    20\n3203  user_1   21  working_day    20\n3204  user_1   21  working_day    20\n3205  user_1   21  working_day    20\n3206  user_1   21  working_day    20\n\n[2037 rows x 4 columns]",
      "text/html": "<div>\n<style scoped>\n    .dataframe tbody tr th:only-of-type {\n        vertical-align: middle;\n    }\n\n    .dataframe tbody tr th {\n        vertical-align: top;\n    }\n\n    .dataframe thead th {\n        text-align: right;\n    }\n</style>\n<table border=\"1\" class=\"dataframe\">\n  <thead>\n    <tr style=\"text-align: right;\">\n      <th></th>\n      <th>uid</th>\n      <th>day</th>\n      <th>weekday</th>\n      <th>hour</th>\n    </tr>\n  </thead>\n  <tbody>\n    <tr>\n      <th>0</th>\n      <td>user_4</td>\n      <td>17</td>\n      <td>working_day</td>\n      <td>5</td>\n    </tr>\n    <tr>\n      <th>1</th>\n      <td>user_4</td>\n      <td>17</td>\n      <td>working_day</td>\n      <td>5</td>\n    </tr>\n    <tr>\n      <th>2</th>\n      <td>user_4</td>\n      <td>17</td>\n      <td>working_day</td>\n      <td>5</td>\n    </tr>\n    <tr>\n      <th>3</th>\n      <td>user_4</td>\n      <td>17</td>\n      <td>working_day</td>\n      <td>5</td>\n    </tr>\n    <tr>\n      <th>4</th>\n      <td>user_4</td>\n      <td>17</td>\n      <td>working_day</td>\n      <td>5</td>\n    </tr>\n    <tr>\n      <th>...</th>\n      <td>...</td>\n      <td>...</td>\n      <td>...</td>\n      <td>...</td>\n    </tr>\n    <tr>\n      <th>3202</th>\n      <td>user_1</td>\n      <td>21</td>\n      <td>working_day</td>\n      <td>20</td>\n    </tr>\n    <tr>\n      <th>3203</th>\n      <td>user_1</td>\n      <td>21</td>\n      <td>working_day</td>\n      <td>20</td>\n    </tr>\n    <tr>\n      <th>3204</th>\n      <td>user_1</td>\n      <td>21</td>\n      <td>working_day</td>\n      <td>20</td>\n    </tr>\n    <tr>\n      <th>3205</th>\n      <td>user_1</td>\n      <td>21</td>\n      <td>working_day</td>\n      <td>20</td>\n    </tr>\n    <tr>\n      <th>3206</th>\n      <td>user_1</td>\n      <td>21</td>\n      <td>working_day</td>\n      <td>20</td>\n    </tr>\n  </tbody>\n</table>\n<p>2037 rows × 4 columns</p>\n</div>"
     },
     "execution_count": 7,
     "metadata": {},
     "output_type": "execute_result"
    }
   ],
   "source": [
    "working_day = ds[ds.weekday != 'weekend']\n",
    "working_day"
   ],
   "metadata": {
    "collapsed": false,
    "pycharm": {
     "name": "#%%\n"
    }
   }
  },
  {
   "cell_type": "code",
   "execution_count": 8,
   "outputs": [
    {
     "data": {
      "text/plain": "<Figure size 1500x800 with 1 Axes>",
      "image/png": "[encoded data removed]"
     },
     "metadata": {},
     "output_type": "display_data"
    }
   ],
   "source": [
    "fig, ax = plt.subplots(figsize=(15, 8))\n",
    "ax.hist(working_day.hour, bins=24, label='working_day', color='#059ABF')\n",
    "ax.hist(ds_weekend.hour, bins=24, label='weekend', color='red', alpha=0.7)\n",
    "ax.set_xlim(0, 23)\n",
    "ax.legend(loc='upper left', fontsize='10')\n",
    "plt.show()"
   ],
   "metadata": {
    "collapsed": false,
    "pycharm": {
     "name": "#%%\n"
    }
   }
  },
  {
   "cell_type": "code",
   "execution_count": 9,
   "outputs": [
    {
     "data": {
      "text/plain": "    hour_week  count_week  hour_work  count_work  delt\n18         21          72         21         292  -220\n14         17          50         17         192  -142\n16         19         105         19         214  -109\n7          10          28         10         132  -104\n15         18          68         18         167   -99\n13         16          74         16         170   -96\n17         20         117         20         183   -66\n11         14          87         14         122   -35\n12         15         114         15         141   -27\n9          12          57         12          79   -22\n4           7          16          7          31   -15\n2           3           1          5          15   -14\n5           8          28          8          37    -9\n6           9          22          9          30    -8\n3           5           2          6           3    -1\n0           0           6          0           6     0\n1           1           6          3           2     4\n19         22          59         22          45    14\n20         23          32         23          15    17\n8          11         118         11          88    30\n10         13         108         13          73    35",
      "text/html": "<div>\n<style scoped>\n    .dataframe tbody tr th:only-of-type {\n        vertical-align: middle;\n    }\n\n    .dataframe tbody tr th {\n        vertical-align: top;\n    }\n\n    .dataframe thead th {\n        text-align: right;\n    }\n</style>\n<table border=\"1\" class=\"dataframe\">\n  <thead>\n    <tr style=\"text-align: right;\">\n      <th></th>\n      <th>hour_week</th>\n      <th>count_week</th>\n      <th>hour_work</th>\n      <th>count_work</th>\n      <th>delt</th>\n    </tr>\n  </thead>\n  <tbody>\n    <tr>\n      <th>18</th>\n      <td>21</td>\n      <td>72</td>\n      <td>21</td>\n      <td>292</td>\n      <td>-220</td>\n    </tr>\n    <tr>\n      <th>14</th>\n      <td>17</td>\n      <td>50</td>\n      <td>17</td>\n      <td>192</td>\n      <td>-142</td>\n    </tr>\n    <tr>\n      <th>16</th>\n      <td>19</td>\n      <td>105</td>\n      <td>19</td>\n      <td>214</td>\n      <td>-109</td>\n    </tr>\n    <tr>\n      <th>7</th>\n      <td>10</td>\n      <td>28</td>\n      <td>10</td>\n      <td>132</td>\n      <td>-104</td>\n    </tr>\n    <tr>\n      <th>15</th>\n      <td>18</td>\n      <td>68</td>\n      <td>18</td>\n      <td>167</td>\n      <td>-99</td>\n    </tr>\n    <tr>\n      <th>13</th>\n      <td>16</td>\n      <td>74</td>\n      <td>16</td>\n      <td>170</td>\n      <td>-96</td>\n    </tr>\n    <tr>\n      <th>17</th>\n      <td>20</td>\n      <td>117</td>\n      <td>20</td>\n      <td>183</td>\n      <td>-66</td>\n    </tr>\n    <tr>\n      <th>11</th>\n      <td>14</td>\n      <td>87</td>\n      <td>14</td>\n      <td>122</td>\n      <td>-35</td>\n    </tr>\n    <tr>\n      <th>12</th>\n      <td>15</td>\n      <td>114</td>\n      <td>15</td>\n      <td>141</td>\n      <td>-27</td>\n    </tr>\n    <tr>\n      <th>9</th>\n      <td>12</td>\n      <td>57</td>\n      <td>12</td>\n      <td>79</td>\n      <td>-22</td>\n    </tr>\n    <tr>\n      <th>4</th>\n      <td>7</td>\n      <td>16</td>\n      <td>7</td>\n      <td>31</td>\n      <td>-15</td>\n    </tr>\n    <tr>\n      <th>2</th>\n      <td>3</td>\n      <td>1</td>\n      <td>5</td>\n      <td>15</td>\n      <td>-14</td>\n    </tr>\n    <tr>\n      <th>5</th>\n      <td>8</td>\n      <td>28</td>\n      <td>8</td>\n      <td>37</td>\n      <td>-9</td>\n    </tr>\n    <tr>\n      <th>6</th>\n      <td>9</td>\n      <td>22</td>\n      <td>9</td>\n      <td>30</td>\n      <td>-8</td>\n    </tr>\n    <tr>\n      <th>3</th>\n      <td>5</td>\n      <td>2</td>\n      <td>6</td>\n      <td>3</td>\n      <td>-1</td>\n    </tr>\n    <tr>\n      <th>0</th>\n      <td>0</td>\n      <td>6</td>\n      <td>0</td>\n      <td>6</td>\n      <td>0</td>\n    </tr>\n    <tr>\n      <th>1</th>\n      <td>1</td>\n      <td>6</td>\n      <td>3</td>\n      <td>2</td>\n      <td>4</td>\n    </tr>\n    <tr>\n      <th>19</th>\n      <td>22</td>\n      <td>59</td>\n      <td>22</td>\n      <td>45</td>\n      <td>14</td>\n    </tr>\n    <tr>\n      <th>20</th>\n      <td>23</td>\n      <td>32</td>\n      <td>23</td>\n      <td>15</td>\n      <td>17</td>\n    </tr>\n    <tr>\n      <th>8</th>\n      <td>11</td>\n      <td>118</td>\n      <td>11</td>\n      <td>88</td>\n      <td>30</td>\n    </tr>\n    <tr>\n      <th>10</th>\n      <td>13</td>\n      <td>108</td>\n      <td>13</td>\n      <td>73</td>\n      <td>35</td>\n    </tr>\n  </tbody>\n</table>\n</div>"
     },
     "execution_count": 9,
     "metadata": {},
     "output_type": "execute_result"
    }
   ],
   "source": [
    "ds_group_week = ds_weekend.groupby('hour').count()['uid'].reset_index()\n",
    "ds_group_work = working_day.groupby('hour').count()['uid'].reset_index()\n",
    "df_cont = pd.concat([ds_group_week, ds_group_work],axis= 1)\n",
    "df_cont.columns = ['hour_week', 'count_week', 'hour_work','count_work']\n",
    "df_cont['delt'] = df_cont.count_week - df_cont.count_work\n",
    "df_cont.sort_values('delt')"
   ],
   "metadata": {
    "collapsed": false,
    "pycharm": {
     "name": "#%%\n"
    }
   }
  },
  {
   "cell_type": "code",
   "execution_count": 11,
   "outputs": [],
   "source": [
    "connect_db.close()"
   ],
   "metadata": {
    "collapsed": false,
    "pycharm": {
     "name": "#%%\n"
    }
   }
  },
  {
   "cell_type": "code",
   "execution_count": null,
   "outputs": [],
   "source": [],
   "metadata": {
    "collapsed": false,
    "pycharm": {
     "name": "#%%\n"
    }
   }
  }
 ],
 "metadata": {
  "kernelspec": {
   "display_name": "Python 3",
   "language": "python",
   "name": "python3"
  },
  "language_info": {
   "codemirror_mode": {
    "name": "ipython",
    "version": 2
   },
   "file_extension": ".py",
   "mimetype": "text/x-python",
   "name": "python",
   "nbconvert_exporter": "python",
   "pygments_lexer": "ipython2",
   "version": "2.7.6"
  }
 },
 "nbformat": 4,
 "nbformat_minor": 0
}