{
 "cells": [
  {
   "cell_type": "code",
   "execution_count": 1,
   "metadata": {
    "collapsed": true
   },
   "outputs": [],
   "source": [
    "import pandas as pd\n",
    "import sqlite3"
   ]
  },
  {
   "cell_type": "code",
   "execution_count": 2,
   "outputs": [
    {
     "data": {
      "text/plain": "   cid       name       type  notnull dflt_value  pk\n0    0      index    INTEGER        0       None   0\n1    1     status       TEXT        0       None   0\n2    2    success    INTEGER        0       None   0\n3    3  timestamp  TIMESTAMP        0       None   0\n4    4  numTrials    INTEGER        0       None   0\n5    5    labname       TEXT        0       None   0\n6    6        uid       TEXT        0       None   0",
      "text/html": "<div>\n<style scoped>\n    .dataframe tbody tr th:only-of-type {\n        vertical-align: middle;\n    }\n\n    .dataframe tbody tr th {\n        vertical-align: top;\n    }\n\n    .dataframe thead th {\n        text-align: right;\n    }\n</style>\n<table border=\"1\" class=\"dataframe\">\n  <thead>\n    <tr style=\"text-align: right;\">\n      <th></th>\n      <th>cid</th>\n      <th>name</th>\n      <th>type</th>\n      <th>notnull</th>\n      <th>dflt_value</th>\n      <th>pk</th>\n    </tr>\n  </thead>\n  <tbody>\n    <tr>\n      <th>0</th>\n      <td>0</td>\n      <td>index</td>\n      <td>INTEGER</td>\n      <td>0</td>\n      <td>None</td>\n      <td>0</td>\n    </tr>\n    <tr>\n      <th>1</th>\n      <td>1</td>\n      <td>status</td>\n      <td>TEXT</td>\n      <td>0</td>\n      <td>None</td>\n      <td>0</td>\n    </tr>\n    <tr>\n      <th>2</th>\n      <td>2</td>\n      <td>success</td>\n      <td>INTEGER</td>\n      <td>0</td>\n      <td>None</td>\n      <td>0</td>\n    </tr>\n    <tr>\n      <th>3</th>\n      <td>3</td>\n      <td>timestamp</td>\n      <td>TIMESTAMP</td>\n      <td>0</td>\n      <td>None</td>\n      <td>0</td>\n    </tr>\n    <tr>\n      <th>4</th>\n      <td>4</td>\n      <td>numTrials</td>\n      <td>INTEGER</td>\n      <td>0</td>\n      <td>None</td>\n      <td>0</td>\n    </tr>\n    <tr>\n      <th>5</th>\n      <td>5</td>\n      <td>labname</td>\n      <td>TEXT</td>\n      <td>0</td>\n      <td>None</td>\n      <td>0</td>\n    </tr>\n    <tr>\n      <th>6</th>\n      <td>6</td>\n      <td>uid</td>\n      <td>TEXT</td>\n      <td>0</td>\n      <td>None</td>\n      <td>0</td>\n    </tr>\n  </tbody>\n</table>\n</div>"
     },
     "execution_count": 2,
     "metadata": {},
     "output_type": "execute_result"
    }
   ],
   "source": [
    "connect_db = sqlite3.connect('../data/checking-logs.sqlite.sqlite')\n",
    "query = 'PRAGMA table_info(checker);'\n",
    "pd.io.sql.read_sql(query, connect_db)"
   ],
   "metadata": {
    "collapsed": false,
    "pycharm": {
     "name": "#%%\n"
    }
   }
  },
  {
   "cell_type": "code",
   "execution_count": 3,
   "outputs": [
    {
     "data": {
      "text/plain": "      uid                  timestamp\n0  user_4 2020-04-17 05:19:02.744528\n1  user_4 2020-04-17 05:22:35.249331\n2  user_4 2020-04-17 05:22:45.549397\n3  user_4 2020-04-17 05:34:14.691200\n4  user_4 2020-04-17 05:34:24.422370",
      "text/html": "<div>\n<style scoped>\n    .dataframe tbody tr th:only-of-type {\n        vertical-align: middle;\n    }\n\n    .dataframe tbody tr th {\n        vertical-align: top;\n    }\n\n    .dataframe thead th {\n        text-align: right;\n    }\n</style>\n<table border=\"1\" class=\"dataframe\">\n  <thead>\n    <tr style=\"text-align: right;\">\n      <th></th>\n      <th>uid</th>\n      <th>timestamp</th>\n    </tr>\n  </thead>\n  <tbody>\n    <tr>\n      <th>0</th>\n      <td>user_4</td>\n      <td>2020-04-17 05:19:02.744528</td>\n    </tr>\n    <tr>\n      <th>1</th>\n      <td>user_4</td>\n      <td>2020-04-17 05:22:35.249331</td>\n    </tr>\n    <tr>\n      <th>2</th>\n      <td>user_4</td>\n      <td>2020-04-17 05:22:45.549397</td>\n    </tr>\n    <tr>\n      <th>3</th>\n      <td>user_4</td>\n      <td>2020-04-17 05:34:14.691200</td>\n    </tr>\n    <tr>\n      <th>4</th>\n      <td>user_4</td>\n      <td>2020-04-17 05:34:24.422370</td>\n    </tr>\n  </tbody>\n</table>\n</div>"
     },
     "execution_count": 3,
     "metadata": {},
     "output_type": "execute_result"
    }
   ],
   "source": [
    "query = '''\n",
    "        select uid, timestamp from checker where uid like 'user_%'\n",
    "        '''\n",
    "df = pd.io.sql.read_sql(query, connect_db, parse_dates=['timestamp'])\n",
    "df.head()"
   ],
   "metadata": {
    "collapsed": false,
    "pycharm": {
     "name": "#%%\n"
    }
   }
  },
  {
   "cell_type": "code",
   "execution_count": 4,
   "outputs": [
    {
     "data": {
      "text/plain": "         uid  day  weekday  hour\n0     user_4   17        4     5\n1     user_4   17        4     5\n2     user_4   17        4     5\n3     user_4   17        4     5\n4     user_4   17        4     5\n...      ...  ...      ...   ...\n3202  user_1   21        3    20\n3203  user_1   21        3    20\n3204  user_1   21        3    20\n3205  user_1   21        3    20\n3206  user_1   21        3    20\n\n[3207 rows x 4 columns]",
      "text/html": "<div>\n<style scoped>\n    .dataframe tbody tr th:only-of-type {\n        vertical-align: middle;\n    }\n\n    .dataframe tbody tr th {\n        vertical-align: top;\n    }\n\n    .dataframe thead th {\n        text-align: right;\n    }\n</style>\n<table border=\"1\" class=\"dataframe\">\n  <thead>\n    <tr style=\"text-align: right;\">\n      <th></th>\n      <th>uid</th>\n      <th>day</th>\n      <th>weekday</th>\n      <th>hour</th>\n    </tr>\n  </thead>\n  <tbody>\n    <tr>\n      <th>0</th>\n      <td>user_4</td>\n      <td>17</td>\n      <td>4</td>\n      <td>5</td>\n    </tr>\n    <tr>\n      <th>1</th>\n      <td>user_4</td>\n      <td>17</td>\n      <td>4</td>\n      <td>5</td>\n    </tr>\n    <tr>\n      <th>2</th>\n      <td>user_4</td>\n      <td>17</td>\n      <td>4</td>\n      <td>5</td>\n    </tr>\n    <tr>\n      <th>3</th>\n      <td>user_4</td>\n      <td>17</td>\n      <td>4</td>\n      <td>5</td>\n    </tr>\n    <tr>\n      <th>4</th>\n      <td>user_4</td>\n      <td>17</td>\n      <td>4</td>\n      <td>5</td>\n    </tr>\n    <tr>\n      <th>...</th>\n      <td>...</td>\n      <td>...</td>\n      <td>...</td>\n      <td>...</td>\n    </tr>\n    <tr>\n      <th>3202</th>\n      <td>user_1</td>\n      <td>21</td>\n      <td>3</td>\n      <td>20</td>\n    </tr>\n    <tr>\n      <th>3203</th>\n      <td>user_1</td>\n      <td>21</td>\n      <td>3</td>\n      <td>20</td>\n    </tr>\n    <tr>\n      <th>3204</th>\n      <td>user_1</td>\n      <td>21</td>\n      <td>3</td>\n      <td>20</td>\n    </tr>\n    <tr>\n      <th>3205</th>\n      <td>user_1</td>\n      <td>21</td>\n      <td>3</td>\n      <td>20</td>\n    </tr>\n    <tr>\n      <th>3206</th>\n      <td>user_1</td>\n      <td>21</td>\n      <td>3</td>\n      <td>20</td>\n    </tr>\n  </tbody>\n</table>\n<p>3207 rows × 4 columns</p>\n</div>"
     },
     "execution_count": 4,
     "metadata": {},
     "output_type": "execute_result"
    }
   ],
   "source": [
    "df['day'] = df.timestamp.dt.day\n",
    "df['weekday'] = df.timestamp.dt.dayofweek\n",
    "df['hour'] = df.timestamp.dt.hour\n",
    "df.drop('timestamp', axis=1, inplace=True)\n",
    "df"
   ],
   "metadata": {
    "collapsed": false,
    "pycharm": {
     "name": "#%%\n"
    }
   }
  },
  {
   "cell_type": "code",
   "execution_count": 5,
   "outputs": [],
   "source": [
    "ds = df\n",
    "\n",
    "ds.loc[df['weekday'] < 5, 'weekday'] = 'working_day'\n",
    "ds.loc[df['weekday'] != 'working_day', 'weekday'] = 'weekend'"
   ],
   "metadata": {
    "collapsed": false,
    "pycharm": {
     "name": "#%%\n"
    }
   }
  },
  {
   "cell_type": "code",
   "execution_count": 6,
   "outputs": [
    {
     "data": {
      "text/plain": "        weekday  hour        uid\n0       weekend     0   2.000000\n1       weekend     1   6.000000\n2       weekend     3   1.000000\n3       weekend     5   2.000000\n4       weekend     7   4.000000\n5       weekend     8   7.000000\n6       weekend     9   3.666667\n7       weekend    10   7.000000\n8       weekend    11  23.600000\n9       weekend    12   9.500000\n10      weekend    13  18.000000\n11      weekend    14  12.428571\n12      weekend    15  14.250000\n13      weekend    16  14.800000\n14      weekend    17   7.142857\n15      weekend    18   9.714286\n16      weekend    19  13.125000\n17      weekend    20  13.000000\n18      weekend    21  10.285714\n19      weekend    22   9.833333\n20      weekend    23   6.400000\n21  working_day     0   3.000000\n22  working_day     3   2.000000\n23  working_day     5   7.500000\n24  working_day     6   1.500000\n25  working_day     7   5.166667\n26  working_day     8   3.700000\n27  working_day     9   6.000000\n28  working_day    10  13.200000\n29  working_day    11   6.769231\n30  working_day    12   7.181818\n31  working_day    13   8.111111\n32  working_day    14  11.090909\n33  working_day    15  14.100000\n34  working_day    16  18.888889\n35  working_day    17  17.454545\n36  working_day    18  16.700000\n37  working_day    19  19.454545\n38  working_day    20  15.250000\n39  working_day    21  24.333333\n40  working_day    22   3.750000\n41  working_day    23   5.000000",
      "text/html": "<div>\n<style scoped>\n    .dataframe tbody tr th:only-of-type {\n        vertical-align: middle;\n    }\n\n    .dataframe tbody tr th {\n        vertical-align: top;\n    }\n\n    .dataframe thead th {\n        text-align: right;\n    }\n</style>\n<table border=\"1\" class=\"dataframe\">\n  <thead>\n    <tr style=\"text-align: right;\">\n      <th></th>\n      <th>weekday</th>\n      <th>hour</th>\n      <th>uid</th>\n    </tr>\n  </thead>\n  <tbody>\n    <tr>\n      <th>0</th>\n      <td>weekend</td>\n      <td>0</td>\n      <td>2.000000</td>\n    </tr>\n    <tr>\n      <th>1</th>\n      <td>weekend</td>\n      <td>1</td>\n      <td>6.000000</td>\n    </tr>\n    <tr>\n      <th>2</th>\n      <td>weekend</td>\n      <td>3</td>\n      <td>1.000000</td>\n    </tr>\n    <tr>\n      <th>3</th>\n      <td>weekend</td>\n      <td>5</td>\n      <td>2.000000</td>\n    </tr>\n    <tr>\n      <th>4</th>\n      <td>weekend</td>\n      <td>7</td>\n      <td>4.000000</td>\n    </tr>\n    <tr>\n      <th>5</th>\n      <td>weekend</td>\n      <td>8</td>\n      <td>7.000000</td>\n    </tr>\n    <tr>\n      <th>6</th>\n      <td>weekend</td>\n      <td>9</td>\n      <td>3.666667</td>\n    </tr>\n    <tr>\n      <th>7</th>\n      <td>weekend</td>\n      <td>10</td>\n      <td>7.000000</td>\n    </tr>\n    <tr>\n      <th>8</th>\n      <td>weekend</td>\n      <td>11</td>\n      <td>23.600000</td>\n    </tr>\n    <tr>\n      <th>9</th>\n      <td>weekend</td>\n      <td>12</td>\n      <td>9.500000</td>\n    </tr>\n    <tr>\n      <th>10</th>\n      <td>weekend</td>\n      <td>13</td>\n      <td>18.000000</td>\n    </tr>\n    <tr>\n      <th>11</th>\n      <td>weekend</td>\n      <td>14</td>\n      <td>12.428571</td>\n    </tr>\n    <tr>\n      <th>12</th>\n      <td>weekend</td>\n      <td>15</td>\n      <td>14.250000</td>\n    </tr>\n    <tr>\n      <th>13</th>\n      <td>weekend</td>\n      <td>16</td>\n      <td>14.800000</td>\n    </tr>\n    <tr>\n      <th>14</th>\n      <td>weekend</td>\n      <td>17</td>\n      <td>7.142857</td>\n    </tr>\n    <tr>\n      <th>15</th>\n      <td>weekend</td>\n      <td>18</td>\n      <td>9.714286</td>\n    </tr>\n    <tr>\n      <th>16</th>\n      <td>weekend</td>\n      <td>19</td>\n      <td>13.125000</td>\n    </tr>\n    <tr>\n      <th>17</th>\n      <td>weekend</td>\n      <td>20</td>\n      <td>13.000000</td>\n    </tr>\n    <tr>\n      <th>18</th>\n      <td>weekend</td>\n      <td>21</td>\n      <td>10.285714</td>\n    </tr>\n    <tr>\n      <th>19</th>\n      <td>weekend</td>\n      <td>22</td>\n      <td>9.833333</td>\n    </tr>\n    <tr>\n      <th>20</th>\n      <td>weekend</td>\n      <td>23</td>\n      <td>6.400000</td>\n    </tr>\n    <tr>\n      <th>21</th>\n      <td>working_day</td>\n      <td>0</td>\n      <td>3.000000</td>\n    </tr>\n    <tr>\n      <th>22</th>\n      <td>working_day</td>\n      <td>3</td>\n      <td>2.000000</td>\n    </tr>\n    <tr>\n      <th>23</th>\n      <td>working_day</td>\n      <td>5</td>\n      <td>7.500000</td>\n    </tr>\n    <tr>\n      <th>24</th>\n      <td>working_day</td>\n      <td>6</td>\n      <td>1.500000</td>\n    </tr>\n    <tr>\n      <th>25</th>\n      <td>working_day</td>\n      <td>7</td>\n      <td>5.166667</td>\n    </tr>\n    <tr>\n      <th>26</th>\n      <td>working_day</td>\n      <td>8</td>\n      <td>3.700000</td>\n    </tr>\n    <tr>\n      <th>27</th>\n      <td>working_day</td>\n      <td>9</td>\n      <td>6.000000</td>\n    </tr>\n    <tr>\n      <th>28</th>\n      <td>working_day</td>\n      <td>10</td>\n      <td>13.200000</td>\n    </tr>\n    <tr>\n      <th>29</th>\n      <td>working_day</td>\n      <td>11</td>\n      <td>6.769231</td>\n    </tr>\n    <tr>\n      <th>30</th>\n      <td>working_day</td>\n      <td>12</td>\n      <td>7.181818</td>\n    </tr>\n    <tr>\n      <th>31</th>\n      <td>working_day</td>\n      <td>13</td>\n      <td>8.111111</td>\n    </tr>\n    <tr>\n      <th>32</th>\n      <td>working_day</td>\n      <td>14</td>\n      <td>11.090909</td>\n    </tr>\n    <tr>\n      <th>33</th>\n      <td>working_day</td>\n      <td>15</td>\n      <td>14.100000</td>\n    </tr>\n    <tr>\n      <th>34</th>\n      <td>working_day</td>\n      <td>16</td>\n      <td>18.888889</td>\n    </tr>\n    <tr>\n      <th>35</th>\n      <td>working_day</td>\n      <td>17</td>\n      <td>17.454545</td>\n    </tr>\n    <tr>\n      <th>36</th>\n      <td>working_day</td>\n      <td>18</td>\n      <td>16.700000</td>\n    </tr>\n    <tr>\n      <th>37</th>\n      <td>working_day</td>\n      <td>19</td>\n      <td>19.454545</td>\n    </tr>\n    <tr>\n      <th>38</th>\n      <td>working_day</td>\n      <td>20</td>\n      <td>15.250000</td>\n    </tr>\n    <tr>\n      <th>39</th>\n      <td>working_day</td>\n      <td>21</td>\n      <td>24.333333</td>\n    </tr>\n    <tr>\n      <th>40</th>\n      <td>working_day</td>\n      <td>22</td>\n      <td>3.750000</td>\n    </tr>\n    <tr>\n      <th>41</th>\n      <td>working_day</td>\n      <td>23</td>\n      <td>5.000000</td>\n    </tr>\n  </tbody>\n</table>\n</div>"
     },
     "execution_count": 6,
     "metadata": {},
     "output_type": "execute_result"
    }
   ],
   "source": [
    "group_by = ds.groupby(['weekday', 'day', 'hour']).count()\n",
    "group_by_new = group_by.groupby(['weekday','hour']).mean()['uid'].reset_index()\n",
    "group_by_new"
   ],
   "metadata": {
    "collapsed": false,
    "pycharm": {
     "name": "#%%\n"
    }
   }
  },
  {
   "cell_type": "code",
   "execution_count": 7,
   "outputs": [
    {
     "data": {
      "text/plain": "        weekend  working_day\nhour                        \n0      2.000000     3.000000\n1      6.000000          NaN\n2           NaN          NaN\n3      1.000000     2.000000\n4           NaN          NaN\n5      2.000000     7.500000\n6           NaN     1.500000\n7      4.000000     5.166667\n8      7.000000     3.700000\n9      3.666667     6.000000\n10     7.000000    13.200000\n11    23.600000     6.769231\n12     9.500000     7.181818\n13    18.000000     8.111111\n14    12.428571    11.090909\n15    14.250000    14.100000\n16    14.800000    18.888889\n17     7.142857    17.454545\n18     9.714286    16.700000\n19    13.125000    19.454545\n20    13.000000    15.250000\n21    10.285714    24.333333\n22     9.833333     3.750000\n23     6.400000     5.000000",
      "text/html": "<div>\n<style scoped>\n    .dataframe tbody tr th:only-of-type {\n        vertical-align: middle;\n    }\n\n    .dataframe tbody tr th {\n        vertical-align: top;\n    }\n\n    .dataframe thead th {\n        text-align: right;\n    }\n</style>\n<table border=\"1\" class=\"dataframe\">\n  <thead>\n    <tr style=\"text-align: right;\">\n      <th></th>\n      <th>weekend</th>\n      <th>working_day</th>\n    </tr>\n    <tr>\n      <th>hour</th>\n      <th></th>\n      <th></th>\n    </tr>\n  </thead>\n  <tbody>\n    <tr>\n      <th>0</th>\n      <td>2.000000</td>\n      <td>3.000000</td>\n    </tr>\n    <tr>\n      <th>1</th>\n      <td>6.000000</td>\n      <td>NaN</td>\n    </tr>\n    <tr>\n      <th>2</th>\n      <td>NaN</td>\n      <td>NaN</td>\n    </tr>\n    <tr>\n      <th>3</th>\n      <td>1.000000</td>\n      <td>2.000000</td>\n    </tr>\n    <tr>\n      <th>4</th>\n      <td>NaN</td>\n      <td>NaN</td>\n    </tr>\n    <tr>\n      <th>5</th>\n      <td>2.000000</td>\n      <td>7.500000</td>\n    </tr>\n    <tr>\n      <th>6</th>\n      <td>NaN</td>\n      <td>1.500000</td>\n    </tr>\n    <tr>\n      <th>7</th>\n      <td>4.000000</td>\n      <td>5.166667</td>\n    </tr>\n    <tr>\n      <th>8</th>\n      <td>7.000000</td>\n      <td>3.700000</td>\n    </tr>\n    <tr>\n      <th>9</th>\n      <td>3.666667</td>\n      <td>6.000000</td>\n    </tr>\n    <tr>\n      <th>10</th>\n      <td>7.000000</td>\n      <td>13.200000</td>\n    </tr>\n    <tr>\n      <th>11</th>\n      <td>23.600000</td>\n      <td>6.769231</td>\n    </tr>\n    <tr>\n      <th>12</th>\n      <td>9.500000</td>\n      <td>7.181818</td>\n    </tr>\n    <tr>\n      <th>13</th>\n      <td>18.000000</td>\n      <td>8.111111</td>\n    </tr>\n    <tr>\n      <th>14</th>\n      <td>12.428571</td>\n      <td>11.090909</td>\n    </tr>\n    <tr>\n      <th>15</th>\n      <td>14.250000</td>\n      <td>14.100000</td>\n    </tr>\n    <tr>\n      <th>16</th>\n      <td>14.800000</td>\n      <td>18.888889</td>\n    </tr>\n    <tr>\n      <th>17</th>\n      <td>7.142857</td>\n      <td>17.454545</td>\n    </tr>\n    <tr>\n      <th>18</th>\n      <td>9.714286</td>\n      <td>16.700000</td>\n    </tr>\n    <tr>\n      <th>19</th>\n      <td>13.125000</td>\n      <td>19.454545</td>\n    </tr>\n    <tr>\n      <th>20</th>\n      <td>13.000000</td>\n      <td>15.250000</td>\n    </tr>\n    <tr>\n      <th>21</th>\n      <td>10.285714</td>\n      <td>24.333333</td>\n    </tr>\n    <tr>\n      <th>22</th>\n      <td>9.833333</td>\n      <td>3.750000</td>\n    </tr>\n    <tr>\n      <th>23</th>\n      <td>6.400000</td>\n      <td>5.000000</td>\n    </tr>\n  </tbody>\n</table>\n</div>"
     },
     "execution_count": 7,
     "metadata": {},
     "output_type": "execute_result"
    }
   ],
   "source": [
    "pivot_table = pd.pivot(group_by_new, values='uid',index='hour', columns='weekday')\n",
    "hour = pd.DataFrame([i for i in range(0, 24)], columns=['hour'])\n",
    "pivot_table = hour.merge(pivot_table, how='left', on='hour').set_index('hour')\n",
    "pivot_table"
   ],
   "metadata": {
    "collapsed": false,
    "pycharm": {
     "name": "#%%\n"
    }
   }
  },
  {
   "cell_type": "code",
   "execution_count": 8,
   "outputs": [
    {
     "data": {
      "text/plain": "<Figure size 1500x800 with 2 Axes>",
      "image/png": "[encoded data removed]"
     },
     "metadata": {},
     "output_type": "display_data"
    }
   ],
   "source": [
    "plot = pivot_table.plot(kind='bar', figsize= (15,8), title = 'Commits per hour', fontsize=8, xlabel = 'hour', rot = 90, color = ['#00008B', 'red'], sharex=True, subplots=True)"
   ],
   "metadata": {
    "collapsed": false,
    "pycharm": {
     "name": "#%%\n"
    }
   }
  },
  {
   "cell_type": "code",
   "execution_count": 9,
   "outputs": [
    {
     "data": {
      "text/plain": "        weekend  working_day\nhour                        \n21    10.285714    24.333333",
      "text/html": "<div>\n<style scoped>\n    .dataframe tbody tr th:only-of-type {\n        vertical-align: middle;\n    }\n\n    .dataframe tbody tr th {\n        vertical-align: top;\n    }\n\n    .dataframe thead th {\n        text-align: right;\n    }\n</style>\n<table border=\"1\" class=\"dataframe\">\n  <thead>\n    <tr style=\"text-align: right;\">\n      <th></th>\n      <th>weekend</th>\n      <th>working_day</th>\n    </tr>\n    <tr>\n      <th>hour</th>\n      <th></th>\n      <th></th>\n    </tr>\n  </thead>\n  <tbody>\n    <tr>\n      <th>21</th>\n      <td>10.285714</td>\n      <td>24.333333</td>\n    </tr>\n  </tbody>\n</table>\n</div>"
     },
     "execution_count": 9,
     "metadata": {},
     "output_type": "execute_result"
    }
   ],
   "source": [
    "pivot_table[pivot_table.working_day == pivot_table.working_day.max()]"
   ],
   "metadata": {
    "collapsed": false,
    "pycharm": {
     "name": "#%%\n"
    }
   }
  },
  {
   "cell_type": "code",
   "execution_count": 10,
   "outputs": [
    {
     "data": {
      "text/plain": "      weekend  working_day\nhour                      \n11       23.6     6.769231",
      "text/html": "<div>\n<style scoped>\n    .dataframe tbody tr th:only-of-type {\n        vertical-align: middle;\n    }\n\n    .dataframe tbody tr th {\n        vertical-align: top;\n    }\n\n    .dataframe thead th {\n        text-align: right;\n    }\n</style>\n<table border=\"1\" class=\"dataframe\">\n  <thead>\n    <tr style=\"text-align: right;\">\n      <th></th>\n      <th>weekend</th>\n      <th>working_day</th>\n    </tr>\n    <tr>\n      <th>hour</th>\n      <th></th>\n      <th></th>\n    </tr>\n  </thead>\n  <tbody>\n    <tr>\n      <th>11</th>\n      <td>23.6</td>\n      <td>6.769231</td>\n    </tr>\n  </tbody>\n</table>\n</div>"
     },
     "execution_count": 10,
     "metadata": {},
     "output_type": "execute_result"
    }
   ],
   "source": [
    "pivot_table[pivot_table.weekend == pivot_table.weekend.max()]"
   ],
   "metadata": {
    "collapsed": false,
    "pycharm": {
     "name": "#%%\n"
    }
   }
  },
  {
   "cell_type": "code",
   "execution_count": 11,
   "outputs": [],
   "source": [
    "connect_db.close()"
   ],
   "metadata": {
    "collapsed": false,
    "pycharm": {
     "name": "#%%\n"
    }
   }
  },
  {
   "cell_type": "code",
   "execution_count": null,
   "outputs": [],
   "source": [],
   "metadata": {
    "collapsed": false,
    "pycharm": {
     "name": "#%%\n"
    }
   }
  }
 ],
 "metadata": {
  "kernelspec": {
   "display_name": "Python 3",
   "language": "python",
   "name": "python3"
  },
  "language_info": {
   "codemirror_mode": {
    "name": "ipython",
    "version": 2
   },
   "file_extension": ".py",
   "mimetype": "text/x-python",
   "name": "python",
   "nbconvert_exporter": "python",
   "pygments_lexer": "ipython2",
   "version": "2.7.6"
  }
 },
 "nbformat": 4,
 "nbformat_minor": 0
}